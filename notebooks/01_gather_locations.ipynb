{
 "cells": [
  {
   "cell_type": "code",
   "execution_count": 1,
   "metadata": {
    "ExecuteTime": {
     "end_time": "2020-03-05T15:12:46.001997Z",
     "start_time": "2020-03-05T15:12:45.997306Z"
    }
   },
   "outputs": [],
   "source": [
    "import sys\n",
    "sys.path.append('..')"
   ]
  },
  {
   "cell_type": "code",
   "execution_count": 2,
   "metadata": {
    "ExecuteTime": {
     "end_time": "2020-03-05T15:12:46.977479Z",
     "start_time": "2020-03-05T15:12:46.750826Z"
    }
   },
   "outputs": [],
   "source": [
    "from pathlib import Path\n",
    "import sqlite3\n",
    "import regex\n",
    "import numpy as np\n",
    "import pandas as pd\n",
    "import dask.dataframe as dd\n",
    "from tqdm.notebook import tqdm"
   ]
  },
  {
   "cell_type": "code",
   "execution_count": 3,
   "metadata": {
    "ExecuteTime": {
     "end_time": "2020-03-05T15:12:47.430485Z",
     "start_time": "2020-03-05T15:12:47.419969Z"
    }
   },
   "outputs": [],
   "source": [
    "DATA = Path('..') / 'data'\n",
    "PRUNED = DATA / '01_pruned'\n",
    "DB = PRUNED / 'gazetteer.db'\n",
    "\n",
    "CXN = sqlite3.connect(DB)\n",
    "\n",
    "COLS = ['gbifid', 'coreid', 'locality',\n",
    "        'lat', 'lng', 'datum', 'uncert',\n",
    "        'country', 'state', 'county']\n",
    "\n",
    "CHUNK = 1_000_000"
   ]
  },
  {
   "cell_type": "code",
   "execution_count": 4,
   "metadata": {
    "ExecuteTime": {
     "end_time": "2020-03-05T15:12:48.515733Z",
     "start_time": "2020-03-05T15:12:48.502543Z"
    }
   },
   "outputs": [
    {
     "data": {
      "text/plain": [
       "['gazetteer.db',\n",
       " 'insects_gbif.csv.gz',\n",
       " 'insects_idigbio_occurrence_raw.csv.gz',\n",
       " 'mammals_gbif_verbatim.csv.gz',\n",
       " 'mammals_idigbio_occurrence_raw.csv.gz',\n",
       " 'Plants_gbif_idigbio.csv.gz',\n",
       " 'plants_gbif_verbatim.csv.gz',\n",
       " 'plants_idigbio_occurrence_raw.csv.gz']"
      ]
     },
     "execution_count": 4,
     "metadata": {},
     "output_type": "execute_result"
    }
   ],
   "source": [
    "FILES = !ls \"$PRUNED\"\n",
    "FILES"
   ]
  },
  {
   "cell_type": "markdown",
   "metadata": {},
   "source": [
    "## insects_gbif"
   ]
  },
  {
   "cell_type": "code",
   "execution_count": 5,
   "metadata": {
    "ExecuteTime": {
     "end_time": "2020-03-05T15:13:27.697026Z",
     "start_time": "2020-03-05T15:12:49.804103Z"
    }
   },
   "outputs": [
    {
     "data": {
      "text/plain": [
       "Index(['gbifid', 'country', 'locality', 'state', 'lat', 'lng', 'uncert'], dtype='object')"
      ]
     },
     "execution_count": 5,
     "metadata": {},
     "output_type": "execute_result"
    }
   ],
   "source": [
    "in_file = PRUNED / 'insects_gbif.csv.gz'\n",
    "df = pd.read_csv(in_file, dtype=str)\n",
    "df.columns"
   ]
  },
  {
   "cell_type": "code",
   "execution_count": 6,
   "metadata": {
    "ExecuteTime": {
     "end_time": "2020-03-05T15:15:59.191249Z",
     "start_time": "2020-03-05T15:14:17.375594Z"
    },
    "scrolled": true
   },
   "outputs": [],
   "source": [
    "df['coreid'] = ''\n",
    "df['datum'] = ''\n",
    "df['county'] = ''\n",
    "\n",
    "df['lat'] = pd.to_numeric(df['lat'], errors='coerce').fillna(9999.9).astype(float)\n",
    "df['lng'] = pd.to_numeric(df['lng'], errors='coerce').fillna(9999.9).astype(float)\n",
    "df['uncert'] = pd.to_numeric(df['uncert'], errors='coerce').fillna(0.0).astype(float)\n",
    "\n",
    "df['lat'] = df['lat'].round(4)\n",
    "df['lat'] = df['lat'].round(4)\n",
    "df['uncert'] = df['uncert'].round().astype(int)\n",
    "\n",
    "has_locality = df['locality'].notna()\n",
    "has_lat = df['lat'].between(-90.0, 90.0)\n",
    "has_lng = df['lng'].between(-180.0, 180.0)\n",
    "\n",
    "df.loc[has_locality & has_lat & has_lng, COLS].to_sql(\n",
    "    'raw', CXN, if_exists='replace', index=False)"
   ]
  },
  {
   "cell_type": "markdown",
   "metadata": {},
   "source": [
    "## insects_idigbio_occurrence_raw"
   ]
  },
  {
   "cell_type": "code",
   "execution_count": 7,
   "metadata": {
    "ExecuteTime": {
     "end_time": "2020-03-05T15:18:27.281327Z",
     "start_time": "2020-03-05T15:18:01.707017Z"
    }
   },
   "outputs": [
    {
     "data": {
      "text/plain": [
       "Index(['coreid', 'uncert', 'country', 'county', 'lat', 'lng', 'datum',\n",
       "       'locality', 'state', 'locality2'],\n",
       "      dtype='object')"
      ]
     },
     "execution_count": 7,
     "metadata": {},
     "output_type": "execute_result"
    }
   ],
   "source": [
    "in_file = PRUNED / 'insects_idigbio_occurrence_raw.csv.gz'\n",
    "df = pd.read_csv(in_file, dtype=str)\n",
    "df.columns"
   ]
  },
  {
   "cell_type": "code",
   "execution_count": 8,
   "metadata": {
    "ExecuteTime": {
     "end_time": "2020-03-05T15:20:41.496236Z",
     "start_time": "2020-03-05T15:19:20.263936Z"
    }
   },
   "outputs": [],
   "source": [
    "df = pd.read_csv(in_file, dtype=str)\n",
    "\n",
    "df['gbifid'] = ''\n",
    "\n",
    "df['lat'] = pd.to_numeric(df['lat'], errors='coerce').fillna(9999.9).astype(float)\n",
    "df['lng'] = pd.to_numeric(df['lng'], errors='coerce').fillna(9999.9).astype(float)\n",
    "df['uncert'] = pd.to_numeric(df['uncert'], errors='coerce').fillna(0.0).astype(float)\n",
    "\n",
    "df['lat'] = df['lat'].round(4)\n",
    "df['lat'] = df['lat'].round(4)\n",
    "df['uncert'] = df['uncert'].round().astype(int)\n",
    "\n",
    "has_locality = df['locality'].notna()\n",
    "has_lat = df['lat'].between(-90.0, 90.0)\n",
    "has_lng = df['lng'].between(-180.0, 180.0)\n",
    "\n",
    "df.loc[has_locality & has_lat & has_lng, COLS].to_sql(\n",
    "    'raw', CXN, if_exists='append', index=False)"
   ]
  },
  {
   "cell_type": "code",
   "execution_count": 9,
   "metadata": {
    "ExecuteTime": {
     "end_time": "2020-03-05T15:21:34.122066Z",
     "start_time": "2020-03-05T15:21:29.319885Z"
    }
   },
   "outputs": [],
   "source": [
    "df['locality'] = df['locality2']\n",
    "\n",
    "has_locality = df['locality'].notna()\n",
    "\n",
    "df.loc[has_locality & has_lat & has_lng, COLS].to_sql(\n",
    "    'raw', CXN, if_exists='append', index=False)"
   ]
  },
  {
   "cell_type": "markdown",
   "metadata": {},
   "source": [
    "## mammals_gbif_verbatim"
   ]
  },
  {
   "cell_type": "code",
   "execution_count": 10,
   "metadata": {
    "ExecuteTime": {
     "end_time": "2020-03-05T15:22:29.786857Z",
     "start_time": "2020-03-05T15:22:21.229090Z"
    }
   },
   "outputs": [
    {
     "data": {
      "text/plain": [
       "Index(['gbifid', 'country', 'state', 'county', 'locality', 'locality2', 'lat',\n",
       "       'lng', 'datum', 'uncert', 'prec'],\n",
       "      dtype='object')"
      ]
     },
     "execution_count": 10,
     "metadata": {},
     "output_type": "execute_result"
    }
   ],
   "source": [
    "in_file = PRUNED / 'mammals_gbif_verbatim.csv.gz'\n",
    "df = pd.read_csv(in_file, dtype=str)\n",
    "df.columns"
   ]
  },
  {
   "cell_type": "code",
   "execution_count": 11,
   "metadata": {
    "ExecuteTime": {
     "end_time": "2020-03-05T15:25:41.385478Z",
     "start_time": "2020-03-05T15:25:19.555889Z"
    }
   },
   "outputs": [],
   "source": [
    "df = pd.read_csv(in_file, dtype=str)\n",
    "\n",
    "df['coreid'] = ''\n",
    "\n",
    "df['lat'] = pd.to_numeric(df['lat'], errors='coerce').fillna(9999.9).astype(float)\n",
    "df['lng'] = pd.to_numeric(df['lng'], errors='coerce').fillna(9999.9).astype(float)\n",
    "df['uncert'] = pd.to_numeric(df['uncert'], errors='coerce').fillna(0.0).astype(float)\n",
    "\n",
    "df['lat'] = df['lat'].round(4)\n",
    "df['lat'] = df['lat'].round(4)\n",
    "df['uncert'] = df['uncert'].round().astype(int)\n",
    "\n",
    "has_locality = df['locality'].notna()\n",
    "has_lat = df['lat'].between(-90.0, 90.0)\n",
    "has_lng = df['lng'].between(-180.0, 180.0)\n",
    "\n",
    "df.loc[has_locality & has_lat & has_lng, COLS].to_sql(\n",
    "    'raw', CXN, if_exists='append', index=False)"
   ]
  },
  {
   "cell_type": "code",
   "execution_count": 12,
   "metadata": {
    "ExecuteTime": {
     "end_time": "2020-03-05T15:25:50.618657Z",
     "start_time": "2020-03-05T15:25:45.592989Z"
    }
   },
   "outputs": [],
   "source": [
    "df['locality'] = df['locality2']\n",
    "\n",
    "has_locality = df['locality'].notna()\n",
    "\n",
    "df.loc[has_locality & has_lat & has_lng, COLS].to_sql(\n",
    "    'raw', CXN, if_exists='append', index=False)"
   ]
  },
  {
   "cell_type": "markdown",
   "metadata": {},
   "source": [
    "## mammals_idigbio_occurrence_raw"
   ]
  },
  {
   "cell_type": "code",
   "execution_count": 13,
   "metadata": {
    "ExecuteTime": {
     "end_time": "2020-03-05T15:26:58.836514Z",
     "start_time": "2020-03-05T15:26:47.248328Z"
    }
   },
   "outputs": [
    {
     "data": {
      "text/plain": [
       "Index(['coreid', 'prec', 'uncert', 'country', 'county', 'lat', 'lng', 'datum',\n",
       "       'locality', 'state', 'locality2'],\n",
       "      dtype='object')"
      ]
     },
     "execution_count": 13,
     "metadata": {},
     "output_type": "execute_result"
    }
   ],
   "source": [
    "in_file = PRUNED / 'mammals_idigbio_occurrence_raw.csv.gz'\n",
    "df = pd.read_csv(in_file, dtype=str)\n",
    "df.columns"
   ]
  },
  {
   "cell_type": "code",
   "execution_count": 14,
   "metadata": {
    "ExecuteTime": {
     "end_time": "2020-03-05T15:29:51.812404Z",
     "start_time": "2020-03-05T15:29:28.470471Z"
    }
   },
   "outputs": [],
   "source": [
    "df = pd.read_csv(in_file, dtype=str)\n",
    "\n",
    "df['gbifid'] = ''\n",
    "\n",
    "df['lat'] = pd.to_numeric(df['lat'], errors='coerce').fillna(9999.9).astype(float)\n",
    "df['lng'] = pd.to_numeric(df['lng'], errors='coerce').fillna(9999.9).astype(float)\n",
    "df['uncert'] = pd.to_numeric(df['uncert'], errors='coerce').fillna(0.0).astype(float)\n",
    "\n",
    "df['lat'] = df['lat'].round(4)\n",
    "df['lat'] = df['lat'].round(4)\n",
    "df['uncert'] = df['uncert'].round().astype(int)\n",
    "\n",
    "has_locality = df['locality'].notna()\n",
    "has_lat = df['lat'].between(-90.0, 90.0)\n",
    "has_lng = df['lng'].between(-180.0, 180.0)\n",
    "\n",
    "df.loc[has_locality & has_lat & has_lng, COLS].to_sql(\n",
    "    'raw', CXN, if_exists='append', index=False)"
   ]
  },
  {
   "cell_type": "code",
   "execution_count": 15,
   "metadata": {
    "ExecuteTime": {
     "end_time": "2020-03-05T15:29:57.595901Z",
     "start_time": "2020-03-05T15:29:51.813603Z"
    }
   },
   "outputs": [],
   "source": [
    "df['locality'] = df['locality2']\n",
    "\n",
    "has_locality = df['locality'].notna()\n",
    "\n",
    "df.loc[has_locality & has_lat & has_lng, COLS].to_sql(\n",
    "    'raw', CXN, if_exists='append', index=False)"
   ]
  },
  {
   "cell_type": "markdown",
   "metadata": {},
   "source": [
    "## Plants_gbif_idigbio"
   ]
  },
  {
   "cell_type": "code",
   "execution_count": 16,
   "metadata": {
    "ExecuteTime": {
     "end_time": "2020-03-05T15:31:04.460860Z",
     "start_time": "2020-03-05T15:30:07.799553Z"
    }
   },
   "outputs": [
    {
     "data": {
      "text/plain": [
       "Index(['gbifid', 'occurrenceID', 'country', 'locality', 'state', 'lat', 'lng',\n",
       "       'uncert'],\n",
       "      dtype='object')"
      ]
     },
     "execution_count": 16,
     "metadata": {},
     "output_type": "execute_result"
    }
   ],
   "source": [
    "in_file = PRUNED / 'Plants_gbif_idigbio.csv.gz'\n",
    "df = pd.read_csv(in_file, dtype=str)\n",
    "df.columns"
   ]
  },
  {
   "cell_type": "code",
   "execution_count": 17,
   "metadata": {
    "ExecuteTime": {
     "end_time": "2020-03-05T15:34:57.287593Z",
     "start_time": "2020-03-05T15:32:25.435939Z"
    }
   },
   "outputs": [],
   "source": [
    "df = pd.read_csv(in_file, dtype=str)\n",
    "\n",
    "df['coreid'] = ''\n",
    "df['datum'] = ''\n",
    "df['county'] = ''\n",
    "\n",
    "df['lat'] = pd.to_numeric(df['lat'], errors='coerce').fillna(9999.9).astype(float)\n",
    "df['lng'] = pd.to_numeric(df['lng'], errors='coerce').fillna(9999.9).astype(float)\n",
    "df['uncert'] = pd.to_numeric(df['uncert'], errors='coerce').fillna(0.0).astype(float)\n",
    "\n",
    "df['lat'] = df['lat'].round(4)\n",
    "df['lat'] = df['lat'].round(4)\n",
    "df['uncert'] = df['uncert'].round().astype(int)\n",
    "\n",
    "has_locality = df['locality'].notna()\n",
    "has_lat = df['lat'].between(-90.0, 90.0)\n",
    "has_lng = df['lng'].between(-180.0, 180.0)\n",
    "\n",
    "df.loc[has_locality & has_lat & has_lng, COLS].to_sql(\n",
    "    'raw', CXN, if_exists='append', index=False)"
   ]
  },
  {
   "cell_type": "markdown",
   "metadata": {},
   "source": [
    "## plants_gbif_verbatim"
   ]
  },
  {
   "cell_type": "code",
   "execution_count": 20,
   "metadata": {
    "ExecuteTime": {
     "end_time": "2020-03-05T15:39:22.438937Z",
     "start_time": "2020-03-05T15:39:22.397727Z"
    }
   },
   "outputs": [
    {
     "data": {
      "text/plain": [
       "['gbifid',\n",
       " 'country',\n",
       " 'state',\n",
       " 'county',\n",
       " 'locality',\n",
       " 'locality2',\n",
       " 'lat',\n",
       " 'lng',\n",
       " 'datum',\n",
       " 'uncert',\n",
       " 'prec']"
      ]
     },
     "execution_count": 20,
     "metadata": {},
     "output_type": "execute_result"
    }
   ],
   "source": [
    "df = None\n",
    "in_file = PRUNED / 'plants_gbif_verbatim.csv.gz'\n",
    "headers = !zcat \"$in_file\" | head -1\n",
    "headers = headers[0].split(',')\n",
    "headers"
   ]
  },
  {
   "cell_type": "code",
   "execution_count": 21,
   "metadata": {
    "ExecuteTime": {
     "end_time": "2020-03-05T15:55:42.901453Z",
     "start_time": "2020-03-05T15:39:27.577823Z"
    }
   },
   "outputs": [
    {
     "data": {
      "application/vnd.jupyter.widget-view+json": {
       "model_id": "de4c31e4f1b2426e829f6211807193b8",
       "version_major": 2,
       "version_minor": 0
      },
      "text/plain": [
       "HBox(children=(FloatProgress(value=1.0, bar_style='info', max=1.0), HTML(value='')))"
      ]
     },
     "metadata": {},
     "output_type": "display_data"
    },
    {
     "name": "stdout",
     "output_type": "stream",
     "text": [
      "\n"
     ]
    }
   ],
   "source": [
    "reader = pd.read_csv(in_file, dtype=str, chunksize=CHUNK)\n",
    "\n",
    "for df in tqdm(reader):\n",
    "    df['coreid'] = ''\n",
    "\n",
    "    df['lat'] = (pd.to_numeric(df['lat'], errors='coerce')\n",
    "                 .fillna(9999.9).astype(float))\n",
    "    df['lng'] = (pd.to_numeric(df['lng'], errors='coerce')\n",
    "                 .fillna(9999.9).astype(float))\n",
    "    df['uncert'] = (pd.to_numeric(df['uncert'], errors='coerce')\n",
    "                    .fillna(0.0).astype(float))\n",
    "    \n",
    "    df['lat'] = df['lat'].round(4)\n",
    "    df['lat'] = df['lat'].round(4)\n",
    "    df['uncert'] = df['uncert'].round()\n",
    "\n",
    "    has_locality = df['locality'].notna()\n",
    "    has_lat = df['lat'].between(-90.0, 90.0)\n",
    "    has_lng = df['lng'].between(-180.0, 180.0)\n",
    "\n",
    "    df.loc[has_locality & has_lat & has_lng, COLS].to_sql(\n",
    "        'raw', CXN, if_exists='append', index=False)\n",
    "    \n",
    "    df['locality'] = df['locality2']\n",
    "\n",
    "    has_locality = df['locality'].notna()\n",
    "\n",
    "    df.loc[has_locality & has_lat & has_lng, COLS].to_sql(\n",
    "        'raw', CXN, if_exists='append', index=False)"
   ]
  },
  {
   "cell_type": "markdown",
   "metadata": {},
   "source": [
    "## plants_idigbio_occurrence_raw"
   ]
  },
  {
   "cell_type": "code",
   "execution_count": 22,
   "metadata": {
    "ExecuteTime": {
     "end_time": "2020-03-05T15:55:48.831665Z",
     "start_time": "2020-03-05T15:55:48.785064Z"
    }
   },
   "outputs": [
    {
     "data": {
      "text/plain": [
       "['coreid',\n",
       " 'prec',\n",
       " 'uncert',\n",
       " 'country',\n",
       " 'county',\n",
       " 'lat',\n",
       " 'lng',\n",
       " 'datum',\n",
       " 'locality',\n",
       " 'state',\n",
       " 'locality2']"
      ]
     },
     "execution_count": 22,
     "metadata": {},
     "output_type": "execute_result"
    }
   ],
   "source": [
    "in_file = PRUNED / 'plants_idigbio_occurrence_raw.csv.gz'\n",
    "headers = !zcat \"$in_file\" | head -1\n",
    "headers = headers[0].split(',')\n",
    "headers"
   ]
  },
  {
   "cell_type": "code",
   "execution_count": 23,
   "metadata": {
    "ExecuteTime": {
     "end_time": "2020-03-05T15:59:46.880830Z",
     "start_time": "2020-03-05T15:56:02.229783Z"
    }
   },
   "outputs": [
    {
     "data": {
      "application/vnd.jupyter.widget-view+json": {
       "model_id": "8a4c6974c7774293af467ad75ea0fb8c",
       "version_major": 2,
       "version_minor": 0
      },
      "text/plain": [
       "HBox(children=(FloatProgress(value=1.0, bar_style='info', max=1.0), HTML(value='')))"
      ]
     },
     "metadata": {},
     "output_type": "display_data"
    },
    {
     "name": "stdout",
     "output_type": "stream",
     "text": [
      "\n"
     ]
    }
   ],
   "source": [
    "reader = pd.read_csv(in_file, dtype=str, chunksize=CHUNK)\n",
    "\n",
    "for df in tqdm(reader):\n",
    "    df['gbifid'] = ''\n",
    "\n",
    "    df['lat'] = (pd.to_numeric(df['lat'], errors='coerce')\n",
    "                 .fillna(9999.9).astype(float))\n",
    "    df['lng'] = (pd.to_numeric(df['lng'], errors='coerce')\n",
    "                 .fillna(9999.9).astype(float))\n",
    "    df['uncert'] = (pd.to_numeric(df['uncert'], errors='coerce')\n",
    "                    .fillna(0.0).astype(float)).astype(int)\n",
    "    \n",
    "    df['lat'] = df['lat'].round(4)\n",
    "    df['lat'] = df['lat'].round(4)\n",
    "    df['uncert'] = df['uncert'].round()\n",
    "\n",
    "    has_locality = df['locality'].notna()\n",
    "    has_lat = df['lat'].between(-90.0, 90.0)\n",
    "    has_lng = df['lng'].between(-180.0, 180.0)\n",
    "\n",
    "    df.loc[has_locality & has_lat & has_lng, COLS].to_sql(\n",
    "        'raw', CXN, if_exists='append', index=False)\n",
    "    \n",
    "    df['locality'] = df['locality2']\n",
    "\n",
    "    has_locality = df['locality'].notna()\n",
    "\n",
    "    df.loc[has_locality & has_lat & has_lng, COLS].to_sql(\n",
    "        'raw', CXN, if_exists='append', index=False)"
   ]
  },
  {
   "cell_type": "markdown",
   "metadata": {},
   "source": [
    "## Create indexes"
   ]
  },
  {
   "cell_type": "code",
   "execution_count": 24,
   "metadata": {
    "ExecuteTime": {
     "end_time": "2020-03-05T16:04:24.317083Z",
     "start_time": "2020-03-05T15:59:46.882018Z"
    }
   },
   "outputs": [
    {
     "data": {
      "text/plain": [
       "<sqlite3.Cursor at 0x7efb5b417730>"
      ]
     },
     "execution_count": 24,
     "metadata": {},
     "output_type": "execute_result"
    }
   ],
   "source": [
    "sql = 'CREATE INDEX raw_locality ON raw (locality);'\n",
    "CXN.executescript(sql)"
   ]
  },
  {
   "cell_type": "code",
   "execution_count": 25,
   "metadata": {
    "ExecuteTime": {
     "end_time": "2020-03-05T16:12:55.442383Z",
     "start_time": "2020-03-05T16:04:24.319078Z"
    }
   },
   "outputs": [
    {
     "data": {
      "text/plain": [
       "<sqlite3.Cursor at 0x7efb5b4173b0>"
      ]
     },
     "execution_count": 25,
     "metadata": {},
     "output_type": "execute_result"
    }
   ],
   "source": [
    "sql = \"\"\"\n",
    "    CREATE INDEX raw_lat ON raw (lat);\n",
    "    CREATE INDEX raw_lng on raw (lng);\n",
    "\"\"\"\n",
    "CXN.executescript(sql)"
   ]
  },
  {
   "cell_type": "code",
   "execution_count": null,
   "metadata": {},
   "outputs": [],
   "source": []
  }
 ],
 "metadata": {
  "kernelspec": {
   "display_name": "Python 3",
   "language": "python",
   "name": "python3"
  },
  "language_info": {
   "codemirror_mode": {
    "name": "ipython",
    "version": 3
   },
   "file_extension": ".py",
   "mimetype": "text/x-python",
   "name": "python",
   "nbconvert_exporter": "python",
   "pygments_lexer": "ipython3",
   "version": "3.8.0"
  }
 },
 "nbformat": 4,
 "nbformat_minor": 4
}
