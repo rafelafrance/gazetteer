{
 "cells": [
  {
   "cell_type": "code",
   "execution_count": 1,
   "metadata": {
    "ExecuteTime": {
     "end_time": "2020-03-09T17:50:59.690953Z",
     "start_time": "2020-03-09T17:50:59.684191Z"
    }
   },
   "outputs": [],
   "source": [
    "import sys\n",
    "sys.path.append('..')"
   ]
  },
  {
   "cell_type": "code",
   "execution_count": 10,
   "metadata": {
    "ExecuteTime": {
     "end_time": "2020-03-09T17:56:12.407805Z",
     "start_time": "2020-03-09T17:56:12.400530Z"
    }
   },
   "outputs": [],
   "source": [
    "from pathlib import Path\n",
    "import sqlite3\n",
    "import regex\n",
    "from tqdm.notebook import tqdm\n",
    "import regex\n",
    "import numpy as np\n",
    "import pandas as pd\n",
    "import dask.dataframe as dd"
   ]
  },
  {
   "cell_type": "code",
   "execution_count": 18,
   "metadata": {
    "ExecuteTime": {
     "end_time": "2020-03-09T18:06:56.572189Z",
     "start_time": "2020-03-09T18:06:56.564764Z"
    }
   },
   "outputs": [],
   "source": [
    "DATA = Path('..') / 'data'\n",
    "PRUNED = DATA / '01_pruned'\n",
    "INPUT = DATA / 'input'\n",
    "\n",
    "RAW = PRUNED / 'raw.csv'\n",
    "DB = PRUNED / 'gazetteer.db'\n",
    "\n",
    "OUTPUT = PRUNED / 'mammals_no_geo_gazetteer_2020-03-09.csv.gz'\n",
    "\n",
    "TARGET = INPUT / 'mammals_no_geo.csv.gz'\n",
    "\n",
    "CHUNK = 1_000_000"
   ]
  },
  {
   "cell_type": "code",
   "execution_count": 11,
   "metadata": {
    "ExecuteTime": {
     "end_time": "2020-03-09T17:56:34.071899Z",
     "start_time": "2020-03-09T17:56:34.068501Z"
    }
   },
   "outputs": [],
   "source": [
    "unknown = ('unspecified', 'unknown')\n",
    "\n",
    "remove = regex.compile(r'(?<!\\d)[.,;/(){}\"\\'\\[\\]\\-](?!\\d)')\n",
    "\n",
    "sql = \"\"\"select * from places where norm = ?\"\"\"\n",
    "\n",
    "threshold = 0.1\n",
    "hi = 999.0\n",
    "lo = -hi"
   ]
  },
  {
   "cell_type": "code",
   "execution_count": 6,
   "metadata": {
    "ExecuteTime": {
     "end_time": "2020-03-09T17:51:09.008424Z",
     "start_time": "2020-03-09T17:51:08.116993Z"
    }
   },
   "outputs": [
    {
     "name": "stdout",
     "output_type": "stream",
     "text": [
      "['binomial', 'X1st_body_mass', 'catalognumber', 'collectioncode', 'decimallatitude', 'decimallongitude', 'dynamicproperties', 'X1st_ear_length', 'X1st_ear_length_low', 'X1st_ear_length_high', 'X1st_ear_length_measured_from', 'X1st_ear_length_ambiguous', 'X1st_ear_length_units_inferred', 'X1st_ear_length_estimated', 'eventdate', 'fieldnotes', 'X1st_hind_foot_length', 'X1st_hind_foot_length_low', 'X1st_hind_foot_length_high', 'X1st_hind_foot_length_includes', 'X1st_hind_foot_length_units_inferred', 'X1st_hind_foot_length_estimated', 'institutioncode', 'X1st_life_stage_notation', 'X2nd_life_stage_notation', 'lifestage', 'locality', 'maximumelevationinmeters', 'minimumelevationinmeters', 'occurrenceid', 'occurrenceremarks', 'recordedby', 'references', 'reproductivecondition', 'scientificname', 'sex', 'X1st_sex_notation', 'X2nd_sex_notation', 'X1st_tail_length', 'X1st_tail_length_low', 'X1st_tail_length_high', 'X1st_tail_length_ambiguous', 'X1st_tail_length_units_inferred', 'X1st_tail_length_estimated', 'X1st_testes_side', 'X1st_testes_state', 'X1st_testes_length', 'X1st_testes_width', 'X1st_testes_ambiguous_key', 'X1st_testes_units_inferred', 'X1st_total_length', 'X1st_total_length_low', 'X1st_total_length_high', 'X1st_total_length_ambiguous', 'X1st_total_length_units_inferred', 'X1st_total_length_estimated', 'age', 'preparations', 'country', 'county', 'disposition', 'eventRemarks', 'occurrenceremarks.1', 'forearm_length_1.value', 'total_length_2.value', 'tragus_length_1.value']\n"
     ]
    },
    {
     "data": {
      "text/plain": [
       "(76894, 66)"
      ]
     },
     "execution_count": 6,
     "metadata": {},
     "output_type": "execute_result"
    }
   ],
   "source": [
    "df = pd.read_csv(TARGET, dtype=str).fillna('')\n",
    "print([c for c in df.columns])\n",
    "df.shape"
   ]
  },
  {
   "cell_type": "code",
   "execution_count": 12,
   "metadata": {
    "ExecuteTime": {
     "end_time": "2020-03-09T17:58:53.279915Z",
     "start_time": "2020-03-09T17:58:39.037732Z"
    }
   },
   "outputs": [],
   "source": [
    "df['lat'] = None\n",
    "df['lng'] = None\n",
    "df['datum'] = None\n",
    "df['uncert'] = None\n",
    "\n",
    "with sqlite3.connect(DB) as cxn:\n",
    "    cxn.row_factory = sqlite3.Row\n",
    "    for idx, row in df.iterrows():\n",
    "        loc = row['locality']\n",
    "        loc = remove.sub(' ', loc)\n",
    "        loc = ' '.join(loc.lower().split())\n",
    "        if loc in unknown:\n",
    "            continue\n",
    "\n",
    "        hits = cxn.execute(sql, (loc, ))\n",
    "\n",
    "        has_datum_uncert = []\n",
    "        has_datum = []\n",
    "        has_uncert = []\n",
    "        neither = []\n",
    "        min_lat = hi\n",
    "        max_lat = lo\n",
    "        min_lng = hi\n",
    "        max_lng = lo\n",
    "        for hit in hits:\n",
    "            lat = round(hit[1], 4)\n",
    "            lng = round(hit[2], 4)\n",
    "            datum = hit['datum']\n",
    "            uncert = hit['uncert']\n",
    "            # print(loc, lat, lng, datum, uncert)\n",
    "            if datum and uncert:\n",
    "                has_datum_uncert.append((lat, lng, datum, uncert))\n",
    "            elif datum:\n",
    "                has_datum.append((lat, lng, datum, uncert))\n",
    "            elif uncert:\n",
    "                has_uncert.append((lat, lng, datum, uncert))\n",
    "            else:\n",
    "                neither.append((lat, lng, datum, uncert))\n",
    "            min_lat = min(min_lat, lat)\n",
    "            max_lat = max(max_lat, lat)\n",
    "            min_lng = min(min_lng, lng)\n",
    "            max_lng = max(max_lng, lng)\n",
    "        if max_lat - min_lat >= threshold:\n",
    "            continue\n",
    "        if max_lng - min_lng >= threshold:\n",
    "            continue\n",
    "        if has_datum_uncert:\n",
    "            df.at[idx, 'lat'] = has_datum_uncert[0][0]\n",
    "            df.at[idx, 'lng'] = has_datum_uncert[0][1]\n",
    "            df.at[idx, 'datum'] = has_datum_uncert[0][2]\n",
    "            df.at[idx, 'uncert'] = has_datum_uncert[0][3]\n",
    "        elif has_datum:\n",
    "            df.at[idx, 'lat'] = has_datum[0][0]\n",
    "            df.at[idx, 'lng'] = has_datum[0][1]\n",
    "            df.at[idx, 'datum'] = has_datum[0][2]\n",
    "            df.at[idx, 'uncert'] = has_datum[0][3]\n",
    "        elif has_uncert:\n",
    "            df.at[idx, 'lat'] = has_uncert[0][0]\n",
    "            df.at[idx, 'lng'] = has_uncert[0][1]\n",
    "            df.at[idx, 'datum'] = has_uncert[0][2]\n",
    "            df.at[idx, 'uncert'] = has_uncert[0][3]\n",
    "        elif neither:\n",
    "            df.at[idx, 'lat'] = neither[0][0]\n",
    "            df.at[idx, 'lng'] = neither[0][1]\n",
    "            df.at[idx, 'datum'] = neither[0][2]\n",
    "            df.at[idx, 'uncert'] = neither[0][3]"
   ]
  },
  {
   "cell_type": "code",
   "execution_count": 15,
   "metadata": {
    "ExecuteTime": {
     "end_time": "2020-03-09T18:00:18.479171Z",
     "start_time": "2020-03-09T18:00:18.466550Z"
    }
   },
   "outputs": [
    {
     "data": {
      "text/html": [
       "<div>\n",
       "<style scoped>\n",
       "    .dataframe tbody tr th:only-of-type {\n",
       "        vertical-align: middle;\n",
       "    }\n",
       "\n",
       "    .dataframe tbody tr th {\n",
       "        vertical-align: top;\n",
       "    }\n",
       "\n",
       "    .dataframe thead th {\n",
       "        text-align: right;\n",
       "    }\n",
       "</style>\n",
       "<table border=\"1\" class=\"dataframe\">\n",
       "  <thead>\n",
       "    <tr style=\"text-align: right;\">\n",
       "      <th></th>\n",
       "      <th>locality</th>\n",
       "      <th>lat</th>\n",
       "      <th>lng</th>\n",
       "      <th>datum</th>\n",
       "      <th>uncert</th>\n",
       "    </tr>\n",
       "  </thead>\n",
       "  <tbody>\n",
       "    <tr>\n",
       "      <th>0</th>\n",
       "      <td>3 miles south, 5 miles west Fort Collins 5780'</td>\n",
       "      <td>None</td>\n",
       "      <td>None</td>\n",
       "      <td>None</td>\n",
       "      <td>None</td>\n",
       "    </tr>\n",
       "    <tr>\n",
       "      <th>1</th>\n",
       "      <td>Lodi Center, 1.5 mi. S</td>\n",
       "      <td>None</td>\n",
       "      <td>None</td>\n",
       "      <td>None</td>\n",
       "      <td>None</td>\n",
       "    </tr>\n",
       "    <tr>\n",
       "      <th>2</th>\n",
       "      <td>5mi E of Ithaca, Pleasant Hill, elevation 1700'</td>\n",
       "      <td>None</td>\n",
       "      <td>None</td>\n",
       "      <td>None</td>\n",
       "      <td>None</td>\n",
       "    </tr>\n",
       "    <tr>\n",
       "      <th>3</th>\n",
       "      <td>2 mi SE Walden, Arapaho Natl. Wildlife Refuge,...</td>\n",
       "      <td>40.706</td>\n",
       "      <td>-106.257</td>\n",
       "      <td>NO DISPONIBLE</td>\n",
       "      <td>0</td>\n",
       "    </tr>\n",
       "    <tr>\n",
       "      <th>4</th>\n",
       "      <td>Sherman Township, French Creek Tributary</td>\n",
       "      <td>None</td>\n",
       "      <td>None</td>\n",
       "      <td>None</td>\n",
       "      <td>None</td>\n",
       "    </tr>\n",
       "    <tr>\n",
       "      <th>5</th>\n",
       "      <td>E Bloomfield</td>\n",
       "      <td>None</td>\n",
       "      <td>None</td>\n",
       "      <td>None</td>\n",
       "      <td>None</td>\n",
       "    </tr>\n",
       "    <tr>\n",
       "      <th>6</th>\n",
       "      <td>2 mi SE Walden, Arapaho Natl. Wildlife Refuge,...</td>\n",
       "      <td>40.706</td>\n",
       "      <td>-106.257</td>\n",
       "      <td>NO DISPONIBLE</td>\n",
       "      <td>0</td>\n",
       "    </tr>\n",
       "    <tr>\n",
       "      <th>7</th>\n",
       "      <td>French Creek</td>\n",
       "      <td>None</td>\n",
       "      <td>None</td>\n",
       "      <td>None</td>\n",
       "      <td>None</td>\n",
       "    </tr>\n",
       "    <tr>\n",
       "      <th>8</th>\n",
       "      <td>French Creek</td>\n",
       "      <td>None</td>\n",
       "      <td>None</td>\n",
       "      <td>None</td>\n",
       "      <td>None</td>\n",
       "    </tr>\n",
       "    <tr>\n",
       "      <th>9</th>\n",
       "      <td>unspecified</td>\n",
       "      <td>None</td>\n",
       "      <td>None</td>\n",
       "      <td>None</td>\n",
       "      <td>None</td>\n",
       "    </tr>\n",
       "    <tr>\n",
       "      <th>10</th>\n",
       "      <td>unspecified</td>\n",
       "      <td>None</td>\n",
       "      <td>None</td>\n",
       "      <td>None</td>\n",
       "      <td>None</td>\n",
       "    </tr>\n",
       "    <tr>\n",
       "      <th>11</th>\n",
       "      <td>Gerry Township</td>\n",
       "      <td>None</td>\n",
       "      <td>None</td>\n",
       "      <td>None</td>\n",
       "      <td>None</td>\n",
       "    </tr>\n",
       "    <tr>\n",
       "      <th>12</th>\n",
       "      <td>Harmony</td>\n",
       "      <td>None</td>\n",
       "      <td>None</td>\n",
       "      <td>None</td>\n",
       "      <td>None</td>\n",
       "    </tr>\n",
       "    <tr>\n",
       "      <th>13</th>\n",
       "      <td>unspecified</td>\n",
       "      <td>None</td>\n",
       "      <td>None</td>\n",
       "      <td>None</td>\n",
       "      <td>None</td>\n",
       "    </tr>\n",
       "    <tr>\n",
       "      <th>14</th>\n",
       "      <td>unspecified</td>\n",
       "      <td>None</td>\n",
       "      <td>None</td>\n",
       "      <td>None</td>\n",
       "      <td>None</td>\n",
       "    </tr>\n",
       "    <tr>\n",
       "      <th>15</th>\n",
       "      <td>Saranac Lake</td>\n",
       "      <td>None</td>\n",
       "      <td>None</td>\n",
       "      <td>None</td>\n",
       "      <td>None</td>\n",
       "    </tr>\n",
       "    <tr>\n",
       "      <th>16</th>\n",
       "      <td>2 mi S Cliff, Gila River</td>\n",
       "      <td>None</td>\n",
       "      <td>None</td>\n",
       "      <td>None</td>\n",
       "      <td>None</td>\n",
       "    </tr>\n",
       "    <tr>\n",
       "      <th>17</th>\n",
       "      <td>Saranac Lake</td>\n",
       "      <td>None</td>\n",
       "      <td>None</td>\n",
       "      <td>None</td>\n",
       "      <td>None</td>\n",
       "    </tr>\n",
       "    <tr>\n",
       "      <th>18</th>\n",
       "      <td>6 mi S of Rabbit Ears Pass, 9000 ft.</td>\n",
       "      <td>None</td>\n",
       "      <td>None</td>\n",
       "      <td>None</td>\n",
       "      <td>None</td>\n",
       "    </tr>\n",
       "    <tr>\n",
       "      <th>19</th>\n",
       "      <td>unspecified</td>\n",
       "      <td>None</td>\n",
       "      <td>None</td>\n",
       "      <td>None</td>\n",
       "      <td>None</td>\n",
       "    </tr>\n",
       "  </tbody>\n",
       "</table>\n",
       "</div>"
      ],
      "text/plain": [
       "                                             locality     lat      lng  \\\n",
       "0      3 miles south, 5 miles west Fort Collins 5780'    None     None   \n",
       "1                              Lodi Center, 1.5 mi. S    None     None   \n",
       "2     5mi E of Ithaca, Pleasant Hill, elevation 1700'    None     None   \n",
       "3   2 mi SE Walden, Arapaho Natl. Wildlife Refuge,...  40.706 -106.257   \n",
       "4            Sherman Township, French Creek Tributary    None     None   \n",
       "5                                        E Bloomfield    None     None   \n",
       "6   2 mi SE Walden, Arapaho Natl. Wildlife Refuge,...  40.706 -106.257   \n",
       "7                                        French Creek    None     None   \n",
       "8                                        French Creek    None     None   \n",
       "9                                         unspecified    None     None   \n",
       "10                                        unspecified    None     None   \n",
       "11                                     Gerry Township    None     None   \n",
       "12                                            Harmony    None     None   \n",
       "13                                        unspecified    None     None   \n",
       "14                                        unspecified    None     None   \n",
       "15                                       Saranac Lake    None     None   \n",
       "16                           2 mi S Cliff, Gila River    None     None   \n",
       "17                                       Saranac Lake    None     None   \n",
       "18               6 mi S of Rabbit Ears Pass, 9000 ft.    None     None   \n",
       "19                                        unspecified    None     None   \n",
       "\n",
       "            datum uncert  \n",
       "0            None   None  \n",
       "1            None   None  \n",
       "2            None   None  \n",
       "3   NO DISPONIBLE      0  \n",
       "4            None   None  \n",
       "5            None   None  \n",
       "6   NO DISPONIBLE      0  \n",
       "7            None   None  \n",
       "8            None   None  \n",
       "9            None   None  \n",
       "10           None   None  \n",
       "11           None   None  \n",
       "12           None   None  \n",
       "13           None   None  \n",
       "14           None   None  \n",
       "15           None   None  \n",
       "16           None   None  \n",
       "17           None   None  \n",
       "18           None   None  \n",
       "19           None   None  "
      ]
     },
     "execution_count": 15,
     "metadata": {},
     "output_type": "execute_result"
    }
   ],
   "source": [
    "df.loc[:, ['locality', 'lat', 'lng', 'datum', 'uncert']].head(20)"
   ]
  },
  {
   "cell_type": "code",
   "execution_count": 19,
   "metadata": {
    "ExecuteTime": {
     "end_time": "2020-03-09T18:07:10.471688Z",
     "start_time": "2020-03-09T18:07:07.580173Z"
    }
   },
   "outputs": [],
   "source": [
    "df.to_csv(OUTPUT, index=False)"
   ]
  },
  {
   "cell_type": "code",
   "execution_count": 17,
   "metadata": {
    "ExecuteTime": {
     "end_time": "2020-03-09T18:04:01.459680Z",
     "start_time": "2020-03-09T18:04:01.280746Z"
    }
   },
   "outputs": [
    {
     "data": {
      "text/plain": [
       "binomial                 76894\n",
       "X1st_body_mass           76894\n",
       "catalognumber            76894\n",
       "collectioncode           76894\n",
       "decimallatitude          76894\n",
       "                         ...  \n",
       "tragus_length_1.value    76894\n",
       "lat                      11994\n",
       "lng                      11994\n",
       "datum                     8828\n",
       "uncert                   11994\n",
       "Length: 70, dtype: int64"
      ]
     },
     "execution_count": 17,
     "metadata": {},
     "output_type": "execute_result"
    }
   ],
   "source": [
    "df.count()"
   ]
  },
  {
   "cell_type": "code",
   "execution_count": 20,
   "metadata": {
    "ExecuteTime": {
     "end_time": "2020-03-09T18:09:11.481046Z",
     "start_time": "2020-03-09T18:09:11.473936Z"
    }
   },
   "outputs": [
    {
     "data": {
      "text/plain": [
       "15.59809608031836"
      ]
     },
     "execution_count": 20,
     "metadata": {},
     "output_type": "execute_result"
    }
   ],
   "source": [
    "11994 / 76894 * 100"
   ]
  },
  {
   "cell_type": "code",
   "execution_count": null,
   "metadata": {},
   "outputs": [],
   "source": []
  }
 ],
 "metadata": {
  "kernelspec": {
   "display_name": "Python 3",
   "language": "python",
   "name": "python3"
  },
  "language_info": {
   "codemirror_mode": {
    "name": "ipython",
    "version": 3
   },
   "file_extension": ".py",
   "mimetype": "text/x-python",
   "name": "python",
   "nbconvert_exporter": "python",
   "pygments_lexer": "ipython3",
   "version": "3.8.0"
  }
 },
 "nbformat": 4,
 "nbformat_minor": 4
}
