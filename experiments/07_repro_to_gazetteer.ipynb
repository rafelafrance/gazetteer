{
 "cells": [
  {
   "cell_type": "code",
   "execution_count": 1,
   "metadata": {
    "ExecuteTime": {
     "end_time": "2020-03-18T14:15:45.464580Z",
     "start_time": "2020-03-18T14:15:45.462678Z"
    }
   },
   "outputs": [],
   "source": [
    "import sys\n",
    "sys.path.append('..')"
   ]
  },
  {
   "cell_type": "code",
   "execution_count": 2,
   "metadata": {
    "ExecuteTime": {
     "end_time": "2020-03-18T14:15:46.990972Z",
     "start_time": "2020-03-18T14:15:46.401345Z"
    }
   },
   "outputs": [],
   "source": [
    "from pathlib import Path\n",
    "import sqlite3\n",
    "import csv\n",
    "import regex\n",
    "import pandas as pd\n",
    "import dask.dataframe as dd\n",
    "from tqdm.notebook import tqdm"
   ]
  },
  {
   "cell_type": "code",
   "execution_count": 3,
   "metadata": {
    "ExecuteTime": {
     "end_time": "2020-03-18T14:15:47.181895Z",
     "start_time": "2020-03-18T14:15:47.173325Z"
    }
   },
   "outputs": [],
   "source": [
    "DATA = Path('..') / 'data'\n",
    "RAW = DATA / '00_raw'\n",
    "PRUNED = DATA / '01_pruned'\n",
    "IN_DIR = DATA / 'input'\n",
    "OUT_DIR = DATA / 'output'\n",
    "\n",
    "DB = PRUNED / 'gazetteer.db'\n",
    "\n",
    "CHUNK = 1_000_000"
   ]
  },
  {
   "cell_type": "code",
   "execution_count": 4,
   "metadata": {
    "ExecuteTime": {
     "end_time": "2020-03-18T14:15:48.026576Z",
     "start_time": "2020-03-18T14:15:48.023757Z"
    }
   },
   "outputs": [],
   "source": [
    "unknown = ('unspecified', 'unknown')\n",
    "\n",
    "remove = regex.compile(r'(?<!\\d)[.,;/(){}\"\\'\\[\\]\\-](?!\\d)')\n",
    "\n",
    "sql = \"\"\"select * from places where norm = ?\"\"\"\n",
    "\n",
    "threshold = 0.1\n",
    "hi = 999.0\n",
    "lo = -hi"
   ]
  },
  {
   "cell_type": "markdown",
   "metadata": {},
   "source": [
    "## Get vertnet_mammals_male_traits_gaz"
   ]
  },
  {
   "cell_type": "code",
   "execution_count": 7,
   "metadata": {
    "ExecuteTime": {
     "end_time": "2020-03-18T14:17:39.984779Z",
     "start_time": "2020-03-18T14:17:39.982356Z"
    }
   },
   "outputs": [],
   "source": [
    "in_file = IN_DIR / 'vertnet_mammals_male_traits_gaz.csv'\n",
    "out_file = OUT_DIR / 'vertnet_mammals_male_traits_gaz_2020-03-18a.csv.gz'"
   ]
  },
  {
   "cell_type": "code",
   "execution_count": 8,
   "metadata": {
    "ExecuteTime": {
     "end_time": "2020-03-18T14:17:41.544394Z",
     "start_time": "2020-03-18T14:17:41.108958Z"
    }
   },
   "outputs": [
    {
     "name": "stdout",
     "output_type": "stream",
     "text": [
      "['1st_body_mass', '1st_body_mass_low', '1st_body_mass_high', '1st_body_mass_ambiguous', '1st_body_mass_units_inferred', '1st_body_mass_estimated', '2nd_body_mass', '2nd_body_mass_low', '2nd_body_mass_high', '2nd_body_mass_ambiguous', '2nd_body_mass_units_inferred', '2nd_body_mass_estimated', '3rd_body_mass', '3rd_body_mass_low', '3rd_body_mass_high', '3rd_body_mass_units_inferred', '4th_body_mass', 'catalognumber', 'collectioncode', 'decimallatitude', 'decimallongitude', 'dynamicproperties', '1st_ear_length', '1st_ear_length_low', '1st_ear_length_high', '1st_ear_length_measured_from', '1st_ear_length_ambiguous', '1st_ear_length_units_inferred', '1st_ear_length_estimated', '2nd_ear_length', '2nd_ear_length_measured_from', '2nd_ear_length_ambiguous', '2nd_ear_length_units_inferred', '2nd_ear_length_estimated', '3rd_ear_length', '3rd_ear_length_measured_from', '3rd_ear_length_ambiguous', '3rd_ear_length_units_inferred', '4th_ear_length', '4th_ear_length_measured_from', '4th_ear_length_ambiguous', '4th_ear_length_units_inferred', 'eventdate', 'fieldnotes', '1st_hind_foot_length', '1st_hind_foot_length_low', '1st_hind_foot_length_high', '1st_hind_foot_length_includes', '1st_hind_foot_length_units_inferred', '1st_hind_foot_length_estimated', '2nd_hind_foot_length', '2nd_hind_foot_length_includes', '2nd_hind_foot_length_units_inferred', '2nd_hind_foot_length_estimated', '3rd_hind_foot_length', '3rd_hind_foot_length_includes', '4th_hind_foot_length', '4th_hind_foot_length_includes', 'institutioncode', '1st_life_stage_notation', '2nd_life_stage_notation', 'lifestage', 'locality', 'maximumelevationinmeters', 'minimumelevationinmeters', 'occurrenceid', 'occurrenceremarks', 'recordedby', 'references', 'reproductivecondition', 'scientificname', 'sex', '1st_sex_notation', '2nd_sex_notation', '1st_tail_length', '1st_tail_length_low', '1st_tail_length_high', '1st_tail_length_ambiguous', '1st_tail_length_units_inferred', '1st_tail_length_estimated', '2nd_tail_length', '2nd_tail_length_low', '2nd_tail_length_high', '2nd_tail_length_ambiguous', '2nd_tail_length_units_inferred', '2nd_tail_length_estimated', '3rd_tail_length', '3rd_tail_length_units_inferred', '4th_tail_length', '1st_testes_side', '1st_testes_state', '1st_testes_length', '1st testes width', '1st_testes_ambiguous_key', '1st_testes_units_inferred', '2nd_testes_side', '2nd_testes_state', '2nd_testes_length', '2nd testes width', '2nd_testes_ambiguous_key', '2nd_testes_units_inferred', '3rd_testes_side', '3rd_testes_state', '3rd_testes_length', '3rd testes width', '1st_total_length', '1st_total_length_low', '1st_total_length_high', '1st_total_length_ambiguous', '1st_total_length_units_inferred', '1st_total_length_estimated', '2nd_total_length', '2nd_total_length_ambiguous', '2nd_total_length_units_inferred', '2nd_total_length_estimated', '3rd_total_length', '3rd_total_length_ambiguous', '3rd_total_length_units_inferred', '4th_total_length']\n"
     ]
    },
    {
     "data": {
      "text/plain": [
       "(27659, 119)"
      ]
     },
     "execution_count": 8,
     "metadata": {},
     "output_type": "execute_result"
    }
   ],
   "source": [
    "df = pd.read_csv(in_file, dtype=str).fillna('')\n",
    "print([c for c in df.columns])\n",
    "df.shape"
   ]
  },
  {
   "cell_type": "code",
   "execution_count": 9,
   "metadata": {
    "ExecuteTime": {
     "end_time": "2020-03-18T14:19:35.461712Z",
     "start_time": "2020-03-18T14:19:26.622688Z"
    }
   },
   "outputs": [
    {
     "data": {
      "application/vnd.jupyter.widget-view+json": {
       "model_id": "5ae340efd6424df8b6a409525ed91981",
       "version_major": 2,
       "version_minor": 0
      },
      "text/plain": [
       "HBox(children=(FloatProgress(value=1.0, bar_style='info', max=1.0), HTML(value='')))"
      ]
     },
     "metadata": {},
     "output_type": "display_data"
    },
    {
     "name": "stdout",
     "output_type": "stream",
     "text": [
      "\n"
     ]
    }
   ],
   "source": [
    "df['lat'] = None\n",
    "df['lng'] = None\n",
    "df['datum'] = None\n",
    "df['uncert'] = None\n",
    "\n",
    "with sqlite3.connect(DB) as cxn:\n",
    "    cxn.row_factory = sqlite3.Row\n",
    "\n",
    "    for idx, row in tqdm(df.iterrows()):\n",
    "        for field in ['locality', ]:\n",
    "            loc = row[field]\n",
    "            loc = remove.sub(' ', loc)\n",
    "            loc = ' '.join(loc.lower().split())\n",
    "            if loc in unknown:\n",
    "                continue\n",
    "\n",
    "            hits = cxn.execute(sql, (loc, ))\n",
    "\n",
    "            has_datum_uncert = []\n",
    "            has_datum = []\n",
    "            has_uncert = []\n",
    "            neither = []\n",
    "            min_lat = hi\n",
    "            max_lat = lo\n",
    "            min_lng = hi\n",
    "            max_lng = lo\n",
    "            for hit in hits:\n",
    "                lat = round(hit[1], 4)\n",
    "                lng = round(hit[2], 4)\n",
    "                datum = hit['datum']\n",
    "                uncert = hit['uncert']\n",
    "                # print(loc, lat, lng, datum, uncert)\n",
    "                if datum and uncert:\n",
    "                    has_datum_uncert.append((lat, lng, datum, uncert))\n",
    "                elif datum:\n",
    "                    has_datum.append((lat, lng, datum, uncert))\n",
    "                elif uncert:\n",
    "                    has_uncert.append((lat, lng, datum, uncert))\n",
    "                else:\n",
    "                    neither.append((lat, lng, datum, uncert))\n",
    "                min_lat = min(min_lat, lat)\n",
    "                max_lat = max(max_lat, lat)\n",
    "                min_lng = min(min_lng, lng)\n",
    "                max_lng = max(max_lng, lng)\n",
    "            if max_lat - min_lat >= threshold:\n",
    "                continue\n",
    "            if max_lng - min_lng >= threshold:\n",
    "                continue\n",
    "            if has_datum_uncert:\n",
    "                df.at[idx, 'lat'] = has_datum_uncert[0][0]\n",
    "                df.at[idx, 'lng'] = has_datum_uncert[0][1]\n",
    "                df.at[idx, 'datum'] = has_datum_uncert[0][2]\n",
    "                df.at[idx, 'uncert'] = has_datum_uncert[0][3]\n",
    "                break\n",
    "            elif has_datum:\n",
    "                df.at[idx, 'lat'] = has_datum[0][0]\n",
    "                df.at[idx, 'lng'] = has_datum[0][1]\n",
    "                df.at[idx, 'datum'] = has_datum[0][2]\n",
    "                df.at[idx, 'uncert'] = has_datum[0][3]\n",
    "                break\n",
    "            elif has_uncert:\n",
    "                df.at[idx, 'lat'] = has_uncert[0][0]\n",
    "                df.at[idx, 'lng'] = has_uncert[0][1]\n",
    "                df.at[idx, 'datum'] = has_uncert[0][2]\n",
    "                df.at[idx, 'uncert'] = has_uncert[0][3]\n",
    "                break\n",
    "            elif neither:\n",
    "                df.at[idx, 'lat'] = neither[0][0]\n",
    "                df.at[idx, 'lng'] = neither[0][1]\n",
    "                df.at[idx, 'datum'] = neither[0][2]\n",
    "                df.at[idx, 'uncert'] = neither[0][3]\n",
    "                break"
   ]
  },
  {
   "cell_type": "code",
   "execution_count": 10,
   "metadata": {
    "ExecuteTime": {
     "end_time": "2020-03-18T14:19:43.343984Z",
     "start_time": "2020-03-18T14:19:43.317078Z"
    }
   },
   "outputs": [
    {
     "data": {
      "text/html": [
       "<div>\n",
       "<style scoped>\n",
       "    .dataframe tbody tr th:only-of-type {\n",
       "        vertical-align: middle;\n",
       "    }\n",
       "\n",
       "    .dataframe tbody tr th {\n",
       "        vertical-align: top;\n",
       "    }\n",
       "\n",
       "    .dataframe thead th {\n",
       "        text-align: right;\n",
       "    }\n",
       "</style>\n",
       "<table border=\"1\" class=\"dataframe\">\n",
       "  <thead>\n",
       "    <tr style=\"text-align: right;\">\n",
       "      <th></th>\n",
       "      <th>locality</th>\n",
       "      <th>lat</th>\n",
       "      <th>lng</th>\n",
       "      <th>datum</th>\n",
       "      <th>uncert</th>\n",
       "    </tr>\n",
       "  </thead>\n",
       "  <tbody>\n",
       "    <tr>\n",
       "      <th>0</th>\n",
       "      <td></td>\n",
       "      <td>None</td>\n",
       "      <td>None</td>\n",
       "      <td>None</td>\n",
       "      <td>None</td>\n",
       "    </tr>\n",
       "    <tr>\n",
       "      <th>1</th>\n",
       "      <td>4.20 km N, 0.58 km W Cerro Mellizo Sud, Parque...</td>\n",
       "      <td>None</td>\n",
       "      <td>None</td>\n",
       "      <td>None</td>\n",
       "      <td>None</td>\n",
       "    </tr>\n",
       "    <tr>\n",
       "      <th>2</th>\n",
       "      <td>Apeadero Militar Grl. Munoz, km 41 along Hwy 307</td>\n",
       "      <td>None</td>\n",
       "      <td>None</td>\n",
       "      <td>None</td>\n",
       "      <td>None</td>\n",
       "    </tr>\n",
       "    <tr>\n",
       "      <th>3</th>\n",
       "      <td>Quebrada de Lopez, San Francisco del Monte de Oro</td>\n",
       "      <td>None</td>\n",
       "      <td>None</td>\n",
       "      <td>None</td>\n",
       "      <td>None</td>\n",
       "    </tr>\n",
       "    <tr>\n",
       "      <th>4</th>\n",
       "      <td>15 km N Paso del Rey</td>\n",
       "      <td>None</td>\n",
       "      <td>None</td>\n",
       "      <td>None</td>\n",
       "      <td>None</td>\n",
       "    </tr>\n",
       "    <tr>\n",
       "      <th>5</th>\n",
       "      <td>15 km N Paso del Rey</td>\n",
       "      <td>None</td>\n",
       "      <td>None</td>\n",
       "      <td>None</td>\n",
       "      <td>None</td>\n",
       "    </tr>\n",
       "    <tr>\n",
       "      <th>6</th>\n",
       "      <td>5 km N Las Higuerillas on Hwy 308</td>\n",
       "      <td>None</td>\n",
       "      <td>None</td>\n",
       "      <td>None</td>\n",
       "      <td>None</td>\n",
       "    </tr>\n",
       "    <tr>\n",
       "      <th>7</th>\n",
       "      <td>camp Site</td>\n",
       "      <td>None</td>\n",
       "      <td>None</td>\n",
       "      <td>None</td>\n",
       "      <td>None</td>\n",
       "    </tr>\n",
       "    <tr>\n",
       "      <th>8</th>\n",
       "      <td>5 km N Las Higuerillas on Hwy 308</td>\n",
       "      <td>None</td>\n",
       "      <td>None</td>\n",
       "      <td>None</td>\n",
       "      <td>None</td>\n",
       "    </tr>\n",
       "    <tr>\n",
       "      <th>9</th>\n",
       "      <td>3.12 km S, 2.24 km W Cerro Mellizo Sud, Parque...</td>\n",
       "      <td>None</td>\n",
       "      <td>None</td>\n",
       "      <td>None</td>\n",
       "      <td>None</td>\n",
       "    </tr>\n",
       "    <tr>\n",
       "      <th>10</th>\n",
       "      <td></td>\n",
       "      <td>None</td>\n",
       "      <td>None</td>\n",
       "      <td>None</td>\n",
       "      <td>None</td>\n",
       "    </tr>\n",
       "    <tr>\n",
       "      <th>11</th>\n",
       "      <td></td>\n",
       "      <td>None</td>\n",
       "      <td>None</td>\n",
       "      <td>None</td>\n",
       "      <td>None</td>\n",
       "    </tr>\n",
       "    <tr>\n",
       "      <th>12</th>\n",
       "      <td>campsite</td>\n",
       "      <td>None</td>\n",
       "      <td>None</td>\n",
       "      <td>None</td>\n",
       "      <td>None</td>\n",
       "    </tr>\n",
       "    <tr>\n",
       "      <th>13</th>\n",
       "      <td></td>\n",
       "      <td>None</td>\n",
       "      <td>None</td>\n",
       "      <td>None</td>\n",
       "      <td>None</td>\n",
       "    </tr>\n",
       "    <tr>\n",
       "      <th>14</th>\n",
       "      <td>ca 23 km N Rt 20, Pampa de Las Salinas, near L...</td>\n",
       "      <td>None</td>\n",
       "      <td>None</td>\n",
       "      <td>None</td>\n",
       "      <td>None</td>\n",
       "    </tr>\n",
       "    <tr>\n",
       "      <th>15</th>\n",
       "      <td>12 km W La Quebradita, Tafi del Valle, km 81 o...</td>\n",
       "      <td>None</td>\n",
       "      <td>None</td>\n",
       "      <td>None</td>\n",
       "      <td>None</td>\n",
       "    </tr>\n",
       "    <tr>\n",
       "      <th>16</th>\n",
       "      <td>18.7 km S San Pedro de Colalao</td>\n",
       "      <td>None</td>\n",
       "      <td>None</td>\n",
       "      <td>None</td>\n",
       "      <td>None</td>\n",
       "    </tr>\n",
       "    <tr>\n",
       "      <th>17</th>\n",
       "      <td>Mengo District, Komamboga, 5 mi N of Kampala</td>\n",
       "      <td>None</td>\n",
       "      <td>None</td>\n",
       "      <td>None</td>\n",
       "      <td>None</td>\n",
       "    </tr>\n",
       "    <tr>\n",
       "      <th>18</th>\n",
       "      <td>Mengo District, 5 mi N of Kampala</td>\n",
       "      <td>None</td>\n",
       "      <td>None</td>\n",
       "      <td>None</td>\n",
       "      <td>None</td>\n",
       "    </tr>\n",
       "    <tr>\n",
       "      <th>19</th>\n",
       "      <td>Mengo District, 5 mi N of Kampala</td>\n",
       "      <td>None</td>\n",
       "      <td>None</td>\n",
       "      <td>None</td>\n",
       "      <td>None</td>\n",
       "    </tr>\n",
       "  </tbody>\n",
       "</table>\n",
       "</div>"
      ],
      "text/plain": [
       "                                             locality   lat   lng datum uncert\n",
       "0                                                      None  None  None   None\n",
       "1   4.20 km N, 0.58 km W Cerro Mellizo Sud, Parque...  None  None  None   None\n",
       "2    Apeadero Militar Grl. Munoz, km 41 along Hwy 307  None  None  None   None\n",
       "3   Quebrada de Lopez, San Francisco del Monte de Oro  None  None  None   None\n",
       "4                                15 km N Paso del Rey  None  None  None   None\n",
       "5                                15 km N Paso del Rey  None  None  None   None\n",
       "6                   5 km N Las Higuerillas on Hwy 308  None  None  None   None\n",
       "7                                           camp Site  None  None  None   None\n",
       "8                   5 km N Las Higuerillas on Hwy 308  None  None  None   None\n",
       "9   3.12 km S, 2.24 km W Cerro Mellizo Sud, Parque...  None  None  None   None\n",
       "10                                                     None  None  None   None\n",
       "11                                                     None  None  None   None\n",
       "12                                           campsite  None  None  None   None\n",
       "13                                                     None  None  None   None\n",
       "14  ca 23 km N Rt 20, Pampa de Las Salinas, near L...  None  None  None   None\n",
       "15  12 km W La Quebradita, Tafi del Valle, km 81 o...  None  None  None   None\n",
       "16                     18.7 km S San Pedro de Colalao  None  None  None   None\n",
       "17       Mengo District, Komamboga, 5 mi N of Kampala  None  None  None   None\n",
       "18                  Mengo District, 5 mi N of Kampala  None  None  None   None\n",
       "19                  Mengo District, 5 mi N of Kampala  None  None  None   None"
      ]
     },
     "execution_count": 10,
     "metadata": {},
     "output_type": "execute_result"
    }
   ],
   "source": [
    "df.loc[:, ['locality', 'lat', 'lng', 'datum', 'uncert']].head(20)"
   ]
  },
  {
   "cell_type": "code",
   "execution_count": 11,
   "metadata": {
    "ExecuteTime": {
     "end_time": "2020-03-18T14:19:53.840540Z",
     "start_time": "2020-03-18T14:19:52.371675Z"
    }
   },
   "outputs": [],
   "source": [
    "df.to_csv(out_file, index=False)"
   ]
  },
  {
   "cell_type": "code",
   "execution_count": 12,
   "metadata": {
    "ExecuteTime": {
     "end_time": "2020-03-18T14:19:53.945743Z",
     "start_time": "2020-03-18T14:19:53.841748Z"
    }
   },
   "outputs": [
    {
     "data": {
      "text/plain": [
       "1st_body_mass                   27659\n",
       "1st_body_mass_low               27659\n",
       "1st_body_mass_high              27659\n",
       "1st_body_mass_ambiguous         27659\n",
       "1st_body_mass_units_inferred    27659\n",
       "                                ...  \n",
       "4th_total_length                27659\n",
       "lat                              3042\n",
       "lng                              3042\n",
       "datum                            2057\n",
       "uncert                           3042\n",
       "Length: 123, dtype: int64"
      ]
     },
     "execution_count": 12,
     "metadata": {},
     "output_type": "execute_result"
    }
   ],
   "source": [
    "df.count()"
   ]
  },
  {
   "cell_type": "code",
   "execution_count": 14,
   "metadata": {
    "ExecuteTime": {
     "end_time": "2020-03-18T14:20:30.533745Z",
     "start_time": "2020-03-18T14:20:30.528048Z"
    }
   },
   "outputs": [
    {
     "data": {
      "text/plain": [
       "11.0"
      ]
     },
     "execution_count": 14,
     "metadata": {},
     "output_type": "execute_result"
    }
   ],
   "source": [
    "round(3042 / 27659 * 100.0, 2)"
   ]
  },
  {
   "cell_type": "markdown",
   "metadata": {},
   "source": [
    "## vertnet_mammals_female_traits_gaz"
   ]
  },
  {
   "cell_type": "code",
   "execution_count": 15,
   "metadata": {
    "ExecuteTime": {
     "end_time": "2020-03-18T14:23:50.191261Z",
     "start_time": "2020-03-18T14:23:50.189383Z"
    }
   },
   "outputs": [],
   "source": [
    "in_file = IN_DIR / 'vertnet_mammals_female_traits_gaz.csv'\n",
    "out_file = OUT_DIR / 'vertnet_mammals_female_traits_gaz_2020-03-18a.csv.gz'"
   ]
  },
  {
   "cell_type": "code",
   "execution_count": 16,
   "metadata": {
    "ExecuteTime": {
     "end_time": "2020-03-18T14:23:51.723082Z",
     "start_time": "2020-03-18T14:23:51.294490Z"
    }
   },
   "outputs": [
    {
     "name": "stdout",
     "output_type": "stream",
     "text": [
      "['catalognumber', 'collectioncode', 'decimallatitude', 'decimallongitude', 'dynamicproperties', '1st_embryo_count', '1st_embryo_count_female', '1st_embryo_count_left', '1st_embryo_count_male', '1st_embryo_count_right', '2nd_embryo_count', '2nd_embryo_count_left', '2nd_embryo_count_right', '3rd_embryo_count', '1st_embryo_length', '1st_embryo_length_low', '1st_embryo_length_high', '1st_embryo_length_units_inferred', '2nd_embryo_length', '2nd_embryo_length_low', '2nd_embryo_length_high', '2nd_embryo_length_units_inferred', '3rd_embryo_length', '3rd_embryo_length_units_inferred', '4th_embryo_length', '4th_embryo_length_units_inferred', 'eventdate', 'fieldnotes', 'institutioncode', '1st_lactation_state', '2nd_lactation_state', '1st_life_stage', '2nd_life_stage', '3rd_life_stage', '4th_life_stage', 'lifestage', 'locality', 'maximumelevationinmeters', 'minimumelevationinmeters', '1st_nipple_count', '1st_nipple_count_notation', '2nd_nipple_count', '1st_nipple_state', '2nd_nipple_state', 'occurrenceid', 'occurrenceremarks', '1st_ovaries_side', '1st_ovaries_state', '1st_ovaries_length', '1st ovaries width', '1st_ovaries_ambiguous_key', '1st_ovaries_units_inferred', '2nd_ovaries_side', '2nd_ovaries_state', '2nd_ovaries_length', '2nd ovaries width', '2nd_ovaries_ambiguous_key', '2nd_ovaries_units_inferred', '3rd_ovaries_side', '3rd_ovaries_length', '3rd ovaries width', '3rd_ovaries_ambiguous_key', '3rd_ovaries_units_inferred', '1st_placental_scar_count', '1st_placental_scar_count_left', '1st_placental_scar_count_right', '1st_placental_scar_count_side1', '1st_placental_scar_count_side2', '2nd_placental_scar_count', '2nd_placental_scar_count_left', '2nd_placental_scar_count_right', '2nd_placental_scar_count_side1', '2nd_placental_scar_count_side2', '3rd_placental_scar_count', '3rd_placental_scar_count_left', '1st_pregnancy_state', '2nd_pregnancy_state', 'recordedby', 'references', 'reproductivecondition', 'scientificname', 'sex', '1st_sex', '2nd_sex', '3rd_sex', '4th_sex']\n"
     ]
    },
    {
     "data": {
      "text/plain": [
       "(38460, 86)"
      ]
     },
     "execution_count": 16,
     "metadata": {},
     "output_type": "execute_result"
    }
   ],
   "source": [
    "df = pd.read_csv(in_file, dtype=str).fillna('')\n",
    "print([c for c in df.columns])\n",
    "df.shape"
   ]
  },
  {
   "cell_type": "code",
   "execution_count": 17,
   "metadata": {
    "ExecuteTime": {
     "end_time": "2020-03-18T14:24:38.590143Z",
     "start_time": "2020-03-18T14:24:31.622722Z"
    }
   },
   "outputs": [
    {
     "data": {
      "application/vnd.jupyter.widget-view+json": {
       "model_id": "6ca464c9d8d646bda70dc50298034d81",
       "version_major": 2,
       "version_minor": 0
      },
      "text/plain": [
       "HBox(children=(FloatProgress(value=1.0, bar_style='info', max=1.0), HTML(value='')))"
      ]
     },
     "metadata": {},
     "output_type": "display_data"
    },
    {
     "name": "stdout",
     "output_type": "stream",
     "text": [
      "\n"
     ]
    }
   ],
   "source": [
    "df['lat'] = None\n",
    "df['lng'] = None\n",
    "df['datum'] = None\n",
    "df['uncert'] = None\n",
    "\n",
    "with sqlite3.connect(DB) as cxn:\n",
    "    cxn.row_factory = sqlite3.Row\n",
    "\n",
    "    for idx, row in tqdm(df.iterrows()):\n",
    "        for field in ['locality', ]:\n",
    "            loc = row[field]\n",
    "            loc = remove.sub(' ', loc)\n",
    "            loc = ' '.join(loc.lower().split())\n",
    "            if loc in unknown:\n",
    "                continue\n",
    "\n",
    "            hits = cxn.execute(sql, (loc, ))\n",
    "\n",
    "            has_datum_uncert = []\n",
    "            has_datum = []\n",
    "            has_uncert = []\n",
    "            neither = []\n",
    "            min_lat = hi\n",
    "            max_lat = lo\n",
    "            min_lng = hi\n",
    "            max_lng = lo\n",
    "            for hit in hits:\n",
    "                lat = round(hit[1], 4)\n",
    "                lng = round(hit[2], 4)\n",
    "                datum = hit['datum']\n",
    "                uncert = hit['uncert']\n",
    "                # print(loc, lat, lng, datum, uncert)\n",
    "                if datum and uncert:\n",
    "                    has_datum_uncert.append((lat, lng, datum, uncert))\n",
    "                elif datum:\n",
    "                    has_datum.append((lat, lng, datum, uncert))\n",
    "                elif uncert:\n",
    "                    has_uncert.append((lat, lng, datum, uncert))\n",
    "                else:\n",
    "                    neither.append((lat, lng, datum, uncert))\n",
    "                min_lat = min(min_lat, lat)\n",
    "                max_lat = max(max_lat, lat)\n",
    "                min_lng = min(min_lng, lng)\n",
    "                max_lng = max(max_lng, lng)\n",
    "            if max_lat - min_lat >= threshold:\n",
    "                continue\n",
    "            if max_lng - min_lng >= threshold:\n",
    "                continue\n",
    "            if has_datum_uncert:\n",
    "                df.at[idx, 'lat'] = has_datum_uncert[0][0]\n",
    "                df.at[idx, 'lng'] = has_datum_uncert[0][1]\n",
    "                df.at[idx, 'datum'] = has_datum_uncert[0][2]\n",
    "                df.at[idx, 'uncert'] = has_datum_uncert[0][3]\n",
    "                break\n",
    "            elif has_datum:\n",
    "                df.at[idx, 'lat'] = has_datum[0][0]\n",
    "                df.at[idx, 'lng'] = has_datum[0][1]\n",
    "                df.at[idx, 'datum'] = has_datum[0][2]\n",
    "                df.at[idx, 'uncert'] = has_datum[0][3]\n",
    "                break\n",
    "            elif has_uncert:\n",
    "                df.at[idx, 'lat'] = has_uncert[0][0]\n",
    "                df.at[idx, 'lng'] = has_uncert[0][1]\n",
    "                df.at[idx, 'datum'] = has_uncert[0][2]\n",
    "                df.at[idx, 'uncert'] = has_uncert[0][3]\n",
    "                break\n",
    "            elif neither:\n",
    "                df.at[idx, 'lat'] = neither[0][0]\n",
    "                df.at[idx, 'lng'] = neither[0][1]\n",
    "                df.at[idx, 'datum'] = neither[0][2]\n",
    "                df.at[idx, 'uncert'] = neither[0][3]\n",
    "                break"
   ]
  },
  {
   "cell_type": "code",
   "execution_count": 18,
   "metadata": {
    "ExecuteTime": {
     "end_time": "2020-03-18T14:24:42.439365Z",
     "start_time": "2020-03-18T14:24:42.427306Z"
    }
   },
   "outputs": [
    {
     "data": {
      "text/html": [
       "<div>\n",
       "<style scoped>\n",
       "    .dataframe tbody tr th:only-of-type {\n",
       "        vertical-align: middle;\n",
       "    }\n",
       "\n",
       "    .dataframe tbody tr th {\n",
       "        vertical-align: top;\n",
       "    }\n",
       "\n",
       "    .dataframe thead th {\n",
       "        text-align: right;\n",
       "    }\n",
       "</style>\n",
       "<table border=\"1\" class=\"dataframe\">\n",
       "  <thead>\n",
       "    <tr style=\"text-align: right;\">\n",
       "      <th></th>\n",
       "      <th>locality</th>\n",
       "      <th>lat</th>\n",
       "      <th>lng</th>\n",
       "      <th>datum</th>\n",
       "      <th>uncert</th>\n",
       "    </tr>\n",
       "  </thead>\n",
       "  <tbody>\n",
       "    <tr>\n",
       "      <th>0</th>\n",
       "      <td></td>\n",
       "      <td>None</td>\n",
       "      <td>None</td>\n",
       "      <td>None</td>\n",
       "      <td>None</td>\n",
       "    </tr>\n",
       "    <tr>\n",
       "      <th>1</th>\n",
       "      <td>San Francisco del Monte de Oro, 4 km E of down...</td>\n",
       "      <td>None</td>\n",
       "      <td>None</td>\n",
       "      <td>None</td>\n",
       "      <td>None</td>\n",
       "    </tr>\n",
       "    <tr>\n",
       "      <th>2</th>\n",
       "      <td>2.1 km N, 1.2 km E Cerro de la Laguna, Parque ...</td>\n",
       "      <td>None</td>\n",
       "      <td>None</td>\n",
       "      <td>None</td>\n",
       "      <td>None</td>\n",
       "    </tr>\n",
       "    <tr>\n",
       "      <th>3</th>\n",
       "      <td>3 km N Salinas del Diamante R. R. Station</td>\n",
       "      <td>None</td>\n",
       "      <td>None</td>\n",
       "      <td>None</td>\n",
       "      <td>None</td>\n",
       "    </tr>\n",
       "    <tr>\n",
       "      <th>4</th>\n",
       "      <td>4 km W Jct Hwy 338 and road to Horco Molle, al...</td>\n",
       "      <td>None</td>\n",
       "      <td>None</td>\n",
       "      <td>None</td>\n",
       "      <td>None</td>\n",
       "    </tr>\n",
       "    <tr>\n",
       "      <th>5</th>\n",
       "      <td>near LCTA plot 57, Fort Sill</td>\n",
       "      <td>None</td>\n",
       "      <td>None</td>\n",
       "      <td>None</td>\n",
       "      <td>None</td>\n",
       "    </tr>\n",
       "    <tr>\n",
       "      <th>6</th>\n",
       "      <td></td>\n",
       "      <td>None</td>\n",
       "      <td>None</td>\n",
       "      <td>None</td>\n",
       "      <td>None</td>\n",
       "    </tr>\n",
       "    <tr>\n",
       "      <th>7</th>\n",
       "      <td>Ellenton Bay</td>\n",
       "      <td>None</td>\n",
       "      <td>None</td>\n",
       "      <td>None</td>\n",
       "      <td>None</td>\n",
       "    </tr>\n",
       "    <tr>\n",
       "      <th>8</th>\n",
       "      <td>14 mi SE Broken Bow, on Mountain Fork River, O...</td>\n",
       "      <td>None</td>\n",
       "      <td>None</td>\n",
       "      <td>None</td>\n",
       "      <td>None</td>\n",
       "    </tr>\n",
       "    <tr>\n",
       "      <th>9</th>\n",
       "      <td>Brock Rd, Fairbanks</td>\n",
       "      <td>None</td>\n",
       "      <td>None</td>\n",
       "      <td>None</td>\n",
       "      <td>None</td>\n",
       "    </tr>\n",
       "    <tr>\n",
       "      <th>10</th>\n",
       "      <td>0.5 mi NW Upper Spavinaw Lake Dam</td>\n",
       "      <td>None</td>\n",
       "      <td>None</td>\n",
       "      <td>None</td>\n",
       "      <td>None</td>\n",
       "    </tr>\n",
       "    <tr>\n",
       "      <th>11</th>\n",
       "      <td>4 km W Jct Hwy 338 and Rd to Horco Molle along...</td>\n",
       "      <td>None</td>\n",
       "      <td>None</td>\n",
       "      <td>None</td>\n",
       "      <td>None</td>\n",
       "    </tr>\n",
       "    <tr>\n",
       "      <th>12</th>\n",
       "      <td>5 mi S Norman, on W side of Hwy 77</td>\n",
       "      <td>None</td>\n",
       "      <td>None</td>\n",
       "      <td>None</td>\n",
       "      <td>None</td>\n",
       "    </tr>\n",
       "    <tr>\n",
       "      <th>13</th>\n",
       "      <td>NE Jct I-35 and Main St, Norman</td>\n",
       "      <td>None</td>\n",
       "      <td>None</td>\n",
       "      <td>None</td>\n",
       "      <td>None</td>\n",
       "    </tr>\n",
       "    <tr>\n",
       "      <th>14</th>\n",
       "      <td>5 mi SSW Medicine Park, near LCTA plot 49, For...</td>\n",
       "      <td>None</td>\n",
       "      <td>None</td>\n",
       "      <td>None</td>\n",
       "      <td>None</td>\n",
       "    </tr>\n",
       "    <tr>\n",
       "      <th>15</th>\n",
       "      <td>km 42 on Hwy 364, S San Pedro de Colalao</td>\n",
       "      <td>None</td>\n",
       "      <td>None</td>\n",
       "      <td>None</td>\n",
       "      <td>None</td>\n",
       "    </tr>\n",
       "    <tr>\n",
       "      <th>16</th>\n",
       "      <td>6.5 mi SE Norman</td>\n",
       "      <td>None</td>\n",
       "      <td>None</td>\n",
       "      <td>None</td>\n",
       "      <td>None</td>\n",
       "    </tr>\n",
       "    <tr>\n",
       "      <th>17</th>\n",
       "      <td>3 km E Chouteau, Chouteau Creek</td>\n",
       "      <td>None</td>\n",
       "      <td>None</td>\n",
       "      <td>None</td>\n",
       "      <td>None</td>\n",
       "    </tr>\n",
       "    <tr>\n",
       "      <th>18</th>\n",
       "      <td>7.2 mi W Valparaiso</td>\n",
       "      <td>22.7706</td>\n",
       "      <td>-103.684</td>\n",
       "      <td>WGS84</td>\n",
       "      <td>10513</td>\n",
       "    </tr>\n",
       "    <tr>\n",
       "      <th>19</th>\n",
       "      <td>Sharp Plant, Memphis</td>\n",
       "      <td>None</td>\n",
       "      <td>None</td>\n",
       "      <td>None</td>\n",
       "      <td>None</td>\n",
       "    </tr>\n",
       "  </tbody>\n",
       "</table>\n",
       "</div>"
      ],
      "text/plain": [
       "                                             locality      lat      lng  \\\n",
       "0                                                         None     None   \n",
       "1   San Francisco del Monte de Oro, 4 km E of down...     None     None   \n",
       "2   2.1 km N, 1.2 km E Cerro de la Laguna, Parque ...     None     None   \n",
       "3           3 km N Salinas del Diamante R. R. Station     None     None   \n",
       "4   4 km W Jct Hwy 338 and road to Horco Molle, al...     None     None   \n",
       "5                        near LCTA plot 57, Fort Sill     None     None   \n",
       "6                                                         None     None   \n",
       "7                                        Ellenton Bay     None     None   \n",
       "8   14 mi SE Broken Bow, on Mountain Fork River, O...     None     None   \n",
       "9                                 Brock Rd, Fairbanks     None     None   \n",
       "10                  0.5 mi NW Upper Spavinaw Lake Dam     None     None   \n",
       "11  4 km W Jct Hwy 338 and Rd to Horco Molle along...     None     None   \n",
       "12                 5 mi S Norman, on W side of Hwy 77     None     None   \n",
       "13                    NE Jct I-35 and Main St, Norman     None     None   \n",
       "14  5 mi SSW Medicine Park, near LCTA plot 49, For...     None     None   \n",
       "15           km 42 on Hwy 364, S San Pedro de Colalao     None     None   \n",
       "16                                   6.5 mi SE Norman     None     None   \n",
       "17                    3 km E Chouteau, Chouteau Creek     None     None   \n",
       "18                                7.2 mi W Valparaiso  22.7706 -103.684   \n",
       "19                               Sharp Plant, Memphis     None     None   \n",
       "\n",
       "    datum uncert  \n",
       "0    None   None  \n",
       "1    None   None  \n",
       "2    None   None  \n",
       "3    None   None  \n",
       "4    None   None  \n",
       "5    None   None  \n",
       "6    None   None  \n",
       "7    None   None  \n",
       "8    None   None  \n",
       "9    None   None  \n",
       "10   None   None  \n",
       "11   None   None  \n",
       "12   None   None  \n",
       "13   None   None  \n",
       "14   None   None  \n",
       "15   None   None  \n",
       "16   None   None  \n",
       "17   None   None  \n",
       "18  WGS84  10513  \n",
       "19   None   None  "
      ]
     },
     "execution_count": 18,
     "metadata": {},
     "output_type": "execute_result"
    }
   ],
   "source": [
    "df.loc[:, ['locality', 'lat', 'lng', 'datum', 'uncert']].head(20)"
   ]
  },
  {
   "cell_type": "code",
   "execution_count": 19,
   "metadata": {
    "ExecuteTime": {
     "end_time": "2020-03-18T14:24:49.138160Z",
     "start_time": "2020-03-18T14:24:47.855385Z"
    }
   },
   "outputs": [],
   "source": [
    "df.to_csv(out_file, index=False)"
   ]
  },
  {
   "cell_type": "code",
   "execution_count": 20,
   "metadata": {
    "ExecuteTime": {
     "end_time": "2020-03-18T14:24:49.252647Z",
     "start_time": "2020-03-18T14:24:49.139351Z"
    }
   },
   "outputs": [
    {
     "data": {
      "text/plain": [
       "catalognumber        38460\n",
       "collectioncode       38460\n",
       "decimallatitude      38460\n",
       "decimallongitude     38460\n",
       "dynamicproperties    38460\n",
       "                     ...  \n",
       "4th_sex              38460\n",
       "lat                   3068\n",
       "lng                   3068\n",
       "datum                 1847\n",
       "uncert                3068\n",
       "Length: 90, dtype: int64"
      ]
     },
     "execution_count": 20,
     "metadata": {},
     "output_type": "execute_result"
    }
   ],
   "source": [
    "df.count()"
   ]
  },
  {
   "cell_type": "code",
   "execution_count": 21,
   "metadata": {
    "ExecuteTime": {
     "end_time": "2020-03-18T14:25:01.913318Z",
     "start_time": "2020-03-18T14:25:01.909894Z"
    }
   },
   "outputs": [
    {
     "data": {
      "text/plain": [
       "7.98"
      ]
     },
     "execution_count": 21,
     "metadata": {},
     "output_type": "execute_result"
    }
   ],
   "source": [
    "round(3068 / 38460 * 100.0, 2)"
   ]
  },
  {
   "cell_type": "code",
   "execution_count": null,
   "metadata": {},
   "outputs": [],
   "source": []
  }
 ],
 "metadata": {
  "kernelspec": {
   "display_name": "Python 3",
   "language": "python",
   "name": "python3"
  },
  "language_info": {
   "codemirror_mode": {
    "name": "ipython",
    "version": 3
   },
   "file_extension": ".py",
   "mimetype": "text/x-python",
   "name": "python",
   "nbconvert_exporter": "python",
   "pygments_lexer": "ipython3",
   "version": "3.8.0"
  }
 },
 "nbformat": 4,
 "nbformat_minor": 4
}
