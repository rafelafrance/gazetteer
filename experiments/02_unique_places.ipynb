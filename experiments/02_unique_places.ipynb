{
 "cells": [
  {
   "cell_type": "code",
   "execution_count": 1,
   "metadata": {
    "ExecuteTime": {
     "end_time": "2020-03-09T17:15:19.377640Z",
     "start_time": "2020-03-09T17:15:19.375527Z"
    }
   },
   "outputs": [],
   "source": [
    "import sys\n",
    "sys.path.append('..')"
   ]
  },
  {
   "cell_type": "code",
   "execution_count": 2,
   "metadata": {
    "ExecuteTime": {
     "end_time": "2020-03-09T17:15:19.940447Z",
     "start_time": "2020-03-09T17:15:19.379070Z"
    }
   },
   "outputs": [],
   "source": [
    "import os\n",
    "from pathlib import Path\n",
    "import sqlite3\n",
    "import regex\n",
    "import numpy as np\n",
    "import pandas as pd\n",
    "import dask.dataframe as dd"
   ]
  },
  {
   "cell_type": "code",
   "execution_count": 3,
   "metadata": {
    "ExecuteTime": {
     "end_time": "2020-03-09T17:15:19.944540Z",
     "start_time": "2020-03-09T17:15:19.941640Z"
    }
   },
   "outputs": [],
   "source": [
    "DATA = Path('..') / 'data'\n",
    "PRUNED = DATA / '01_pruned'\n",
    "INPUT = DATA / 'input'\n",
    "\n",
    "RAW = PRUNED / 'raw.csv'\n",
    "DB = PRUNED / 'gazetteer.db'\n",
    "\n",
    "OUTPUT = PRUNED / 'unique.csv'\n",
    "TEMP_DIR = PRUNED / 'unique.csv.temp'\n",
    "TEMP_FILE = TEMP_DIR / '0.part'\n",
    "\n",
    "TARGET = INPUT / 'mammals_no_geo.csv.gz'"
   ]
  },
  {
   "cell_type": "code",
   "execution_count": 4,
   "metadata": {
    "ExecuteTime": {
     "end_time": "2020-03-09T17:15:20.134909Z",
     "start_time": "2020-03-09T17:15:19.945701Z"
    },
    "scrolled": true
   },
   "outputs": [
    {
     "data": {
      "text/html": [
       "<div><strong>Dask DataFrame Structure:</strong></div>\n",
       "<div>\n",
       "<style scoped>\n",
       "    .dataframe tbody tr th:only-of-type {\n",
       "        vertical-align: middle;\n",
       "    }\n",
       "\n",
       "    .dataframe tbody tr th {\n",
       "        vertical-align: top;\n",
       "    }\n",
       "\n",
       "    .dataframe thead th {\n",
       "        text-align: right;\n",
       "    }\n",
       "</style>\n",
       "<table border=\"1\" class=\"dataframe\">\n",
       "  <thead>\n",
       "    <tr style=\"text-align: right;\">\n",
       "      <th></th>\n",
       "      <th>gbifid</th>\n",
       "      <th>coreid</th>\n",
       "      <th>locality</th>\n",
       "      <th>lat</th>\n",
       "      <th>lng</th>\n",
       "      <th>datum</th>\n",
       "      <th>uncert</th>\n",
       "      <th>country</th>\n",
       "      <th>state</th>\n",
       "      <th>county</th>\n",
       "    </tr>\n",
       "    <tr>\n",
       "      <th>npartitions=310</th>\n",
       "      <th></th>\n",
       "      <th></th>\n",
       "      <th></th>\n",
       "      <th></th>\n",
       "      <th></th>\n",
       "      <th></th>\n",
       "      <th></th>\n",
       "      <th></th>\n",
       "      <th></th>\n",
       "      <th></th>\n",
       "    </tr>\n",
       "  </thead>\n",
       "  <tbody>\n",
       "    <tr>\n",
       "      <th></th>\n",
       "      <td>object</td>\n",
       "      <td>object</td>\n",
       "      <td>object</td>\n",
       "      <td>object</td>\n",
       "      <td>object</td>\n",
       "      <td>object</td>\n",
       "      <td>object</td>\n",
       "      <td>object</td>\n",
       "      <td>object</td>\n",
       "      <td>object</td>\n",
       "    </tr>\n",
       "    <tr>\n",
       "      <th></th>\n",
       "      <td>...</td>\n",
       "      <td>...</td>\n",
       "      <td>...</td>\n",
       "      <td>...</td>\n",
       "      <td>...</td>\n",
       "      <td>...</td>\n",
       "      <td>...</td>\n",
       "      <td>...</td>\n",
       "      <td>...</td>\n",
       "      <td>...</td>\n",
       "    </tr>\n",
       "    <tr>\n",
       "      <th>...</th>\n",
       "      <td>...</td>\n",
       "      <td>...</td>\n",
       "      <td>...</td>\n",
       "      <td>...</td>\n",
       "      <td>...</td>\n",
       "      <td>...</td>\n",
       "      <td>...</td>\n",
       "      <td>...</td>\n",
       "      <td>...</td>\n",
       "      <td>...</td>\n",
       "    </tr>\n",
       "    <tr>\n",
       "      <th></th>\n",
       "      <td>...</td>\n",
       "      <td>...</td>\n",
       "      <td>...</td>\n",
       "      <td>...</td>\n",
       "      <td>...</td>\n",
       "      <td>...</td>\n",
       "      <td>...</td>\n",
       "      <td>...</td>\n",
       "      <td>...</td>\n",
       "      <td>...</td>\n",
       "    </tr>\n",
       "    <tr>\n",
       "      <th></th>\n",
       "      <td>...</td>\n",
       "      <td>...</td>\n",
       "      <td>...</td>\n",
       "      <td>...</td>\n",
       "      <td>...</td>\n",
       "      <td>...</td>\n",
       "      <td>...</td>\n",
       "      <td>...</td>\n",
       "      <td>...</td>\n",
       "      <td>...</td>\n",
       "    </tr>\n",
       "  </tbody>\n",
       "</table>\n",
       "</div>\n",
       "<div>Dask Name: fillna, 1240 tasks</div>"
      ],
      "text/plain": [
       "Dask DataFrame Structure:\n",
       "                 gbifid  coreid locality     lat     lng   datum  uncert country   state  county\n",
       "npartitions=310                                                                                 \n",
       "                 object  object   object  object  object  object  object  object  object  object\n",
       "                    ...     ...      ...     ...     ...     ...     ...     ...     ...     ...\n",
       "...                 ...     ...      ...     ...     ...     ...     ...     ...     ...     ...\n",
       "                    ...     ...      ...     ...     ...     ...     ...     ...     ...     ...\n",
       "                    ...     ...      ...     ...     ...     ...     ...     ...     ...     ...\n",
       "Dask Name: fillna, 1240 tasks"
      ]
     },
     "execution_count": 4,
     "metadata": {},
     "output_type": "execute_result"
    }
   ],
   "source": [
    "df = dd.read_csv(RAW, dtype=str).fillna('')\n",
    "df"
   ]
  },
  {
   "cell_type": "code",
   "execution_count": 5,
   "metadata": {
    "ExecuteTime": {
     "end_time": "2020-03-09T17:15:20.141535Z",
     "start_time": "2020-03-09T17:15:20.136168Z"
    }
   },
   "outputs": [],
   "source": [
    "df = df.drop(columns=['gbifid', 'coreid', 'country', 'state', 'county'])"
   ]
  },
  {
   "cell_type": "markdown",
   "metadata": {},
   "source": [
    "## Normalize locality values\n",
    "\n",
    "- Space normalize\n",
    "- Lower case\n",
    "- Remove punctuation except for \".\" decimal points, dots surrounded by digits"
   ]
  },
  {
   "cell_type": "code",
   "execution_count": 6,
   "metadata": {
    "ExecuteTime": {
     "end_time": "2020-03-09T17:15:20.156667Z",
     "start_time": "2020-03-09T17:15:20.142702Z"
    }
   },
   "outputs": [],
   "source": [
    "remove = r'(?<!\\d)[.,;/(){}\"\\'\\[\\]\\-](?!\\d)'\n",
    "\n",
    "df['norm'] = df['locality'].str.replace(remove, ' ')\n",
    "df['norm'] = df['norm'].str.lower().str.split().str.join(' ')"
   ]
  },
  {
   "cell_type": "markdown",
   "metadata": {},
   "source": [
    "## Need to drop AFTER other manipulations because the drop reduces to a single thread"
   ]
  },
  {
   "cell_type": "code",
   "execution_count": 7,
   "metadata": {
    "ExecuteTime": {
     "end_time": "2020-03-09T17:15:20.187008Z",
     "start_time": "2020-03-09T17:15:20.157686Z"
    }
   },
   "outputs": [
    {
     "data": {
      "text/html": [
       "<div><strong>Dask DataFrame Structure:</strong></div>\n",
       "<div>\n",
       "<style scoped>\n",
       "    .dataframe tbody tr th:only-of-type {\n",
       "        vertical-align: middle;\n",
       "    }\n",
       "\n",
       "    .dataframe tbody tr th {\n",
       "        vertical-align: top;\n",
       "    }\n",
       "\n",
       "    .dataframe thead th {\n",
       "        text-align: right;\n",
       "    }\n",
       "</style>\n",
       "<table border=\"1\" class=\"dataframe\">\n",
       "  <thead>\n",
       "    <tr style=\"text-align: right;\">\n",
       "      <th></th>\n",
       "      <th>locality</th>\n",
       "      <th>lat</th>\n",
       "      <th>lng</th>\n",
       "      <th>datum</th>\n",
       "      <th>uncert</th>\n",
       "      <th>norm</th>\n",
       "    </tr>\n",
       "    <tr>\n",
       "      <th>npartitions=1</th>\n",
       "      <th></th>\n",
       "      <th></th>\n",
       "      <th></th>\n",
       "      <th></th>\n",
       "      <th></th>\n",
       "      <th></th>\n",
       "    </tr>\n",
       "  </thead>\n",
       "  <tbody>\n",
       "    <tr>\n",
       "      <th></th>\n",
       "      <td>object</td>\n",
       "      <td>object</td>\n",
       "      <td>object</td>\n",
       "      <td>object</td>\n",
       "      <td>object</td>\n",
       "      <td>object</td>\n",
       "    </tr>\n",
       "    <tr>\n",
       "      <th></th>\n",
       "      <td>...</td>\n",
       "      <td>...</td>\n",
       "      <td>...</td>\n",
       "      <td>...</td>\n",
       "      <td>...</td>\n",
       "      <td>...</td>\n",
       "    </tr>\n",
       "  </tbody>\n",
       "</table>\n",
       "</div>\n",
       "<div>Dask Name: drop-duplicates-agg, 4385 tasks</div>"
      ],
      "text/plain": [
       "Dask DataFrame Structure:\n",
       "              locality     lat     lng   datum  uncert    norm\n",
       "npartitions=1                                                 \n",
       "                object  object  object  object  object  object\n",
       "                   ...     ...     ...     ...     ...     ...\n",
       "Dask Name: drop-duplicates-agg, 4385 tasks"
      ]
     },
     "execution_count": 7,
     "metadata": {},
     "output_type": "execute_result"
    }
   ],
   "source": [
    "df = df.drop_duplicates()\n",
    "df"
   ]
  },
  {
   "cell_type": "code",
   "execution_count": 8,
   "metadata": {
    "ExecuteTime": {
     "end_time": "2020-03-09T17:44:30.651951Z",
     "start_time": "2020-03-09T17:15:20.187959Z"
    }
   },
   "outputs": [
    {
     "data": {
      "text/plain": [
       "['/home/rafe/work/other/gazetteer/data/01_pruned/unique.csv.temp/0.part']"
      ]
     },
     "execution_count": 8,
     "metadata": {},
     "output_type": "execute_result"
    }
   ],
   "source": [
    "df.to_csv(TEMP_DIR, index=False)"
   ]
  },
  {
   "cell_type": "markdown",
   "metadata": {},
   "source": [
    "## Rename output file"
   ]
  },
  {
   "cell_type": "code",
   "execution_count": 9,
   "metadata": {
    "ExecuteTime": {
     "end_time": "2020-03-09T17:44:30.657399Z",
     "start_time": "2020-03-09T17:44:30.654467Z"
    }
   },
   "outputs": [],
   "source": [
    "os.rename(TEMP_FILE, OUTPUT)\n",
    "os.rmdir(TEMP_DIR)"
   ]
  },
  {
   "cell_type": "markdown",
   "metadata": {},
   "source": [
    "## Update data types"
   ]
  },
  {
   "cell_type": "code",
   "execution_count": 10,
   "metadata": {
    "ExecuteTime": {
     "end_time": "2020-03-09T17:45:11.775149Z",
     "start_time": "2020-03-09T17:44:30.658590Z"
    }
   },
   "outputs": [
    {
     "name": "stderr",
     "output_type": "stream",
     "text": [
      "/home/rafe/venvs/py38/lib/python3.8/site-packages/IPython/core/interactiveshell.py:3062: DtypeWarning: Columns (3) have mixed types.Specify dtype option on import or set low_memory=False.\n",
      "  has_raised = await self.run_ast_nodes(code_ast.body, cell_name,\n"
     ]
    }
   ],
   "source": [
    "df = pd.read_csv(\n",
    "    str(OUTPUT),\n",
    "    dtype={'locality': str,\n",
    "           'lat': np.float32,\n",
    "           'lng': np.float32,\n",
    "           'dataum': str,\n",
    "           'uncert': np.int32,\n",
    "           })"
   ]
  },
  {
   "cell_type": "code",
   "execution_count": 11,
   "metadata": {
    "ExecuteTime": {
     "end_time": "2020-03-09T17:46:19.323564Z",
     "start_time": "2020-03-09T17:45:11.776403Z"
    }
   },
   "outputs": [],
   "source": [
    "with sqlite3.connect(DB) as cxn:\n",
    "    cxn.row_factory = sqlite3.Row\n",
    "    df.to_sql('places', cxn, if_exists='replace', index=False)"
   ]
  },
  {
   "cell_type": "code",
   "execution_count": 12,
   "metadata": {
    "ExecuteTime": {
     "end_time": "2020-03-09T17:47:25.748415Z",
     "start_time": "2020-03-09T17:46:19.324661Z"
    }
   },
   "outputs": [],
   "source": [
    "with sqlite3.connect(DB) as cxn:\n",
    "    sql = \"\"\"\n",
    "        CREATE INDEX places_locality ON places (locality);\n",
    "        CREATE INDEX places_norm ON places (norm);\n",
    "        \"\"\"\n",
    "    cxn.executescript(sql)"
   ]
  },
  {
   "cell_type": "code",
   "execution_count": null,
   "metadata": {},
   "outputs": [],
   "source": []
  }
 ],
 "metadata": {
  "kernelspec": {
   "display_name": "Python 3",
   "language": "python",
   "name": "python3"
  },
  "language_info": {
   "codemirror_mode": {
    "name": "ipython",
    "version": 3
   },
   "file_extension": ".py",
   "mimetype": "text/x-python",
   "name": "python",
   "nbconvert_exporter": "python",
   "pygments_lexer": "ipython3",
   "version": "3.8.0"
  }
 },
 "nbformat": 4,
 "nbformat_minor": 4
}
