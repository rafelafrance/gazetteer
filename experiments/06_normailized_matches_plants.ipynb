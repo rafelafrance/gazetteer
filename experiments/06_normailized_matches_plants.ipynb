{
 "cells": [
  {
   "cell_type": "code",
   "execution_count": 1,
   "metadata": {
    "ExecuteTime": {
     "end_time": "2020-03-20T15:02:34.248403Z",
     "start_time": "2020-03-20T15:02:34.242414Z"
    }
   },
   "outputs": [],
   "source": [
    "import sys\n",
    "sys.path.append('..')"
   ]
  },
  {
   "cell_type": "code",
   "execution_count": 1,
   "metadata": {
    "ExecuteTime": {
     "end_time": "2020-04-24T18:25:12.491782Z",
     "start_time": "2020-04-24T18:25:12.118139Z"
    }
   },
   "outputs": [],
   "source": [
    "import csv\n",
    "import sqlite3\n",
    "from pathlib import Path\n",
    "\n",
    "import dask.dataframe as dd\n",
    "import pandas as pd\n",
    "import regex\n",
    "from tqdm.notebook import tqdm"
   ]
  },
  {
   "cell_type": "code",
   "execution_count": 3,
   "metadata": {
    "ExecuteTime": {
     "end_time": "2020-03-20T15:02:35.934983Z",
     "start_time": "2020-03-20T15:02:35.925804Z"
    }
   },
   "outputs": [],
   "source": [
    "DATA = Path('..') / 'data'\n",
    "RAW = DATA / '00_raw'\n",
    "PRUNED = DATA / '01_pruned'\n",
    "IN_DIR = DATA / 'input'\n",
    "OUT_DIR = DATA / 'output'\n",
    "\n",
    "DB = PRUNED / 'gazetteer.db'\n",
    "\n",
    "CHUNK = 1_000_000"
   ]
  },
  {
   "cell_type": "markdown",
   "metadata": {},
   "source": [
    "## Get plants_idigbio/occurrence_raw"
   ]
  },
  {
   "cell_type": "code",
   "execution_count": null,
   "metadata": {
    "ExecuteTime": {
     "end_time": "2020-03-10T20:35:05.976300Z",
     "start_time": "2020-03-10T20:35:05.973693Z"
    }
   },
   "outputs": [],
   "source": [
    "in_file = RAW / 'insects_idigbio' / 'occurrence_raw.csv.gz'\n",
    "out_file = IN_DIR / 'insects_idigbio_occurrence_raw_no_geo.csv'"
   ]
  },
  {
   "cell_type": "code",
   "execution_count": null,
   "metadata": {
    "ExecuteTime": {
     "end_time": "2020-03-10T21:30:22.161835Z",
     "start_time": "2020-03-10T20:39:11.017973Z"
    }
   },
   "outputs": [],
   "source": [
    "reader = pd.read_csv(in_file, dtype=str, chunksize=CHUNK)\n",
    "\n",
    "first_chunk = True\n",
    "for df in tqdm(reader):\n",
    "    has_loc = df['dwc:locality'].notna() | df['dwc:verbatimLocality'].notna()\n",
    "    df['dwc:decimalLatitude'] = (\n",
    "        pd.to_numeric(df['dwc:decimalLatitude'], errors='coerce'\n",
    "                      ).fillna(9999.9).astype(float))\n",
    "    df['dwc:decimalLongitude'] = (\n",
    "        pd.to_numeric(df['dwc:decimalLongitude'], errors='coerce'\n",
    "                      ).fillna(9999.9).astype(float))\n",
    "    has_lat = (df['dwc:decimalLatitude'].between(-90.0, 90.0)\n",
    "               & df['dwc:decimalLatitude'] != 0.0)\n",
    "    has_lng = (df['dwc:decimalLongitude'].between(-180.0, 180.0)\n",
    "               & df['dwc:decimalLongitude'] != 0.0)\n",
    "    keep = has_loc & ~(has_lat & has_lng)\n",
    "    df = df.loc[keep, :]\n",
    "\n",
    "    if first_chunk:\n",
    "        df.to_csv(out_file, index=False)\n",
    "    else:\n",
    "        df.to_csv(out_file, index=False, mode='a', header=False)\n",
    "    first_chunk = False"
   ]
  },
  {
   "cell_type": "markdown",
   "metadata": {},
   "source": [
    "## Get plants_gbif without lat/longs\n",
    "\n",
    "It looks like there is garbage data in this CSV file that Pandas cannot handle, so I need to use the Python CSV library. This can happen when people copy and paste Word documents into a data cell."
   ]
  },
  {
   "cell_type": "code",
   "execution_count": 5,
   "metadata": {
    "ExecuteTime": {
     "end_time": "2020-03-16T21:50:34.438979Z",
     "start_time": "2020-03-16T21:50:34.431578Z"
    }
   },
   "outputs": [
    {
     "data": {
      "text/plain": [
       "131072"
      ]
     },
     "execution_count": 5,
     "metadata": {},
     "output_type": "execute_result"
    }
   ],
   "source": [
    "in_file = RAW / 'plants_gbif' / 'verbatim.txt'\n",
    "out_file = IN_DIR / 'plants_gbif_verbatim_no_geo.csv'\n",
    "\n",
    "# csv.field_size_limit(10_000_000)  # There are some big fields"
   ]
  },
  {
   "cell_type": "code",
   "execution_count": 6,
   "metadata": {
    "ExecuteTime": {
     "end_time": "2020-03-16T21:50:35.299103Z",
     "start_time": "2020-03-16T21:50:35.279506Z"
    }
   },
   "outputs": [
    {
     "data": {
      "text/plain": [
       "217"
      ]
     },
     "execution_count": 6,
     "metadata": {},
     "output_type": "execute_result"
    }
   ],
   "source": [
    "# headers = !zcat \"$in_file\" | head -1\n",
    "headers = !head -1 \"$in_file\"\n",
    "headers = headers[0].split('\\t')\n",
    "len(headers)"
   ]
  },
  {
   "cell_type": "code",
   "execution_count": 8,
   "metadata": {
    "ExecuteTime": {
     "end_time": "2020-03-16T23:51:10.226280Z",
     "start_time": "2020-03-16T21:54:13.333613Z"
    }
   },
   "outputs": [
    {
     "data": {
      "application/vnd.jupyter.widget-view+json": {
       "model_id": "c583829b7ea7407885adeb7c9dadbe65",
       "version_major": 2,
       "version_minor": 0
      },
      "text/plain": [
       "HBox(children=(FloatProgress(value=1.0, bar_style='info', max=1.0), HTML(value='')))"
      ]
     },
     "metadata": {},
     "output_type": "display_data"
    },
    {
     "name": "stdout",
     "output_type": "stream",
     "text": [
      "\n"
     ]
    }
   ],
   "source": [
    "reader = pd.read_csv(\n",
    "    in_file, dtype=str, chunksize=CHUNK, sep='\\t',\n",
    "    error_bad_lines=False, warn_bad_lines=False)\n",
    "\n",
    "first_chunk = True\n",
    "for df in tqdm(reader):\n",
    "    # has_loc = df['locality'].notna() | df['verbatimLocality'].notna()\n",
    "    has_loc = df['locality'].notna()\n",
    "    df['decimalLatitude'] = (\n",
    "        pd.to_numeric(df['decimalLatitude'], errors='coerce'\n",
    "                      ).fillna(9999.9).astype(float))\n",
    "    df['decimalLongitude'] = (\n",
    "        pd.to_numeric(df['decimalLongitude'], errors='coerce'\n",
    "                      ).fillna(9999.9).astype(float))\n",
    "    has_lat = (df['decimalLatitude'].between(-90.0, 90.0)\n",
    "               & df['decimalLatitude'] != 0.0)\n",
    "    has_lng = (df['decimalLongitude'].between(-180.0, 180.0)\n",
    "               & df['decimalLongitude'] != 0.0)\n",
    "    keep = has_loc & ~(has_lat & has_lng)\n",
    "    df = df.loc[keep, :]\n",
    "\n",
    "    if first_chunk:\n",
    "        df.to_csv(out_file, index=False)\n",
    "    else:\n",
    "        df.to_csv(out_file, index=False, mode='a', header=False)\n",
    "    first_chunk = False"
   ]
  },
  {
   "cell_type": "markdown",
   "metadata": {},
   "source": [
    "## Setup for matching"
   ]
  },
  {
   "cell_type": "code",
   "execution_count": 5,
   "metadata": {
    "ExecuteTime": {
     "end_time": "2020-03-17T13:36:37.185389Z",
     "start_time": "2020-03-17T13:36:37.182572Z"
    }
   },
   "outputs": [],
   "source": [
    "unknown = ('unspecified', 'unknown')\n",
    "\n",
    "remove = regex.compile(r'(?<!\\d)[.,;/(){}\"\\'\\[\\]\\-](?!\\d)')\n",
    "\n",
    "sql = \"\"\"select * from places where norm = ?\"\"\"\n",
    "\n",
    "threshold = 0.1\n",
    "hi = 999.0\n",
    "lo = -hi"
   ]
  },
  {
   "cell_type": "markdown",
   "metadata": {
    "ExecuteTime": {
     "end_time": "2020-03-10T21:30:22.164963Z",
     "start_time": "2020-03-10T21:30:22.163221Z"
    }
   },
   "source": [
    "## Match plants_idigbio/occurrence_raw"
   ]
  },
  {
   "cell_type": "code",
   "execution_count": 6,
   "metadata": {
    "ExecuteTime": {
     "end_time": "2020-03-17T13:38:36.843272Z",
     "start_time": "2020-03-17T13:38:36.840941Z"
    }
   },
   "outputs": [],
   "source": [
    "in_file = IN_DIR / 'plants_idigbio_occurrence_raw_no_geo.csv.gz'\n",
    "out_file = OUT_DIR / 'plants_idigbio_no_geo_2020-03-17a.csv.gz'"
   ]
  },
  {
   "cell_type": "code",
   "execution_count": 8,
   "metadata": {
    "ExecuteTime": {
     "end_time": "2020-03-17T13:47:09.239159Z",
     "start_time": "2020-03-17T13:47:08.981103Z"
    }
   },
   "outputs": [
    {
     "data": {
      "text/plain": [
       "['coreid',\n",
       " 'aec:associatedTaxa',\n",
       " 'dc:rights',\n",
       " 'dcterms:accessRights',\n",
       " 'dcterms:bibliographicCitation',\n",
       " 'dcterms:language',\n",
       " 'dcterms:license',\n",
       " 'dcterms:modified',\n",
       " 'dcterms:references',\n",
       " 'dcterms:rights',\n",
       " 'dcterms:rightsHolder',\n",
       " 'dcterms:source',\n",
       " 'dcterms:type',\n",
       " 'dwc:Identification',\n",
       " 'dwc:MeasurementOrFact',\n",
       " 'dwc:ResourceRelationship',\n",
       " 'dwc:VerbatimEventDate',\n",
       " 'dwc:acceptedNameUsage',\n",
       " 'dwc:acceptedNameUsageID',\n",
       " 'dwc:accessRights',\n",
       " 'dwc:associatedMedia',\n",
       " 'dwc:associatedOccurrences',\n",
       " 'dwc:associatedOrganisms',\n",
       " 'dwc:associatedReferences',\n",
       " 'dwc:associatedSequences',\n",
       " 'dwc:associatedTaxa',\n",
       " 'dwc:basisOfRecord',\n",
       " 'dwc:bed',\n",
       " 'dwc:behavior',\n",
       " 'dwc:catalogNumber',\n",
       " 'dwc:class',\n",
       " 'dwc:classs',\n",
       " 'dwc:collectionCode',\n",
       " 'dwc:collectionID',\n",
       " 'dwc:continent',\n",
       " 'dwc:coordinatePrecision',\n",
       " 'dwc:coordinateUncertaintyInMeters',\n",
       " 'dwc:country',\n",
       " 'dwc:countryCode',\n",
       " 'dwc:county',\n",
       " 'dwc:dataGeneralizations',\n",
       " 'dwc:datasetID',\n",
       " 'dwc:datasetName',\n",
       " 'dwc:dateIdentified',\n",
       " 'dwc:day',\n",
       " 'dwc:decimalLatitude',\n",
       " 'dwc:decimalLongitude',\n",
       " 'dwc:disposition',\n",
       " 'dwc:dynamicProperties',\n",
       " 'dwc:earliestAgeOrLowestStage',\n",
       " 'dwc:earliestEonOrLowestEonothem',\n",
       " 'dwc:earliestEpochOrLowestSeries',\n",
       " 'dwc:earliestEraOrLowestErathem',\n",
       " 'dwc:earliestPeriodOrLowestSystem',\n",
       " 'dwc:endDayOfYear',\n",
       " 'dwc:establishmentMeans',\n",
       " 'dwc:eventDate',\n",
       " 'dwc:eventID',\n",
       " 'dwc:eventRemarks',\n",
       " 'dwc:eventTime',\n",
       " 'dwc:family',\n",
       " 'dwc:fieldNotes',\n",
       " 'dwc:fieldNumber',\n",
       " 'dwc:footprintSRS',\n",
       " 'dwc:footprintSpatialFit',\n",
       " 'dwc:footprintWKT',\n",
       " 'dwc:formation',\n",
       " 'dwc:genus',\n",
       " 'dwc:geodeticDatum',\n",
       " 'dwc:geologicalContextID',\n",
       " 'dwc:georeferenceProtocol',\n",
       " 'dwc:georeferenceRemarks',\n",
       " 'dwc:georeferenceSources',\n",
       " 'dwc:georeferenceVerificationStatus',\n",
       " 'dwc:georeferencedBy',\n",
       " 'dwc:georeferencedDate',\n",
       " 'dwc:group',\n",
       " 'dwc:habitat',\n",
       " 'dwc:higherClassification',\n",
       " 'dwc:higherGeography',\n",
       " 'dwc:higherGeographyID',\n",
       " 'dwc:highestBiostratigraphicZone',\n",
       " 'dwc:identificationID',\n",
       " 'dwc:identificationQualifier',\n",
       " 'dwc:identificationReferences',\n",
       " 'dwc:identificationRemarks',\n",
       " 'dwc:identificationVerificationStatus',\n",
       " 'dwc:identifiedBy',\n",
       " 'dwc:individualCount',\n",
       " 'dwc:informationWithheld',\n",
       " 'dwc:infraspecificEpithet',\n",
       " 'dwc:institutionCode',\n",
       " 'dwc:institutionID',\n",
       " 'dwc:island',\n",
       " 'dwc:islandGroup',\n",
       " 'dwc:kingdom',\n",
       " 'dwc:language',\n",
       " 'dwc:latestAgeOrHighestStage',\n",
       " 'dwc:latestEonOrHighestEonothem',\n",
       " 'dwc:latestEpochOrHighestSeries',\n",
       " 'dwc:latestEraOrHighestErathem',\n",
       " 'dwc:latestPeriodOrHighestSystem',\n",
       " 'dwc:lifeStage',\n",
       " 'dwc:lithostratigraphicTerms',\n",
       " 'dwc:locality',\n",
       " 'dwc:locationAccordingTo',\n",
       " 'dwc:locationID',\n",
       " 'dwc:locationRemarks',\n",
       " 'dwc:lowestBiostratigraphicZone',\n",
       " 'dwc:materialSampleID',\n",
       " 'dwc:maximumDepthInMeters',\n",
       " 'dwc:maximumElevationInMeters',\n",
       " 'dwc:member',\n",
       " 'dwc:minimumDepthInMeters',\n",
       " 'dwc:minimumElevationInMeters',\n",
       " 'dwc:modified',\n",
       " 'dwc:month',\n",
       " 'dwc:municipality',\n",
       " 'dwc:nameAccordingTo',\n",
       " 'dwc:namePublishedIn',\n",
       " 'dwc:namePublishedInID',\n",
       " 'dwc:namePublishedInYear',\n",
       " 'dwc:nomenclaturalCode',\n",
       " 'dwc:nomenclaturalStatus',\n",
       " 'dwc:occurrenceDetails',\n",
       " 'dwc:occurrenceID',\n",
       " 'dwc:occurrenceRemarks',\n",
       " 'dwc:occurrenceStatus',\n",
       " 'dwc:order',\n",
       " 'dwc:organismID',\n",
       " 'dwc:organismName',\n",
       " 'dwc:organismQuantity',\n",
       " 'dwc:organismQuantityType',\n",
       " 'dwc:organismRemarks',\n",
       " 'dwc:originalNameUsage',\n",
       " 'dwc:originalNameUsageID',\n",
       " 'dwc:otherCatalogNumbers',\n",
       " 'dwc:ownerInstitutionCode',\n",
       " 'dwc:parentNameUsage',\n",
       " 'dwc:phylum',\n",
       " 'dwc:pointRadiusSpatialFit',\n",
       " 'dwc:preparations',\n",
       " 'dwc:previousIdentifications',\n",
       " 'dwc:recordNumber',\n",
       " 'dwc:recordedBy',\n",
       " 'dwc:reproductiveCondition',\n",
       " 'dwc:rights',\n",
       " 'dwc:rightsHolder',\n",
       " 'dwc:sampleSizeValue',\n",
       " 'dwc:samplingEffort',\n",
       " 'dwc:samplingProtocol',\n",
       " 'dwc:scientificName',\n",
       " 'dwc:scientificNameAuthorship',\n",
       " 'dwc:scientificNameID',\n",
       " 'dwc:sex',\n",
       " 'dwc:specificEpithet',\n",
       " 'dwc:startDayOfYear',\n",
       " 'dwc:stateProvince',\n",
       " 'dwc:subgenus',\n",
       " 'dwc:taxonID',\n",
       " 'dwc:taxonRank',\n",
       " 'dwc:taxonRemarks',\n",
       " 'dwc:taxonomicStatus',\n",
       " 'dwc:typeStatus',\n",
       " 'dwc:verbatimCoordinateSystem',\n",
       " 'dwc:verbatimCoordinates',\n",
       " 'dwc:verbatimDepth',\n",
       " 'dwc:verbatimElevation',\n",
       " 'dwc:verbatimEventDate',\n",
       " 'dwc:verbatimLatitude',\n",
       " 'dwc:verbatimLocality',\n",
       " 'dwc:verbatimLongitude',\n",
       " 'dwc:verbatimSRS',\n",
       " 'dwc:verbatimTaxonRank',\n",
       " 'dwc:vernacularName',\n",
       " 'dwc:waterBody',\n",
       " 'dwc:year',\n",
       " 'gbif:Identifier',\n",
       " 'gbif:Reference',\n",
       " 'idigbio:recordId',\n",
       " 'symbiota:recordEnteredBy',\n",
       " 'symbiota:verbatimScientificName',\n",
       " 'zan:ChronometricDate']"
      ]
     },
     "execution_count": 8,
     "metadata": {},
     "output_type": "execute_result"
    }
   ],
   "source": [
    "headers = !zcat \"$in_file\" | head -1\n",
    "headers = headers[0].split(',')\n",
    "headers"
   ]
  },
  {
   "cell_type": "code",
   "execution_count": 13,
   "metadata": {
    "ExecuteTime": {
     "end_time": "2020-03-17T18:49:39.273077Z",
     "start_time": "2020-03-17T15:10:53.101740Z"
    },
    "scrolled": true
   },
   "outputs": [
    {
     "data": {
      "application/vnd.jupyter.widget-view+json": {
       "model_id": "c30d6edac5664f45ba002cba0b7f6228",
       "version_major": 2,
       "version_minor": 0
      },
      "text/plain": [
       "HBox(children=(FloatProgress(value=1.0, bar_style='info', max=1.0), HTML(value='')))"
      ]
     },
     "metadata": {},
     "output_type": "display_data"
    },
    {
     "data": {
      "application/vnd.jupyter.widget-view+json": {
       "model_id": "0b39175a9c124354baa4a99fcde821d2",
       "version_major": 2,
       "version_minor": 0
      },
      "text/plain": [
       "HBox(children=(FloatProgress(value=1.0, bar_style='info', max=1.0), HTML(value='')))"
      ]
     },
     "metadata": {},
     "output_type": "display_data"
    },
    {
     "name": "stdout",
     "output_type": "stream",
     "text": [
      "\n"
     ]
    },
    {
     "data": {
      "application/vnd.jupyter.widget-view+json": {
       "model_id": "436abc8a5c9d4627b47bf49fcec15350",
       "version_major": 2,
       "version_minor": 0
      },
      "text/plain": [
       "HBox(children=(FloatProgress(value=1.0, bar_style='info', max=1.0), HTML(value='')))"
      ]
     },
     "metadata": {},
     "output_type": "display_data"
    },
    {
     "name": "stdout",
     "output_type": "stream",
     "text": [
      "\n"
     ]
    },
    {
     "data": {
      "application/vnd.jupyter.widget-view+json": {
       "model_id": "e09de395f8594adb9a97477a26186da5",
       "version_major": 2,
       "version_minor": 0
      },
      "text/plain": [
       "HBox(children=(FloatProgress(value=1.0, bar_style='info', max=1.0), HTML(value='')))"
      ]
     },
     "metadata": {},
     "output_type": "display_data"
    },
    {
     "name": "stdout",
     "output_type": "stream",
     "text": [
      "\n"
     ]
    },
    {
     "data": {
      "application/vnd.jupyter.widget-view+json": {
       "model_id": "b81e864b3a36482b934c1c1f3be89c7b",
       "version_major": 2,
       "version_minor": 0
      },
      "text/plain": [
       "HBox(children=(FloatProgress(value=1.0, bar_style='info', max=1.0), HTML(value='')))"
      ]
     },
     "metadata": {},
     "output_type": "display_data"
    },
    {
     "name": "stdout",
     "output_type": "stream",
     "text": [
      "\n"
     ]
    },
    {
     "data": {
      "application/vnd.jupyter.widget-view+json": {
       "model_id": "86eb10ffdec9447d9e09614eea8260ac",
       "version_major": 2,
       "version_minor": 0
      },
      "text/plain": [
       "HBox(children=(FloatProgress(value=1.0, bar_style='info', max=1.0), HTML(value='')))"
      ]
     },
     "metadata": {},
     "output_type": "display_data"
    },
    {
     "name": "stdout",
     "output_type": "stream",
     "text": [
      "\n"
     ]
    },
    {
     "data": {
      "application/vnd.jupyter.widget-view+json": {
       "model_id": "f64f976385ae4f3b8dc00c18f9af750e",
       "version_major": 2,
       "version_minor": 0
      },
      "text/plain": [
       "HBox(children=(FloatProgress(value=1.0, bar_style='info', max=1.0), HTML(value='')))"
      ]
     },
     "metadata": {},
     "output_type": "display_data"
    },
    {
     "name": "stdout",
     "output_type": "stream",
     "text": [
      "\n"
     ]
    },
    {
     "data": {
      "application/vnd.jupyter.widget-view+json": {
       "model_id": "508bcdf5206d452190bf358b7cfda395",
       "version_major": 2,
       "version_minor": 0
      },
      "text/plain": [
       "HBox(children=(FloatProgress(value=1.0, bar_style='info', max=1.0), HTML(value='')))"
      ]
     },
     "metadata": {},
     "output_type": "display_data"
    },
    {
     "name": "stdout",
     "output_type": "stream",
     "text": [
      "\n"
     ]
    },
    {
     "data": {
      "application/vnd.jupyter.widget-view+json": {
       "model_id": "6073dbf1a9ab4d6382d92db9bb2f9257",
       "version_major": 2,
       "version_minor": 0
      },
      "text/plain": [
       "HBox(children=(FloatProgress(value=1.0, bar_style='info', max=1.0), HTML(value='')))"
      ]
     },
     "metadata": {},
     "output_type": "display_data"
    },
    {
     "name": "stdout",
     "output_type": "stream",
     "text": [
      "\n"
     ]
    },
    {
     "data": {
      "application/vnd.jupyter.widget-view+json": {
       "model_id": "d34ade2848924a5cbc82d1611e78e698",
       "version_major": 2,
       "version_minor": 0
      },
      "text/plain": [
       "HBox(children=(FloatProgress(value=1.0, bar_style='info', max=1.0), HTML(value='')))"
      ]
     },
     "metadata": {},
     "output_type": "display_data"
    },
    {
     "name": "stdout",
     "output_type": "stream",
     "text": [
      "\n"
     ]
    },
    {
     "data": {
      "application/vnd.jupyter.widget-view+json": {
       "model_id": "82de45a65e1e4d32a3158adccbfc9a8f",
       "version_major": 2,
       "version_minor": 0
      },
      "text/plain": [
       "HBox(children=(FloatProgress(value=1.0, bar_style='info', max=1.0), HTML(value='')))"
      ]
     },
     "metadata": {},
     "output_type": "display_data"
    },
    {
     "name": "stdout",
     "output_type": "stream",
     "text": [
      "\n"
     ]
    },
    {
     "data": {
      "application/vnd.jupyter.widget-view+json": {
       "model_id": "515b2fb0362244ef808dae7d1c42f28f",
       "version_major": 2,
       "version_minor": 0
      },
      "text/plain": [
       "HBox(children=(FloatProgress(value=1.0, bar_style='info', max=1.0), HTML(value='')))"
      ]
     },
     "metadata": {},
     "output_type": "display_data"
    },
    {
     "name": "stdout",
     "output_type": "stream",
     "text": [
      "\n"
     ]
    },
    {
     "data": {
      "application/vnd.jupyter.widget-view+json": {
       "model_id": "fbc75e21c5ea489088f50c9ef65755c7",
       "version_major": 2,
       "version_minor": 0
      },
      "text/plain": [
       "HBox(children=(FloatProgress(value=1.0, bar_style='info', max=1.0), HTML(value='')))"
      ]
     },
     "metadata": {},
     "output_type": "display_data"
    },
    {
     "name": "stdout",
     "output_type": "stream",
     "text": [
      "\n"
     ]
    },
    {
     "data": {
      "application/vnd.jupyter.widget-view+json": {
       "model_id": "e1213bbb6ff84ea1957d0da466ee200c",
       "version_major": 2,
       "version_minor": 0
      },
      "text/plain": [
       "HBox(children=(FloatProgress(value=1.0, bar_style='info', max=1.0), HTML(value='')))"
      ]
     },
     "metadata": {},
     "output_type": "display_data"
    },
    {
     "name": "stdout",
     "output_type": "stream",
     "text": [
      "\n"
     ]
    },
    {
     "data": {
      "application/vnd.jupyter.widget-view+json": {
       "model_id": "6317d2841f56408ea981049d05e5a6c6",
       "version_major": 2,
       "version_minor": 0
      },
      "text/plain": [
       "HBox(children=(FloatProgress(value=1.0, bar_style='info', max=1.0), HTML(value='')))"
      ]
     },
     "metadata": {},
     "output_type": "display_data"
    },
    {
     "name": "stdout",
     "output_type": "stream",
     "text": [
      "\n"
     ]
    },
    {
     "data": {
      "application/vnd.jupyter.widget-view+json": {
       "model_id": "bda49d5476a54a748d9721eb01566def",
       "version_major": 2,
       "version_minor": 0
      },
      "text/plain": [
       "HBox(children=(FloatProgress(value=1.0, bar_style='info', max=1.0), HTML(value='')))"
      ]
     },
     "metadata": {},
     "output_type": "display_data"
    },
    {
     "name": "stdout",
     "output_type": "stream",
     "text": [
      "\n"
     ]
    },
    {
     "data": {
      "application/vnd.jupyter.widget-view+json": {
       "model_id": "0568f0e8967c4cfa89092d9378a79e34",
       "version_major": 2,
       "version_minor": 0
      },
      "text/plain": [
       "HBox(children=(FloatProgress(value=1.0, bar_style='info', max=1.0), HTML(value='')))"
      ]
     },
     "metadata": {},
     "output_type": "display_data"
    },
    {
     "name": "stdout",
     "output_type": "stream",
     "text": [
      "\n"
     ]
    },
    {
     "data": {
      "application/vnd.jupyter.widget-view+json": {
       "model_id": "511c720958614363880e9ed169705117",
       "version_major": 2,
       "version_minor": 0
      },
      "text/plain": [
       "HBox(children=(FloatProgress(value=1.0, bar_style='info', max=1.0), HTML(value='')))"
      ]
     },
     "metadata": {},
     "output_type": "display_data"
    },
    {
     "name": "stdout",
     "output_type": "stream",
     "text": [
      "\n"
     ]
    },
    {
     "data": {
      "application/vnd.jupyter.widget-view+json": {
       "model_id": "772e08e59d064f83a58aa058122c5be5",
       "version_major": 2,
       "version_minor": 0
      },
      "text/plain": [
       "HBox(children=(FloatProgress(value=1.0, bar_style='info', max=1.0), HTML(value='')))"
      ]
     },
     "metadata": {},
     "output_type": "display_data"
    },
    {
     "name": "stdout",
     "output_type": "stream",
     "text": [
      "\n"
     ]
    },
    {
     "data": {
      "application/vnd.jupyter.widget-view+json": {
       "model_id": "e7d892afb5dc47238e0008d293a216f8",
       "version_major": 2,
       "version_minor": 0
      },
      "text/plain": [
       "HBox(children=(FloatProgress(value=1.0, bar_style='info', max=1.0), HTML(value='')))"
      ]
     },
     "metadata": {},
     "output_type": "display_data"
    },
    {
     "name": "stdout",
     "output_type": "stream",
     "text": [
      "\n"
     ]
    },
    {
     "data": {
      "application/vnd.jupyter.widget-view+json": {
       "model_id": "f0ffeac1a64948b79f12b6eeefed21a5",
       "version_major": 2,
       "version_minor": 0
      },
      "text/plain": [
       "HBox(children=(FloatProgress(value=1.0, bar_style='info', max=1.0), HTML(value='')))"
      ]
     },
     "metadata": {},
     "output_type": "display_data"
    },
    {
     "name": "stdout",
     "output_type": "stream",
     "text": [
      "\n"
     ]
    },
    {
     "data": {
      "application/vnd.jupyter.widget-view+json": {
       "model_id": "ebe1ecc52f984b65bed9ed7c2eb7c8b0",
       "version_major": 2,
       "version_minor": 0
      },
      "text/plain": [
       "HBox(children=(FloatProgress(value=1.0, bar_style='info', max=1.0), HTML(value='')))"
      ]
     },
     "metadata": {},
     "output_type": "display_data"
    },
    {
     "name": "stdout",
     "output_type": "stream",
     "text": [
      "\n",
      "\n"
     ]
    }
   ],
   "source": [
    "reader = pd.read_csv(in_file, dtype=str, chunksize=CHUNK)\n",
    "\n",
    "with sqlite3.connect(DB) as cxn:\n",
    "    cxn.row_factory = sqlite3.Row\n",
    "    first_chunk = True\n",
    "    for df in tqdm(reader):\n",
    "        df = df.fillna('')\n",
    "        df['lat'] = None\n",
    "        df['lng'] = None\n",
    "        df['datum'] = None\n",
    "        df['uncert'] = None\n",
    "        for idx, row in df.iterrows():\n",
    "            for field in ['dwc:locality', 'dwc:verbatimLocality']:\n",
    "                loc = row[field]\n",
    "                loc = remove.sub(' ', loc)\n",
    "                loc = ' '.join(loc.lower().split())\n",
    "                if loc in unknown:\n",
    "                    continue\n",
    "\n",
    "                hits = cxn.execute(sql, (loc, ))\n",
    "\n",
    "                has_datum_uncert = []\n",
    "                has_datum = []\n",
    "                has_uncert = []\n",
    "                neither = []\n",
    "                min_lat = hi\n",
    "                max_lat = lo\n",
    "                min_lng = hi\n",
    "                max_lng = lo\n",
    "                for hit in hits:\n",
    "                    lat = round(hit[1], 4)\n",
    "                    lng = round(hit[2], 4)\n",
    "                    datum = hit['datum']\n",
    "                    uncert = hit['uncert']\n",
    "                    # print(loc, lat, lng, datum, uncert)\n",
    "                    if datum and uncert:\n",
    "                        has_datum_uncert.append((lat, lng, datum, uncert))\n",
    "                    elif datum:\n",
    "                        has_datum.append((lat, lng, datum, uncert))\n",
    "                    elif uncert:\n",
    "                        has_uncert.append((lat, lng, datum, uncert))\n",
    "                    else:\n",
    "                        neither.append((lat, lng, datum, uncert))\n",
    "                    min_lat = min(min_lat, lat)\n",
    "                    max_lat = max(max_lat, lat)\n",
    "                    min_lng = min(min_lng, lng)\n",
    "                    max_lng = max(max_lng, lng)\n",
    "                if max_lat - min_lat >= threshold:\n",
    "                    continue\n",
    "                if max_lng - min_lng >= threshold:\n",
    "                    continue\n",
    "                if has_datum_uncert:\n",
    "                    df.at[idx, 'lat'] = has_datum_uncert[0][0]\n",
    "                    df.at[idx, 'lng'] = has_datum_uncert[0][1]\n",
    "                    df.at[idx, 'datum'] = has_datum_uncert[0][2]\n",
    "                    df.at[idx, 'uncert'] = has_datum_uncert[0][3]\n",
    "                    break\n",
    "                elif has_datum:\n",
    "                    df.at[idx, 'lat'] = has_datum[0][0]\n",
    "                    df.at[idx, 'lng'] = has_datum[0][1]\n",
    "                    df.at[idx, 'datum'] = has_datum[0][2]\n",
    "                    df.at[idx, 'uncert'] = has_datum[0][3]\n",
    "                    break\n",
    "                elif has_uncert:\n",
    "                    df.at[idx, 'lat'] = has_uncert[0][0]\n",
    "                    df.at[idx, 'lng'] = has_uncert[0][1]\n",
    "                    df.at[idx, 'datum'] = has_uncert[0][2]\n",
    "                    df.at[idx, 'uncert'] = has_uncert[0][3]\n",
    "                    break\n",
    "                elif neither:\n",
    "                    df.at[idx, 'lat'] = neither[0][0]\n",
    "                    df.at[idx, 'lng'] = neither[0][1]\n",
    "                    df.at[idx, 'datum'] = neither[0][2]\n",
    "                    df.at[idx, 'uncert'] = neither[0][3]\n",
    "                    break\n",
    "        if first_chunk:\n",
    "            df.to_csv(out_file, index=False)\n",
    "            first_chunk = False            \n",
    "        else:\n",
    "            df.to_csv(out_file, index=False, mode='a', header=False)"
   ]
  },
  {
   "cell_type": "markdown",
   "metadata": {},
   "source": [
    "## Match plants_gbif"
   ]
  },
  {
   "cell_type": "code",
   "execution_count": 14,
   "metadata": {
    "ExecuteTime": {
     "end_time": "2020-03-17T18:52:32.766457Z",
     "start_time": "2020-03-17T18:52:32.753600Z"
    }
   },
   "outputs": [],
   "source": [
    "in_file = IN_DIR / 'plants_gbif_verbatim_no_geo.csv.gz'\n",
    "out_file = OUT_DIR / 'plants_gbif_verbatim_no_geo_2020-03-17a.csv.gz'"
   ]
  },
  {
   "cell_type": "code",
   "execution_count": 15,
   "metadata": {
    "ExecuteTime": {
     "end_time": "2020-03-17T18:52:34.446037Z",
     "start_time": "2020-03-17T18:52:34.051493Z"
    }
   },
   "outputs": [
    {
     "data": {
      "text/plain": [
       "['gbifID',\n",
       " 'abstract',\n",
       " 'accessRights',\n",
       " 'accrualMethod',\n",
       " 'accrualPeriodicity',\n",
       " 'accrualPolicy',\n",
       " 'alternative',\n",
       " 'audience',\n",
       " 'available',\n",
       " 'bibliographicCitation',\n",
       " 'conformsTo',\n",
       " 'contributor',\n",
       " 'coverage',\n",
       " 'created',\n",
       " 'creator',\n",
       " 'date',\n",
       " 'dateAccepted',\n",
       " 'dateCopyrighted',\n",
       " 'dateSubmitted',\n",
       " 'description',\n",
       " 'educationLevel',\n",
       " 'extent',\n",
       " 'format',\n",
       " 'hasFormat',\n",
       " 'hasPart',\n",
       " 'hasVersion',\n",
       " 'identifier',\n",
       " 'instructionalMethod',\n",
       " 'isFormatOf',\n",
       " 'isPartOf',\n",
       " 'isReferencedBy',\n",
       " 'isReplacedBy',\n",
       " 'isRequiredBy',\n",
       " 'isVersionOf',\n",
       " 'issued',\n",
       " 'language',\n",
       " 'license',\n",
       " 'mediator',\n",
       " 'medium',\n",
       " 'modified',\n",
       " 'provenance',\n",
       " 'publisher',\n",
       " 'references',\n",
       " 'relation',\n",
       " 'replaces',\n",
       " 'requires',\n",
       " 'rights',\n",
       " 'rightsHolder',\n",
       " 'source',\n",
       " 'spatial',\n",
       " 'subject',\n",
       " 'tableOfContents',\n",
       " 'temporal',\n",
       " 'title',\n",
       " 'type',\n",
       " 'valid',\n",
       " 'institutionID',\n",
       " 'collectionID',\n",
       " 'datasetID',\n",
       " 'institutionCode',\n",
       " 'collectionCode',\n",
       " 'datasetName',\n",
       " 'ownerInstitutionCode',\n",
       " 'basisOfRecord',\n",
       " 'informationWithheld',\n",
       " 'dataGeneralizations',\n",
       " 'dynamicProperties',\n",
       " 'occurrenceID',\n",
       " 'catalogNumber',\n",
       " 'recordNumber',\n",
       " 'recordedBy',\n",
       " 'individualCount',\n",
       " 'organismQuantity',\n",
       " 'organismQuantityType',\n",
       " 'sex',\n",
       " 'lifeStage',\n",
       " 'reproductiveCondition',\n",
       " 'behavior',\n",
       " 'establishmentMeans',\n",
       " 'occurrenceStatus',\n",
       " 'preparations',\n",
       " 'disposition',\n",
       " 'associatedMedia',\n",
       " 'associatedReferences',\n",
       " 'associatedSequences',\n",
       " 'associatedTaxa',\n",
       " 'otherCatalogNumbers',\n",
       " 'occurrenceRemarks',\n",
       " 'organismID',\n",
       " 'organismName',\n",
       " 'organismScope',\n",
       " 'associatedOccurrences',\n",
       " 'associatedOrganisms',\n",
       " 'previousIdentifications',\n",
       " 'organismRemarks',\n",
       " 'materialSampleID',\n",
       " 'eventID',\n",
       " 'parentEventID',\n",
       " 'fieldNumber',\n",
       " 'eventDate',\n",
       " 'eventTime',\n",
       " 'startDayOfYear',\n",
       " 'endDayOfYear',\n",
       " 'year',\n",
       " 'month',\n",
       " 'day',\n",
       " 'verbatimEventDate',\n",
       " 'habitat',\n",
       " 'samplingProtocol',\n",
       " 'samplingEffort',\n",
       " 'sampleSizeValue',\n",
       " 'sampleSizeUnit',\n",
       " 'fieldNotes',\n",
       " 'eventRemarks',\n",
       " 'locationID',\n",
       " 'higherGeographyID',\n",
       " 'higherGeography',\n",
       " 'continent',\n",
       " 'waterBody',\n",
       " 'islandGroup',\n",
       " 'island',\n",
       " 'country',\n",
       " 'countryCode',\n",
       " 'stateProvince',\n",
       " 'county',\n",
       " 'municipality',\n",
       " 'locality',\n",
       " 'verbatimLocality',\n",
       " 'minimumElevationInMeters',\n",
       " 'maximumElevationInMeters',\n",
       " 'verbatimElevation',\n",
       " 'minimumDepthInMeters',\n",
       " 'maximumDepthInMeters',\n",
       " 'verbatimDepth',\n",
       " 'minimumDistanceAboveSurfaceInMeters',\n",
       " 'maximumDistanceAboveSurfaceInMeters',\n",
       " 'locationAccordingTo',\n",
       " 'locationRemarks',\n",
       " 'decimalLatitude',\n",
       " 'decimalLongitude',\n",
       " 'geodeticDatum',\n",
       " 'coordinateUncertaintyInMeters',\n",
       " 'coordinatePrecision',\n",
       " 'pointRadiusSpatialFit',\n",
       " 'verbatimCoordinates',\n",
       " 'verbatimLatitude',\n",
       " 'verbatimLongitude',\n",
       " 'verbatimCoordinateSystem',\n",
       " 'verbatimSRS',\n",
       " 'footprintWKT',\n",
       " 'footprintSRS',\n",
       " 'footprintSpatialFit',\n",
       " 'georeferencedBy',\n",
       " 'georeferencedDate',\n",
       " 'georeferenceProtocol',\n",
       " 'georeferenceSources',\n",
       " 'georeferenceVerificationStatus',\n",
       " 'georeferenceRemarks',\n",
       " 'geologicalContextID',\n",
       " 'earliestEonOrLowestEonothem',\n",
       " 'latestEonOrHighestEonothem',\n",
       " 'earliestEraOrLowestErathem',\n",
       " 'latestEraOrHighestErathem',\n",
       " 'earliestPeriodOrLowestSystem',\n",
       " 'latestPeriodOrHighestSystem',\n",
       " 'earliestEpochOrLowestSeries',\n",
       " 'latestEpochOrHighestSeries',\n",
       " 'earliestAgeOrLowestStage',\n",
       " 'latestAgeOrHighestStage',\n",
       " 'lowestBiostratigraphicZone',\n",
       " 'highestBiostratigraphicZone',\n",
       " 'lithostratigraphicTerms',\n",
       " 'group',\n",
       " 'formation',\n",
       " 'member',\n",
       " 'bed',\n",
       " 'identificationID',\n",
       " 'identificationQualifier',\n",
       " 'typeStatus',\n",
       " 'identifiedBy',\n",
       " 'dateIdentified',\n",
       " 'identificationReferences',\n",
       " 'identificationVerificationStatus',\n",
       " 'identificationRemarks',\n",
       " 'taxonID',\n",
       " 'scientificNameID',\n",
       " 'acceptedNameUsageID',\n",
       " 'parentNameUsageID',\n",
       " 'originalNameUsageID',\n",
       " 'nameAccordingToID',\n",
       " 'namePublishedInID',\n",
       " 'taxonConceptID',\n",
       " 'scientificName',\n",
       " 'acceptedNameUsage',\n",
       " 'parentNameUsage',\n",
       " 'originalNameUsage',\n",
       " 'nameAccordingTo',\n",
       " 'namePublishedIn',\n",
       " 'namePublishedInYear',\n",
       " 'higherClassification',\n",
       " 'kingdom',\n",
       " 'phylum',\n",
       " 'class',\n",
       " 'order',\n",
       " 'family',\n",
       " 'genus',\n",
       " 'subgenus',\n",
       " 'specificEpithet',\n",
       " 'infraspecificEpithet',\n",
       " 'taxonRank',\n",
       " 'verbatimTaxonRank',\n",
       " 'scientificNameAuthorship',\n",
       " 'vernacularName',\n",
       " 'nomenclaturalCode',\n",
       " 'taxonomicStatus',\n",
       " 'nomenclaturalStatus',\n",
       " 'taxonRemarks']"
      ]
     },
     "execution_count": 15,
     "metadata": {},
     "output_type": "execute_result"
    }
   ],
   "source": [
    "headers = !zcat \"$in_file\" | head -1\n",
    "headers = headers[0].split(',')\n",
    "headers"
   ]
  },
  {
   "cell_type": "code",
   "execution_count": 16,
   "metadata": {
    "ExecuteTime": {
     "end_time": "2020-03-18T00:13:28.244433Z",
     "start_time": "2020-03-17T18:53:55.725938Z"
    },
    "scrolled": true
   },
   "outputs": [
    {
     "data": {
      "application/vnd.jupyter.widget-view+json": {
       "model_id": "8571a0e1ad594ef594c2c7cabcb3dedb",
       "version_major": 2,
       "version_minor": 0
      },
      "text/plain": [
       "HBox(children=(FloatProgress(value=1.0, bar_style='info', max=1.0), HTML(value='')))"
      ]
     },
     "metadata": {},
     "output_type": "display_data"
    },
    {
     "name": "stdout",
     "output_type": "stream",
     "text": [
      "\n"
     ]
    }
   ],
   "source": [
    "reader = pd.read_csv(in_file, dtype=str, chunksize=CHUNK)\n",
    "\n",
    "with sqlite3.connect(DB) as cxn:\n",
    "    cxn.row_factory = sqlite3.Row\n",
    "    first_chunk = False\n",
    "    for df in tqdm(reader):\n",
    "        df = df.fillna('')\n",
    "        df['lat'] = None\n",
    "        df['lng'] = None\n",
    "        df['datum'] = None\n",
    "        df['uncert'] = None\n",
    "        for idx, row in df.iterrows():\n",
    "            for field in ['locality', 'verbatimLocality']:\n",
    "                loc = row[field]\n",
    "                loc = remove.sub(' ', loc)\n",
    "                loc = ' '.join(loc.lower().split())\n",
    "                if loc in unknown:\n",
    "                    continue\n",
    "\n",
    "                hits = cxn.execute(sql, (loc, ))\n",
    "\n",
    "                has_datum_uncert = []\n",
    "                has_datum = []\n",
    "                has_uncert = []\n",
    "                neither = []\n",
    "                min_lat = hi\n",
    "                max_lat = lo\n",
    "                min_lng = hi\n",
    "                max_lng = lo\n",
    "                for hit in hits:\n",
    "                    lat = round(hit[1], 4)\n",
    "                    lng = round(hit[2], 4)\n",
    "                    datum = hit['datum']\n",
    "                    uncert = hit['uncert']\n",
    "                    # print(loc, lat, lng, datum, uncert)\n",
    "                    if datum and uncert:\n",
    "                        has_datum_uncert.append((lat, lng, datum, uncert))\n",
    "                    elif datum:\n",
    "                        has_datum.append((lat, lng, datum, uncert))\n",
    "                    elif uncert:\n",
    "                        has_uncert.append((lat, lng, datum, uncert))\n",
    "                    else:\n",
    "                        neither.append((lat, lng, datum, uncert))\n",
    "                    min_lat = min(min_lat, lat)\n",
    "                    max_lat = max(max_lat, lat)\n",
    "                    min_lng = min(min_lng, lng)\n",
    "                    max_lng = max(max_lng, lng)\n",
    "                if max_lat - min_lat >= threshold:\n",
    "                    continue\n",
    "                if max_lng - min_lng >= threshold:\n",
    "                    continue\n",
    "                if has_datum_uncert:\n",
    "                    df.at[idx, 'lat'] = has_datum_uncert[0][0]\n",
    "                    df.at[idx, 'lng'] = has_datum_uncert[0][1]\n",
    "                    df.at[idx, 'datum'] = has_datum_uncert[0][2]\n",
    "                    df.at[idx, 'uncert'] = has_datum_uncert[0][3]\n",
    "                    break\n",
    "                elif has_datum:\n",
    "                    df.at[idx, 'lat'] = has_datum[0][0]\n",
    "                    df.at[idx, 'lng'] = has_datum[0][1]\n",
    "                    df.at[idx, 'datum'] = has_datum[0][2]\n",
    "                    df.at[idx, 'uncert'] = has_datum[0][3]\n",
    "                    break\n",
    "                elif has_uncert:\n",
    "                    df.at[idx, 'lat'] = has_uncert[0][0]\n",
    "                    df.at[idx, 'lng'] = has_uncert[0][1]\n",
    "                    df.at[idx, 'datum'] = has_uncert[0][2]\n",
    "                    df.at[idx, 'uncert'] = has_uncert[0][3]\n",
    "                    break\n",
    "                elif neither:\n",
    "                    df.at[idx, 'lat'] = neither[0][0]\n",
    "                    df.at[idx, 'lng'] = neither[0][1]\n",
    "                    df.at[idx, 'datum'] = neither[0][2]\n",
    "                    df.at[idx, 'uncert'] = neither[0][3]\n",
    "                    break\n",
    "        if first_chunk:\n",
    "            df.to_csv(out_file, index=False)\n",
    "            first_chunk = False\n",
    "        else:\n",
    "            df.to_csv(out_file, index=False, mode='a', header=False)"
   ]
  },
  {
   "cell_type": "markdown",
   "metadata": {},
   "source": [
    "## Get results"
   ]
  },
  {
   "cell_type": "code",
   "execution_count": 14,
   "metadata": {
    "ExecuteTime": {
     "end_time": "2020-03-20T15:21:00.132448Z",
     "start_time": "2020-03-20T15:21:00.104633Z"
    },
    "scrolled": true
   },
   "outputs": [
    {
     "data": {
      "text/plain": [
       "'coreid,aec:associatedTaxa,dc:rights,dcterms:accessRights,dcterms:bibliographicCitation,dcterms:language,dcterms:license,dcterms:modified,dcterms:references,dcterms:rights,dcterms:rightsHolder,dcterms:source,dcterms:type,dwc:Identification,dwc:MeasurementOrFact,dwc:ResourceRelationship,dwc:VerbatimEventDate,dwc:acceptedNameUsage,dwc:acceptedNameUsageID,dwc:accessRights,dwc:associatedMedia,dwc:associatedOccurrences,dwc:associatedOrganisms,dwc:associatedReferences,dwc:associatedSequences,dwc:associatedTaxa,dwc:basisOfRecord,dwc:bed,dwc:behavior,dwc:catalogNumber,dwc:class,dwc:classs,dwc:collectionCode,dwc:collectionID,dwc:continent,dwc:coordinatePrecision,dwc:coordinateUncertaintyInMeters,dwc:country,dwc:countryCode,dwc:county,dwc:dataGeneralizations,dwc:datasetID,dwc:datasetName,dwc:dateIdentified,dwc:day,dwc:decimalLatitude,dwc:decimalLongitude,dwc:disposition,dwc:dynamicProperties,dwc:earliestAgeOrLowestStage,dwc:earliestEonOrLowestEonothem,dwc:earliestEpochOrLowestSeries,dwc:earliestEraOrLowestErathem,dwc:earliestPeriodOrLowestSystem,dwc:endDayOfYear,dwc:establishmentMeans,dwc:eventDate,dwc:eventID,dwc:eventRemarks,dwc:eventTime,dwc:family,dwc:fieldNotes,dwc:fieldNumber,dwc:footprintSRS,dwc:footprintSpatialFit,dwc:footprintWKT,dwc:formation,dwc:genus,dwc:geodeticDatum,dwc:geologicalContextID,dwc:georeferenceProtocol,dwc:georeferenceRemarks,dwc:georeferenceSources,dwc:georeferenceVerificationStatus,dwc:georeferencedBy,dwc:georeferencedDate,dwc:group,dwc:habitat,dwc:higherClassification,dwc:higherGeography,dwc:higherGeographyID,dwc:highestBiostratigraphicZone,dwc:identificationID,dwc:identificationQualifier,dwc:identificationReferences,dwc:identificationRemarks,dwc:identificationVerificationStatus,dwc:identifiedBy,dwc:individualCount,dwc:informationWithheld,dwc:infraspecificEpithet,dwc:institutionCode,dwc:institutionID,dwc:island,dwc:islandGroup,dwc:kingdom,dwc:language,dwc:latestAgeOrHighestStage,dwc:latestEonOrHighestEonothem,dwc:latestEpochOrHighestSeries,dwc:latestEraOrHighestErathem,dwc:latestPeriodOrHighestSystem,dwc:lifeStage,dwc:lithostratigraphicTerms,dwc:locality,dwc:locationAccordingTo,dwc:locationID,dwc:locationRemarks,dwc:lowestBiostratigraphicZone,dwc:materialSampleID,dwc:maximumDepthInMeters,dwc:maximumElevationInMeters,dwc:member,dwc:minimumDepthInMeters,dwc:minimumElevationInMeters,dwc:modified,dwc:month,dwc:municipality,dwc:nameAccordingTo,dwc:namePublishedIn,dwc:namePublishedInID,dwc:namePublishedInYear,dwc:nomenclaturalCode,dwc:nomenclaturalStatus,dwc:occurrenceDetails,dwc:occurrenceID,dwc:occurrenceRemarks,dwc:occurrenceStatus,dwc:order,dwc:organismID,dwc:organismName,dwc:organismQuantity,dwc:organismQuantityType,dwc:organismRemarks,dwc:originalNameUsage,dwc:originalNameUsageID,dwc:otherCatalogNumbers,dwc:ownerInstitutionCode,dwc:parentNameUsage,dwc:phylum,dwc:pointRadiusSpatialFit,dwc:preparations,dwc:previousIdentifications,dwc:recordNumber,dwc:recordedBy,dwc:reproductiveCondition,dwc:rights,dwc:rightsHolder,dwc:sampleSizeValue,dwc:samplingEffort,dwc:samplingProtocol,dwc:scientificName,dwc:scientificNameAuthorship,dwc:scientificNameID,dwc:sex,dwc:specificEpithet,dwc:startDayOfYear,dwc:stateProvince,dwc:subgenus,dwc:taxonID,dwc:taxonRank,dwc:taxonRemarks,dwc:taxonomicStatus,dwc:typeStatus,dwc:verbatimCoordinateSystem,dwc:verbatimCoordinates,dwc:verbatimDepth,dwc:verbatimElevation,dwc:verbatimEventDate,dwc:verbatimLatitude,dwc:verbatimLocality,dwc:verbatimLongitude,dwc:verbatimSRS,dwc:verbatimTaxonRank,dwc:vernacularName,dwc:waterBody,dwc:year,gbif:Identifier,gbif:Reference,idigbio:recordId,symbiota:recordEnteredBy,symbiota:verbatimScientificName,zan:ChronometricDate,lat,lng,datum,uncert'"
      ]
     },
     "execution_count": 14,
     "metadata": {},
     "output_type": "execute_result"
    }
   ],
   "source": [
    "in_file = IN_DIR / 'plants_idigbio_occurrence_raw_no_geo.csv.gz'\n",
    "headless = OUT_DIR / 'plants_idigbio_no_geo_2020-03-17a.csv.gz'\n",
    "out_file = OUT_DIR / 'plants_idigbio_no_geo_2020-03-20a.csv'\n",
    "\n",
    "header = !zcat \"$in_file\" | head -1\n",
    "header = header[0]\n",
    "header += ',lat,lng,datum,uncert'\n",
    "header"
   ]
  },
  {
   "cell_type": "code",
   "execution_count": 16,
   "metadata": {
    "ExecuteTime": {
     "end_time": "2020-03-20T15:24:07.189932Z",
     "start_time": "2020-03-20T15:22:44.976390Z"
    }
   },
   "outputs": [],
   "source": [
    "with open(out_file, 'w') as out:\n",
    "    out.write(header)\n",
    "    out.write('\\n')\n",
    "\n",
    "!zcat \"$headless\" >> \"$out_file\""
   ]
  },
  {
   "cell_type": "code",
   "execution_count": 19,
   "metadata": {
    "ExecuteTime": {
     "end_time": "2020-03-20T15:27:09.690577Z",
     "start_time": "2020-03-20T15:27:09.662091Z"
    },
    "scrolled": true
   },
   "outputs": [
    {
     "data": {
      "text/plain": [
       "'gbifID,abstract,accessRights,accrualMethod,accrualPeriodicity,accrualPolicy,alternative,audience,available,bibliographicCitation,conformsTo,contributor,coverage,created,creator,date,dateAccepted,dateCopyrighted,dateSubmitted,description,educationLevel,extent,format,hasFormat,hasPart,hasVersion,identifier,instructionalMethod,isFormatOf,isPartOf,isReferencedBy,isReplacedBy,isRequiredBy,isVersionOf,issued,language,license,mediator,medium,modified,provenance,publisher,references,relation,replaces,requires,rights,rightsHolder,source,spatial,subject,tableOfContents,temporal,title,type,valid,institutionID,collectionID,datasetID,institutionCode,collectionCode,datasetName,ownerInstitutionCode,basisOfRecord,informationWithheld,dataGeneralizations,dynamicProperties,occurrenceID,catalogNumber,recordNumber,recordedBy,individualCount,organismQuantity,organismQuantityType,sex,lifeStage,reproductiveCondition,behavior,establishmentMeans,occurrenceStatus,preparations,disposition,associatedMedia,associatedReferences,associatedSequences,associatedTaxa,otherCatalogNumbers,occurrenceRemarks,organismID,organismName,organismScope,associatedOccurrences,associatedOrganisms,previousIdentifications,organismRemarks,materialSampleID,eventID,parentEventID,fieldNumber,eventDate,eventTime,startDayOfYear,endDayOfYear,year,month,day,verbatimEventDate,habitat,samplingProtocol,samplingEffort,sampleSizeValue,sampleSizeUnit,fieldNotes,eventRemarks,locationID,higherGeographyID,higherGeography,continent,waterBody,islandGroup,island,country,countryCode,stateProvince,county,municipality,locality,verbatimLocality,minimumElevationInMeters,maximumElevationInMeters,verbatimElevation,minimumDepthInMeters,maximumDepthInMeters,verbatimDepth,minimumDistanceAboveSurfaceInMeters,maximumDistanceAboveSurfaceInMeters,locationAccordingTo,locationRemarks,decimalLatitude,decimalLongitude,geodeticDatum,coordinateUncertaintyInMeters,coordinatePrecision,pointRadiusSpatialFit,verbatimCoordinates,verbatimLatitude,verbatimLongitude,verbatimCoordinateSystem,verbatimSRS,footprintWKT,footprintSRS,footprintSpatialFit,georeferencedBy,georeferencedDate,georeferenceProtocol,georeferenceSources,georeferenceVerificationStatus,georeferenceRemarks,geologicalContextID,earliestEonOrLowestEonothem,latestEonOrHighestEonothem,earliestEraOrLowestErathem,latestEraOrHighestErathem,earliestPeriodOrLowestSystem,latestPeriodOrHighestSystem,earliestEpochOrLowestSeries,latestEpochOrHighestSeries,earliestAgeOrLowestStage,latestAgeOrHighestStage,lowestBiostratigraphicZone,highestBiostratigraphicZone,lithostratigraphicTerms,group,formation,member,bed,identificationID,identificationQualifier,typeStatus,identifiedBy,dateIdentified,identificationReferences,identificationVerificationStatus,identificationRemarks,taxonID,scientificNameID,acceptedNameUsageID,parentNameUsageID,originalNameUsageID,nameAccordingToID,namePublishedInID,taxonConceptID,scientificName,acceptedNameUsage,parentNameUsage,originalNameUsage,nameAccordingTo,namePublishedIn,namePublishedInYear,higherClassification,kingdom,phylum,class,order,family,genus,subgenus,specificEpithet,infraspecificEpithet,taxonRank,verbatimTaxonRank,scientificNameAuthorship,vernacularName,nomenclaturalCode,taxonomicStatus,nomenclaturalStatus,taxonRemarks,lat,lng,datum,uncert'"
      ]
     },
     "execution_count": 19,
     "metadata": {},
     "output_type": "execute_result"
    }
   ],
   "source": [
    "in_file = IN_DIR / 'plants_gbif_verbatim_no_geo.csv.gz'\n",
    "headless = OUT_DIR / 'plants_gbif_verbatim_no_geo_2020-03-17a.csv.gz'\n",
    "out_file = OUT_DIR / 'plants_gbif_verbatim_no_geo_2020-03-20a.csv'\n",
    "\n",
    "header = !zcat \"$in_file\" | head -1\n",
    "header = header[0]\n",
    "header += ',lat,lng,datum,uncert'\n",
    "header"
   ]
  },
  {
   "cell_type": "code",
   "execution_count": 20,
   "metadata": {
    "ExecuteTime": {
     "end_time": "2020-03-20T15:28:52.855349Z",
     "start_time": "2020-03-20T15:27:10.634114Z"
    }
   },
   "outputs": [],
   "source": [
    "with open(out_file, 'w') as out:\n",
    "    out.write(header)\n",
    "    out.write('\\n')\n",
    "\n",
    "!zcat \"$headless\" >> \"$out_file\""
   ]
  },
  {
   "cell_type": "code",
   "execution_count": 21,
   "metadata": {
    "ExecuteTime": {
     "end_time": "2020-03-20T15:37:10.345629Z",
     "start_time": "2020-03-20T15:31:20.420476Z"
    }
   },
   "outputs": [],
   "source": [
    "unzipped = OUT_DIR / 'plants_idigbio_no_geo_2020-03-20a.csv'\n",
    "\n",
    "!gzip \"$unzipped\""
   ]
  },
  {
   "cell_type": "code",
   "execution_count": 22,
   "metadata": {
    "ExecuteTime": {
     "end_time": "2020-03-20T15:44:03.561156Z",
     "start_time": "2020-03-20T15:37:25.396125Z"
    }
   },
   "outputs": [],
   "source": [
    "unzipped = OUT_DIR / 'plants_gbif_verbatim_no_geo_2020-03-20a.csv'\n",
    "\n",
    "!gzip \"$unzipped\""
   ]
  },
  {
   "cell_type": "code",
   "execution_count": 28,
   "metadata": {
    "ExecuteTime": {
     "end_time": "2020-03-20T15:53:34.796670Z",
     "start_time": "2020-03-20T15:51:35.329965Z"
    }
   },
   "outputs": [],
   "source": [
    "out_file = OUT_DIR / 'plants_idigbio_no_geo_2020-03-20a.csv.gz'\n",
    "df = pd.read_csv(out_file, usecols=['lat', 'lng'])"
   ]
  },
  {
   "cell_type": "code",
   "execution_count": 29,
   "metadata": {
    "ExecuteTime": {
     "end_time": "2020-03-20T15:53:38.942810Z",
     "start_time": "2020-03-20T15:53:38.924196Z"
    }
   },
   "outputs": [
    {
     "data": {
      "text/html": [
       "<div>\n",
       "<style scoped>\n",
       "    .dataframe tbody tr th:only-of-type {\n",
       "        vertical-align: middle;\n",
       "    }\n",
       "\n",
       "    .dataframe tbody tr th {\n",
       "        vertical-align: top;\n",
       "    }\n",
       "\n",
       "    .dataframe thead th {\n",
       "        text-align: right;\n",
       "    }\n",
       "</style>\n",
       "<table border=\"1\" class=\"dataframe\">\n",
       "  <thead>\n",
       "    <tr style=\"text-align: right;\">\n",
       "      <th></th>\n",
       "      <th>lat</th>\n",
       "      <th>lng</th>\n",
       "    </tr>\n",
       "  </thead>\n",
       "  <tbody>\n",
       "    <tr>\n",
       "      <th>0</th>\n",
       "      <td>NaN</td>\n",
       "      <td>NaN</td>\n",
       "    </tr>\n",
       "    <tr>\n",
       "      <th>1</th>\n",
       "      <td>NaN</td>\n",
       "      <td>NaN</td>\n",
       "    </tr>\n",
       "    <tr>\n",
       "      <th>2</th>\n",
       "      <td>NaN</td>\n",
       "      <td>NaN</td>\n",
       "    </tr>\n",
       "    <tr>\n",
       "      <th>3</th>\n",
       "      <td>NaN</td>\n",
       "      <td>NaN</td>\n",
       "    </tr>\n",
       "    <tr>\n",
       "      <th>4</th>\n",
       "      <td>NaN</td>\n",
       "      <td>NaN</td>\n",
       "    </tr>\n",
       "  </tbody>\n",
       "</table>\n",
       "</div>"
      ],
      "text/plain": [
       "   lat  lng\n",
       "0  NaN  NaN\n",
       "1  NaN  NaN\n",
       "2  NaN  NaN\n",
       "3  NaN  NaN\n",
       "4  NaN  NaN"
      ]
     },
     "execution_count": 29,
     "metadata": {},
     "output_type": "execute_result"
    }
   ],
   "source": [
    "df.head()"
   ]
  },
  {
   "cell_type": "code",
   "execution_count": 30,
   "metadata": {
    "ExecuteTime": {
     "end_time": "2020-03-20T15:53:41.884095Z",
     "start_time": "2020-03-20T15:53:41.877245Z"
    }
   },
   "outputs": [
    {
     "data": {
      "text/plain": [
       "(20164429, 2)"
      ]
     },
     "execution_count": 30,
     "metadata": {},
     "output_type": "execute_result"
    }
   ],
   "source": [
    "df.shape"
   ]
  },
  {
   "cell_type": "code",
   "execution_count": 31,
   "metadata": {
    "ExecuteTime": {
     "end_time": "2020-03-20T15:53:45.256737Z",
     "start_time": "2020-03-20T15:53:45.179393Z"
    }
   },
   "outputs": [
    {
     "data": {
      "text/plain": [
       "lat    3205993\n",
       "lng    3205993\n",
       "dtype: int64"
      ]
     },
     "execution_count": 31,
     "metadata": {},
     "output_type": "execute_result"
    }
   ],
   "source": [
    "df.count()"
   ]
  },
  {
   "cell_type": "code",
   "execution_count": 33,
   "metadata": {
    "ExecuteTime": {
     "end_time": "2020-03-20T15:54:21.503248Z",
     "start_time": "2020-03-20T15:54:21.491261Z"
    }
   },
   "outputs": [
    {
     "data": {
      "text/plain": [
       "15.9"
      ]
     },
     "execution_count": 33,
     "metadata": {},
     "output_type": "execute_result"
    }
   ],
   "source": [
    "round(3205993 / 20164429 * 100.0, 2)"
   ]
  },
  {
   "cell_type": "code",
   "execution_count": 35,
   "metadata": {
    "ExecuteTime": {
     "end_time": "2020-03-20T15:59:03.795835Z",
     "start_time": "2020-03-20T15:56:17.826759Z"
    }
   },
   "outputs": [],
   "source": [
    "out_file = OUT_DIR / 'plants_gbif_verbatim_no_geo_2020-03-20a.csv.gz'\n",
    "df = pd.read_csv(out_file, usecols=['lat', 'lng'])"
   ]
  },
  {
   "cell_type": "code",
   "execution_count": 36,
   "metadata": {
    "ExecuteTime": {
     "end_time": "2020-03-20T15:59:03.799933Z",
     "start_time": "2020-03-20T15:59:03.797212Z"
    }
   },
   "outputs": [
    {
     "data": {
      "text/plain": [
       "(33946224, 2)"
      ]
     },
     "execution_count": 36,
     "metadata": {},
     "output_type": "execute_result"
    }
   ],
   "source": [
    "df.shape"
   ]
  },
  {
   "cell_type": "code",
   "execution_count": 37,
   "metadata": {
    "ExecuteTime": {
     "end_time": "2020-03-20T15:59:03.907005Z",
     "start_time": "2020-03-20T15:59:03.801228Z"
    }
   },
   "outputs": [
    {
     "data": {
      "text/plain": [
       "lat    4732193\n",
       "lng    4732193\n",
       "dtype: int64"
      ]
     },
     "execution_count": 37,
     "metadata": {},
     "output_type": "execute_result"
    }
   ],
   "source": [
    "df.count()"
   ]
  },
  {
   "cell_type": "code",
   "execution_count": 40,
   "metadata": {
    "ExecuteTime": {
     "end_time": "2020-03-20T15:59:48.961090Z",
     "start_time": "2020-03-20T15:59:48.951197Z"
    }
   },
   "outputs": [
    {
     "data": {
      "text/plain": [
       "13.94"
      ]
     },
     "execution_count": 40,
     "metadata": {},
     "output_type": "execute_result"
    }
   ],
   "source": [
    "round(4732193 / 33946224 * 100.0, 2)"
   ]
  },
  {
   "cell_type": "code",
   "execution_count": null,
   "metadata": {},
   "outputs": [],
   "source": []
  }
 ],
 "metadata": {
  "kernelspec": {
   "display_name": "Python 3",
   "language": "python",
   "name": "python3"
  },
  "language_info": {
   "codemirror_mode": {
    "name": "ipython",
    "version": 3
   },
   "file_extension": ".py",
   "mimetype": "text/x-python",
   "name": "python",
   "nbconvert_exporter": "python",
   "pygments_lexer": "ipython3",
   "version": "3.8.0"
  },
  "varInspector": {
   "cols": {
    "lenName": 16,
    "lenType": 16,
    "lenVar": 40
   },
   "kernels_config": {
    "python": {
     "delete_cmd_postfix": "",
     "delete_cmd_prefix": "del ",
     "library": "var_list.py",
     "varRefreshCmd": "print(var_dic_list())"
    },
    "r": {
     "delete_cmd_postfix": ") ",
     "delete_cmd_prefix": "rm(",
     "library": "var_list.r",
     "varRefreshCmd": "cat(var_dic_list()) "
    }
   },
   "types_to_exclude": [
    "module",
    "function",
    "builtin_function_or_method",
    "instance",
    "_Feature"
   ],
   "window_display": false
  }
 },
 "nbformat": 4,
 "nbformat_minor": 4
}
