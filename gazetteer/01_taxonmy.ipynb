{
 "cells": [
  {
   "cell_type": "code",
   "execution_count": 1,
   "metadata": {},
   "outputs": [],
   "source": [
    "import io\n",
    "import os\n",
    "import sqlite3\n",
    "import zipfile\n",
    "from pathlib import Path\n",
    "\n",
    "import pandas as pd\n",
    "import regex\n",
    "from tqdm import tqdm"
   ]
  },
  {
   "cell_type": "code",
   "execution_count": 2,
   "metadata": {},
   "outputs": [],
   "source": [
    "DATA_DIR = Path('..') / 'data'\n",
    "RAW_DIR = DATA_DIR / '00_raw'\n",
    "INTERIM_DIR = DATA_DIR / '01_interim'\n",
    "\n",
    "ZIP = RAW_DIR / 'iDigBio_snapshot_2021-01.zip'\n",
    "ZIP_CSV = 'occurrence_raw.csv'\n",
    "\n",
    "OUT_CSV = INTERIM_DIR / 'idigbio_2021-01_taxonomy_2021-03-16a.csv'\n",
    "\n",
    "CHUNK = 1_000_000"
   ]
  },
  {
   "cell_type": "code",
   "execution_count": 3,
   "metadata": {},
   "outputs": [],
   "source": [
    "def get_csv_headers():\n",
    "    \"\"\"Get the headers from the CSV file in the zipped snapshot.\"\"\"\n",
    "    with zipfile.ZipFile(ZIP) as zip_file:\n",
    "        with zip_file.open(ZIP_CSV) as csv_file:\n",
    "            headers = csv_file.readline()\n",
    "    return [h.decode().strip() for h in sorted(headers.split(b','))]"
   ]
  },
  {
   "cell_type": "code",
   "execution_count": 4,
   "metadata": {
    "scrolled": false
   },
   "outputs": [],
   "source": [
    "# get_csv_headers()"
   ]
  },
  {
   "cell_type": "code",
   "execution_count": 5,
   "metadata": {},
   "outputs": [],
   "source": [
    "COLUMNS = {\n",
    "    'coreid': 'coreid',\n",
    "    'dwc:taxonRank': 'taxonRank',\n",
    "    'dwc:taxonomicStatus': 'taxonomicStatus',\n",
    "    'dwc:kingdom': 'kingdom',\n",
    "    'dwc:phylum': 'phylum',\n",
    "    'dwc:class': 'class_',\n",
    "    'dwc:order': 'order_',\n",
    "    'dwc:genus': 'genus',\n",
    "    'dwc:subgenus': 'subgenus',\n",
    "    'dwc:specificEpithet': 'specificEpithet',\n",
    "    'dwc:infraspecificEpithet': 'infraspecificEpithet',\n",
    "    'dwc:scientificName': 'scientificName',\n",
    "    'symbiota:verbatimScientificName': 'verbatimScientificName',\n",
    "    'dwc:scientificNameAuthorship': 'scientificNameAuthorship',\n",
    "}"
   ]
  },
  {
   "cell_type": "code",
   "execution_count": 8,
   "metadata": {},
   "outputs": [],
   "source": [
    "def new_csv():\n",
    "    with zipfile.ZipFile(ZIP) as zippy:\n",
    "        with zippy.open(ZIP_CSV) as csv_file:\n",
    "\n",
    "            reader = pd.read_csv(\n",
    "                csv_file, dtype=str, keep_default_na=False,\n",
    "                chunksize=CHUNK, usecols=COLUMNS.keys())\n",
    "\n",
    "            first_chunk = True\n",
    "\n",
    "            for df in tqdm(reader):\n",
    "                df = df.rename(columns=COLUMNS)\n",
    "\n",
    "                if first_chunk:\n",
    "                    df.to_csv(OUT_CSV, index=False)\n",
    "                else:\n",
    "                    df.to_csv(OUT_CSV, index=False, mode='a', header=False)\n",
    "\n",
    "                first_chunk = False"
   ]
  },
  {
   "cell_type": "code",
   "execution_count": 9,
   "metadata": {},
   "outputs": [
    {
     "name": "stderr",
     "output_type": "stream",
     "text": [
      "127it [1:05:03, 30.73s/it]\n"
     ]
    }
   ],
   "source": [
    "new_csv()"
   ]
  },
  {
   "cell_type": "markdown",
   "metadata": {},
   "source": [
    "split --additional-suffix=.csv --numeric-suffixes=1 --lines=50000000 idigbio_2021-01_taxonomy_2021-03-16a.csv idigbio_2021-01_taxonomy_2021-03-16a"
   ]
  }
 ],
 "metadata": {
  "kernelspec": {
   "display_name": "Python 3",
   "language": "python",
   "name": "python3"
  },
  "language_info": {
   "codemirror_mode": {
    "name": "ipython",
    "version": 3
   },
   "file_extension": ".py",
   "mimetype": "text/x-python",
   "name": "python",
   "nbconvert_exporter": "python",
   "pygments_lexer": "ipython3",
   "version": "3.8.6"
  },
  "varInspector": {
   "cols": {
    "lenName": 16,
    "lenType": 16,
    "lenVar": 40
   },
   "kernels_config": {
    "python": {
     "delete_cmd_postfix": "",
     "delete_cmd_prefix": "del ",
     "library": "var_list.py",
     "varRefreshCmd": "print(var_dic_list())"
    },
    "r": {
     "delete_cmd_postfix": ") ",
     "delete_cmd_prefix": "rm(",
     "library": "var_list.r",
     "varRefreshCmd": "cat(var_dic_list()) "
    }
   },
   "types_to_exclude": [
    "module",
    "function",
    "builtin_function_or_method",
    "instance",
    "_Feature"
   ],
   "window_display": false
  }
 },
 "nbformat": 4,
 "nbformat_minor": 4
}
