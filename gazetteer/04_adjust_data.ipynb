{
 "cells": [
  {
   "cell_type": "markdown",
   "metadata": {},
   "source": [
    "# Adjust Invalid Data"
   ]
  },
  {
   "cell_type": "markdown",
   "metadata": {},
   "source": [
    "## Basic Setup"
   ]
  },
  {
   "cell_type": "code",
   "execution_count": 1,
   "metadata": {
    "ExecuteTime": {
     "end_time": "2020-05-04T15:15:59.660243Z",
     "start_time": "2020-05-04T15:15:59.401690Z"
    }
   },
   "outputs": [],
   "source": [
    "import os\n",
    "import sqlite3\n",
    "from collections import defaultdict\n",
    "from hashlib import sha256\n",
    "from pathlib import Path\n",
    "from pprint import pp\n",
    "\n",
    "import pandas as pd\n",
    "from tqdm import tqdm"
   ]
  },
  {
   "cell_type": "code",
   "execution_count": 2,
   "metadata": {
    "ExecuteTime": {
     "end_time": "2020-05-04T15:15:59.663734Z",
     "start_time": "2020-05-04T15:15:59.661478Z"
    }
   },
   "outputs": [],
   "source": [
    "DATA_DIR = Path('..') / 'data'\n",
    "INTERIM_DIR = DATA_DIR / '01_interim'\n",
    "\n",
    "IN_DB = INTERIM_DIR / 'gazetteer_03_idigbio_2020-03-30.db'\n",
    "OUT_DB = DATA_DIR / 'gazetteer_04_idigbio_2020-03-30.db'\n",
    "\n",
    "CHUNK = 1_000_000"
   ]
  },
  {
   "cell_type": "markdown",
   "metadata": {
    "heading_collapsed": true
   },
   "source": [
    "## Helper functions"
   ]
  },
  {
   "cell_type": "code",
   "execution_count": 3,
   "metadata": {
    "ExecuteTime": {
     "end_time": "2020-05-04T15:15:59.672617Z",
     "start_time": "2020-05-04T15:15:59.664860Z"
    },
    "hidden": true
   },
   "outputs": [],
   "source": [
    "def display_all(df):\n",
    "    with pd.option_context('display.max_rows', None, 'display.max_columns', None):\n",
    "        display(df)"
   ]
  },
  {
   "cell_type": "markdown",
   "metadata": {},
   "source": [
    "## Database Setup"
   ]
  },
  {
   "cell_type": "code",
   "execution_count": 4,
   "metadata": {
    "ExecuteTime": {
     "end_time": "2020-05-04T15:16:00.181983Z",
     "start_time": "2020-05-04T15:15:59.673744Z"
    }
   },
   "outputs": [],
   "source": [
    "if OUT_DB.exists():\n",
    "    os.remove(OUT_DB)"
   ]
  },
  {
   "cell_type": "markdown",
   "metadata": {
    "heading_collapsed": true
   },
   "source": [
    "### Create a Table for Logging Adjusted Values"
   ]
  },
  {
   "cell_type": "code",
   "execution_count": 5,
   "metadata": {
    "ExecuteTime": {
     "end_time": "2020-05-04T15:16:00.212140Z",
     "start_time": "2020-05-04T15:16:00.182990Z"
    },
    "hidden": true
   },
   "outputs": [],
   "source": [
    "df = pd.DataFrame(\n",
    "    columns=['field', 'literal', 'becomes', 'floor', 'ceiling'])\n",
    "\n",
    "with sqlite3.connect(OUT_DB) as cxn:\n",
    "    df.to_sql('adjustments', cxn, if_exists='replace', index=False)"
   ]
  },
  {
   "cell_type": "markdown",
   "metadata": {},
   "source": [
    "### Database Related Functions\n",
    "\n",
    "Get the list of columns in a table. Skip any columns that require special handling"
   ]
  },
  {
   "cell_type": "code",
   "execution_count": 6,
   "metadata": {
    "ExecuteTime": {
     "end_time": "2020-05-04T15:16:00.223280Z",
     "start_time": "2020-05-04T15:16:00.216184Z"
    }
   },
   "outputs": [],
   "source": [
    "def dict_factory(cursor, row):\n",
    "    dict_ = {}\n",
    "    for idx, col in enumerate(cursor.description):\n",
    "        dict_[col[0]] = row[idx]\n",
    "    return dict_"
   ]
  },
  {
   "cell_type": "code",
   "execution_count": 7,
   "metadata": {
    "ExecuteTime": {
     "end_time": "2020-05-04T15:16:00.239708Z",
     "start_time": "2020-05-04T15:16:00.227789Z"
    }
   },
   "outputs": [],
   "source": [
    "def get_columns(table='gazetteer', db=IN_DB, specials=None):\n",
    "    if specials is None:\n",
    "        specials = \"\"\"coreid hash source locality\"\"\".split()\n",
    "\n",
    "    sql = f'PRAGMA table_info({table});'\n",
    "\n",
    "    with sqlite3.connect(db) as cxn:\n",
    "        cxn.row_factory = sqlite3.Row\n",
    "        columns = [r[1] for r in cxn.execute(sql) if r[1] not in specials]\n",
    "\n",
    "    return columns"
   ]
  },
  {
   "cell_type": "markdown",
   "metadata": {},
   "source": [
    "Get a list of all distinct text values for manual filtering"
   ]
  },
  {
   "cell_type": "code",
   "execution_count": 8,
   "metadata": {
    "ExecuteTime": {
     "end_time": "2020-05-04T15:16:00.246090Z",
     "start_time": "2020-05-04T15:16:00.241676Z"
    }
   },
   "outputs": [],
   "source": [
    "def text_field(field):\n",
    "    sql = f\"\"\"\n",
    "        select {field}, count(*) as n\n",
    "          from gazetteer\n",
    "      group by {field}\n",
    "      order by n desc, {field}\n",
    "    \"\"\"\n",
    "    with sqlite3.connect(IN_DB) as cxn:\n",
    "        df = pd.read_sql(sql, cxn)\n",
    "    return df"
   ]
  },
  {
   "cell_type": "markdown",
   "metadata": {},
   "source": [
    "### Get Columns"
   ]
  },
  {
   "cell_type": "code",
   "execution_count": 9,
   "metadata": {
    "ExecuteTime": {
     "end_time": "2020-05-04T15:16:00.259443Z",
     "start_time": "2020-05-04T15:16:00.247524Z"
    },
    "scrolled": true
   },
   "outputs": [
    {
     "data": {
      "text/plain": [
       "['continent',\n",
       " 'coordinatePrecision',\n",
       " 'coordinateUncertaintyInMeters',\n",
       " 'country',\n",
       " 'countryCode',\n",
       " 'county',\n",
       " 'decimalLatitude',\n",
       " 'decimalLongitude',\n",
       " 'geodeticDatum',\n",
       " 'georeferenceSources',\n",
       " 'higherGeography',\n",
       " 'island',\n",
       " 'islandGroup',\n",
       " 'locationRemarks',\n",
       " 'maximumDepthInMeters',\n",
       " 'maximumElevationInMeters',\n",
       " 'minimumDepthInMeters',\n",
       " 'minimumElevationInMeters',\n",
       " 'municipality',\n",
       " 'stateProvince',\n",
       " 'verbatimCoordinateSystem',\n",
       " 'verbatimCoordinates',\n",
       " 'verbatimDepth',\n",
       " 'verbatimElevation',\n",
       " 'waterBody']"
      ]
     },
     "execution_count": 9,
     "metadata": {},
     "output_type": "execute_result"
    }
   ],
   "source": [
    "COLUMNS = get_columns()\n",
    "COLUMNS"
   ]
  },
  {
   "cell_type": "markdown",
   "metadata": {
    "heading_collapsed": true
   },
   "source": [
    "## Examine Fields"
   ]
  },
  {
   "cell_type": "markdown",
   "metadata": {
    "heading_collapsed": true,
    "hidden": true
   },
   "source": [
    "### continent\n",
    "\n",
    "**string**"
   ]
  },
  {
   "cell_type": "code",
   "execution_count": 10,
   "metadata": {
    "ExecuteTime": {
     "end_time": "2020-05-04T15:16:10.456559Z",
     "start_time": "2020-05-04T15:16:00.260693Z"
    },
    "hidden": true
   },
   "outputs": [
    {
     "data": {
      "text/plain": [
       "(246, 2)"
      ]
     },
     "execution_count": 10,
     "metadata": {},
     "output_type": "execute_result"
    }
   ],
   "source": [
    "field = 'continent'\n",
    "\n",
    "df = text_field(field)\n",
    "df.shape\n",
    "\n",
    "# display_all(df)"
   ]
  },
  {
   "cell_type": "code",
   "execution_count": 11,
   "metadata": {
    "ExecuteTime": {
     "end_time": "2020-05-04T15:16:10.483328Z",
     "start_time": "2020-05-04T15:16:10.457473Z"
    },
    "hidden": true
   },
   "outputs": [],
   "source": [
    "df = pd.DataFrame(data={'literal': [\n",
    "    'na',\n",
    "    'no higher geography data',\n",
    "    'no higher geography recorded',\n",
    "    'not determined',\n",
    "    'not in specify tree',\n",
    "    'unassigned',\n",
    "    'undefined',\n",
    "    'unknown captive',\n",
    "    'unknown continent',\n",
    "    'unplaced',\n",
    "    'unrecorded',\n",
    "    'unspecified',\n",
    "]})\n",
    "\n",
    "df['becomes'] = None\n",
    "df['field'] = field\n",
    "\n",
    "with sqlite3.connect(OUT_DB) as cxn:\n",
    "    df.to_sql('adjustments', cxn, if_exists='append', index=False)"
   ]
  },
  {
   "cell_type": "markdown",
   "metadata": {
    "heading_collapsed": true,
    "hidden": true
   },
   "source": [
    "### coordinatePrecision\n",
    "\n",
    "**string**\n",
    "\n",
    "**no changes**"
   ]
  },
  {
   "cell_type": "code",
   "execution_count": 12,
   "metadata": {
    "ExecuteTime": {
     "end_time": "2020-05-04T15:16:10.490518Z",
     "start_time": "2020-05-04T15:16:10.486647Z"
    },
    "hidden": true
   },
   "outputs": [],
   "source": [
    "field = 'coordinatePrecision'\n",
    "\n",
    "# df = text_field(field)\n",
    "# df.shape\n",
    "\n",
    "# display_all(df)"
   ]
  },
  {
   "cell_type": "markdown",
   "metadata": {
    "heading_collapsed": true,
    "hidden": true
   },
   "source": [
    "### coordinateUncertaintyInMeters\n",
    "\n",
    "**numeric**"
   ]
  },
  {
   "cell_type": "code",
   "execution_count": 13,
   "metadata": {
    "ExecuteTime": {
     "end_time": "2020-05-04T15:16:10.509243Z",
     "start_time": "2020-05-04T15:16:10.493852Z"
    },
    "hidden": true
   },
   "outputs": [],
   "source": [
    "field = 'coordinateUncertaintyInMeters'\n",
    "\n",
    "df = pd.DataFrame(data={\n",
    "    'field': [field],\n",
    "    'floor': [0],\n",
    "    'ceiling': [40_000 / 2 * 1000],\n",
    "})\n",
    "\n",
    "with sqlite3.connect(OUT_DB) as cxn:\n",
    "    df.to_sql('adjustments', cxn, if_exists='append', index=False)"
   ]
  },
  {
   "cell_type": "markdown",
   "metadata": {
    "heading_collapsed": true,
    "hidden": true
   },
   "source": [
    "### country\n",
    "\n",
    "**string**"
   ]
  },
  {
   "cell_type": "code",
   "execution_count": 14,
   "metadata": {
    "ExecuteTime": {
     "end_time": "2020-05-04T15:16:23.474430Z",
     "start_time": "2020-05-04T15:16:10.511299Z"
    },
    "hidden": true
   },
   "outputs": [
    {
     "data": {
      "text/plain": [
       "(2665, 2)"
      ]
     },
     "execution_count": 14,
     "metadata": {},
     "output_type": "execute_result"
    }
   ],
   "source": [
    "field = 'country'\n",
    "\n",
    "df = text_field(field)\n",
    "df.shape\n",
    "\n",
    "# display_all(df)"
   ]
  },
  {
   "cell_type": "code",
   "execution_count": 15,
   "metadata": {
    "ExecuteTime": {
     "end_time": "2020-05-04T15:16:23.501442Z",
     "start_time": "2020-05-04T15:16:23.475282Z"
    },
    "hidden": true
   },
   "outputs": [],
   "source": [
    "df = pd.DataFrame(data={'literal': [\n",
    "    '0',\n",
    "    '5',\n",
    "    '1971',\n",
    "    '2008',\n",
    "    '2012',\n",
    "    'b',\n",
    "    'i',\n",
    "    'no aplica',\n",
    "    'no data',\n",
    "    'no disponible',\n",
    "    'testes-2x1',\n",
    "    'testes-3x2',\n",
    "    'testes-4x2',\n",
    "    'testes-4x3',\n",
    "    'testes-5x3',\n",
    "    'testes-5x4',\n",
    "    'testes-6x4',\n",
    "    'undefined',\n",
    "    'unknown',\n",
    "    'unknown captive',\n",
    "    'unknown country',\n",
    "]})\n",
    "\n",
    "df['becomes'] = None\n",
    "df['field'] = field\n",
    "\n",
    "with sqlite3.connect(OUT_DB) as cxn:\n",
    "    df.to_sql('adjustments', cxn, if_exists='append', index=False)"
   ]
  },
  {
   "cell_type": "markdown",
   "metadata": {
    "heading_collapsed": true,
    "hidden": true
   },
   "source": [
    "### countryCode\n",
    "\n",
    "**string**\n",
    "\n",
    "**no changes**"
   ]
  },
  {
   "cell_type": "code",
   "execution_count": 16,
   "metadata": {
    "ExecuteTime": {
     "end_time": "2020-05-04T15:16:33.055449Z",
     "start_time": "2020-05-04T15:16:23.505608Z"
    },
    "hidden": true
   },
   "outputs": [
    {
     "data": {
      "text/plain": [
       "(481, 2)"
      ]
     },
     "execution_count": 16,
     "metadata": {},
     "output_type": "execute_result"
    }
   ],
   "source": [
    "field = 'countryCode'\n",
    "\n",
    "df = text_field(field)\n",
    "df.shape\n",
    "\n",
    "# display_all(df)"
   ]
  },
  {
   "cell_type": "markdown",
   "metadata": {
    "heading_collapsed": true,
    "hidden": true
   },
   "source": [
    "### county\n",
    "\n",
    "**string**"
   ]
  },
  {
   "cell_type": "code",
   "execution_count": 17,
   "metadata": {
    "ExecuteTime": {
     "end_time": "2020-05-04T15:16:45.547593Z",
     "start_time": "2020-05-04T15:16:33.056623Z"
    },
    "hidden": true
   },
   "outputs": [
    {
     "data": {
      "text/plain": [
       "(55551, 2)"
      ]
     },
     "execution_count": 17,
     "metadata": {},
     "output_type": "execute_result"
    }
   ],
   "source": [
    "field = 'county'\n",
    "\n",
    "df = text_field(field)\n",
    "df.shape\n",
    "\n",
    "# display_all(df)"
   ]
  },
  {
   "cell_type": "code",
   "execution_count": 18,
   "metadata": {
    "ExecuteTime": {
     "end_time": "2020-05-04T15:16:45.574273Z",
     "start_time": "2020-05-04T15:16:45.548551Z"
    },
    "hidden": true
   },
   "outputs": [],
   "source": [
    "df = pd.DataFrame(data={'literal': [\n",
    "    'no additional locality info',\n",
    "    'no additional locality info given',\n",
    "    'no aplica',\n",
    "    'no county',\n",
    "    'no county given',\n",
    "    'no county record',\n",
    "    'no data',\n",
    "    'no aplica',\n",
    "    'no data',\n",
    "    'no disponible',\n",
    "    'no locality info given',\n",
    "    'no locality record',\n",
    "    'none',\n",
    "    'none given',\n",
    "    'none or unknown',\n",
    "    'none unknown or numbered census division',\n",
    "    'unknown',\n",
    "    'unknown county',\n",
    "    'unknown e',\n",
    "    'unknown w',\n",
    "]})\n",
    "\n",
    "df['becomes'] = None\n",
    "df['field'] = field\n",
    "\n",
    "with sqlite3.connect(OUT_DB) as cxn:\n",
    "    df.to_sql('adjustments', cxn, if_exists='append', index=False)"
   ]
  },
  {
   "cell_type": "markdown",
   "metadata": {
    "heading_collapsed": true,
    "hidden": true
   },
   "source": [
    "### decimalLatitude\n",
    "\n",
    "**numeric**"
   ]
  },
  {
   "cell_type": "code",
   "execution_count": 19,
   "metadata": {
    "ExecuteTime": {
     "end_time": "2020-05-04T15:16:45.584560Z",
     "start_time": "2020-05-04T15:16:45.575227Z"
    },
    "hidden": true
   },
   "outputs": [],
   "source": [
    "field = 'decimalLatitude'\n",
    "\n",
    "df = pd.DataFrame(data={\n",
    "    'field': [field],\n",
    "    'floor': [-90.0],\n",
    "    'ceiling': [90.0],\n",
    "})\n",
    "\n",
    "with sqlite3.connect(OUT_DB) as cxn:\n",
    "    df.to_sql('adjustments', cxn, if_exists='append', index=False)"
   ]
  },
  {
   "cell_type": "markdown",
   "metadata": {
    "heading_collapsed": true,
    "hidden": true
   },
   "source": [
    "### decimalLongitude\n",
    "\n",
    "**numeric**"
   ]
  },
  {
   "cell_type": "code",
   "execution_count": 20,
   "metadata": {
    "ExecuteTime": {
     "end_time": "2020-05-04T15:16:45.595978Z",
     "start_time": "2020-05-04T15:16:45.586992Z"
    },
    "hidden": true
   },
   "outputs": [],
   "source": [
    "field = 'decimalLongitude'\n",
    "\n",
    "df = pd.DataFrame(data={\n",
    "    'field': [field],\n",
    "    'floor': [-180.0],\n",
    "    'ceiling': [180.0],\n",
    "})\n",
    "\n",
    "with sqlite3.connect(OUT_DB) as cxn:\n",
    "    df.to_sql('adjustments', cxn, if_exists='append', index=False)"
   ]
  },
  {
   "cell_type": "markdown",
   "metadata": {
    "heading_collapsed": true,
    "hidden": true
   },
   "source": [
    "### geodeticDatum\n",
    "\n",
    "**string**"
   ]
  },
  {
   "cell_type": "code",
   "execution_count": 21,
   "metadata": {
    "ExecuteTime": {
     "end_time": "2020-05-04T15:16:57.170156Z",
     "start_time": "2020-05-04T15:16:45.597412Z"
    },
    "hidden": true
   },
   "outputs": [
    {
     "data": {
      "text/plain": [
       "(19400, 2)"
      ]
     },
     "execution_count": 21,
     "metadata": {},
     "output_type": "execute_result"
    }
   ],
   "source": [
    "field = 'geodeticDatum'\n",
    "\n",
    "df = text_field(field)\n",
    "df.shape\n",
    "\n",
    "# display_all(df)"
   ]
  },
  {
   "cell_type": "code",
   "execution_count": 22,
   "metadata": {
    "ExecuteTime": {
     "end_time": "2020-05-04T15:16:57.197058Z",
     "start_time": "2020-05-04T15:16:57.171185Z"
    },
    "hidden": true
   },
   "outputs": [],
   "source": [
    "df = pd.DataFrame(data={'literal': [\n",
    "    'no disponible',\n",
    "    'none indicated',\n",
    "    'not georef',\n",
    "    'not given',\n",
    "    'not provided',\n",
    "    'not recorded',\n",
    "    'uknown',\n",
    "    'uniknown',\n",
    "    'unk',\n",
    "    'unkknown',\n",
    "    'unknown',\n",
    "    'unknwon',\n",
    "]})\n",
    "\n",
    "df['becomes'] = None\n",
    "df['field'] = field\n",
    "\n",
    "with sqlite3.connect(OUT_DB) as cxn:\n",
    "    df.to_sql('adjustments', cxn, if_exists='append', index=False)"
   ]
  },
  {
   "cell_type": "markdown",
   "metadata": {
    "heading_collapsed": true,
    "hidden": true
   },
   "source": [
    "### georeferenceSources\n",
    "\n",
    "**string**\n",
    "\n",
    "**no changes**"
   ]
  },
  {
   "cell_type": "code",
   "execution_count": 23,
   "metadata": {
    "ExecuteTime": {
     "end_time": "2020-05-04T15:16:57.205054Z",
     "start_time": "2020-05-04T15:16:57.200785Z"
    },
    "hidden": true
   },
   "outputs": [],
   "source": [
    "field = 'georeferenceSources'\n",
    "\n",
    "# df = text_field(field)\n",
    "# df.shape\n",
    "\n",
    "# display_all(df)"
   ]
  },
  {
   "cell_type": "markdown",
   "metadata": {
    "heading_collapsed": true,
    "hidden": true
   },
   "source": [
    "### higherGeography\n",
    "\n",
    "**string**"
   ]
  },
  {
   "cell_type": "code",
   "execution_count": 24,
   "metadata": {
    "ExecuteTime": {
     "end_time": "2020-05-04T15:17:09.489342Z",
     "start_time": "2020-05-04T15:16:57.208413Z"
    },
    "hidden": true
   },
   "outputs": [
    {
     "data": {
      "text/plain": [
       "(237590, 2)"
      ]
     },
     "execution_count": 24,
     "metadata": {},
     "output_type": "execute_result"
    }
   ],
   "source": [
    "field = 'higherGeography'\n",
    "\n",
    "df = text_field(field)\n",
    "df.shape\n",
    "\n",
    "# display_all(df)"
   ]
  },
  {
   "cell_type": "code",
   "execution_count": 25,
   "metadata": {
    "ExecuteTime": {
     "end_time": "2020-05-04T15:17:09.520518Z",
     "start_time": "2020-05-04T15:17:09.490386Z"
    },
    "hidden": true
   },
   "outputs": [],
   "source": [
    "df = pd.DataFrame(data={'literal': [\n",
    "    'no data',\n",
    "    'unknown',\n",
    "    'unknown captive unknown captive',\n",
    "    'unknown no data',\n",
    "    'unknown unknown',\n",
    "    'unplaced'\n",
    "]})\n",
    "\n",
    "df['becomes'] = None\n",
    "df['field'] = field\n",
    "\n",
    "with sqlite3.connect(OUT_DB) as cxn:\n",
    "    df.to_sql('adjustments', cxn, if_exists='append', index=False)"
   ]
  },
  {
   "cell_type": "markdown",
   "metadata": {
    "heading_collapsed": true,
    "hidden": true
   },
   "source": [
    "### island\n",
    "\n",
    "**string**\n",
    "\n",
    "**no changes**"
   ]
  },
  {
   "cell_type": "code",
   "execution_count": 26,
   "metadata": {
    "ExecuteTime": {
     "end_time": "2020-05-04T15:17:09.524464Z",
     "start_time": "2020-05-04T15:17:09.521606Z"
    },
    "hidden": true
   },
   "outputs": [],
   "source": [
    "field = 'island'\n",
    "\n",
    "# df = text_field(field)\n",
    "# df.shape\n",
    "\n",
    "# display_all(df)"
   ]
  },
  {
   "cell_type": "markdown",
   "metadata": {
    "heading_collapsed": true,
    "hidden": true
   },
   "source": [
    "### islandGroup\n",
    "\n",
    "**string**"
   ]
  },
  {
   "cell_type": "code",
   "execution_count": 27,
   "metadata": {
    "ExecuteTime": {
     "end_time": "2020-05-04T15:17:18.032428Z",
     "start_time": "2020-05-04T15:17:09.525535Z"
    },
    "hidden": true
   },
   "outputs": [
    {
     "data": {
      "text/plain": [
       "(1247, 2)"
      ]
     },
     "execution_count": 27,
     "metadata": {},
     "output_type": "execute_result"
    }
   ],
   "source": [
    "field = 'islandGroup'\n",
    "\n",
    "df = text_field(field)\n",
    "df.shape\n",
    "\n",
    "# display_all(df)"
   ]
  },
  {
   "cell_type": "code",
   "execution_count": 28,
   "metadata": {
    "ExecuteTime": {
     "end_time": "2020-05-04T15:17:18.048107Z",
     "start_time": "2020-05-04T15:17:18.033582Z"
    },
    "hidden": true
   },
   "outputs": [],
   "source": [
    "df = pd.DataFrame(data={'literal': [\n",
    "    'unknown',\n",
    "]})\n",
    "\n",
    "df['becomes'] = None\n",
    "df['field'] = field\n",
    "\n",
    "with sqlite3.connect(OUT_DB) as cxn:\n",
    "    df.to_sql('adjustments', cxn, if_exists='append', index=False)"
   ]
  },
  {
   "cell_type": "markdown",
   "metadata": {
    "heading_collapsed": true,
    "hidden": true
   },
   "source": [
    "### maximumDepthInMeters\n",
    "\n",
    "**numeric**\n",
    "\n",
    "**no changes**"
   ]
  },
  {
   "cell_type": "markdown",
   "metadata": {
    "heading_collapsed": true,
    "hidden": true
   },
   "source": [
    "### maximumElevationInMeters\n",
    "\n",
    "**numeric**\n",
    "\n",
    "**no changes**"
   ]
  },
  {
   "cell_type": "markdown",
   "metadata": {
    "heading_collapsed": true,
    "hidden": true
   },
   "source": [
    "### minimumDepthInMeters\n",
    "\n",
    "**numeric**\n",
    "\n",
    "**no changes**"
   ]
  },
  {
   "cell_type": "markdown",
   "metadata": {
    "heading_collapsed": true,
    "hidden": true
   },
   "source": [
    "### minimumElevationInMeters\n",
    "\n",
    "**numeric**\n",
    "\n",
    "**no changes**"
   ]
  },
  {
   "cell_type": "markdown",
   "metadata": {
    "heading_collapsed": true,
    "hidden": true
   },
   "source": [
    "### municipality\n",
    "\n",
    "**string**"
   ]
  },
  {
   "cell_type": "code",
   "execution_count": 29,
   "metadata": {
    "ExecuteTime": {
     "end_time": "2020-05-04T15:17:27.864202Z",
     "start_time": "2020-05-04T15:17:18.051120Z"
    },
    "hidden": true
   },
   "outputs": [
    {
     "data": {
      "text/plain": [
       "(64273, 2)"
      ]
     },
     "execution_count": 29,
     "metadata": {},
     "output_type": "execute_result"
    }
   ],
   "source": [
    "field = 'municipality'\n",
    "\n",
    "df = text_field(field)\n",
    "df.shape\n",
    "\n",
    "# display_all(df)"
   ]
  },
  {
   "cell_type": "code",
   "execution_count": 30,
   "metadata": {
    "ExecuteTime": {
     "end_time": "2020-05-04T15:17:27.891033Z",
     "start_time": "2020-05-04T15:17:27.865102Z"
    },
    "hidden": true
   },
   "outputs": [],
   "source": [
    "df = pd.DataFrame(data={'literal': [\n",
    "    'none',\n",
    "    'unknown',\n",
    "]})\n",
    "\n",
    "df['becomes'] = None\n",
    "df['field'] = field\n",
    "\n",
    "with sqlite3.connect(OUT_DB) as cxn:\n",
    "    df.to_sql('adjustments', cxn, if_exists='append', index=False)"
   ]
  },
  {
   "cell_type": "markdown",
   "metadata": {
    "heading_collapsed": true,
    "hidden": true
   },
   "source": [
    "### stateProvince\n",
    "\n",
    "**string**"
   ]
  },
  {
   "cell_type": "code",
   "execution_count": 31,
   "metadata": {
    "ExecuteTime": {
     "end_time": "2020-05-04T15:17:42.475561Z",
     "start_time": "2020-05-04T15:17:27.891937Z"
    },
    "hidden": true
   },
   "outputs": [
    {
     "data": {
      "text/plain": [
       "(24454, 2)"
      ]
     },
     "execution_count": 31,
     "metadata": {},
     "output_type": "execute_result"
    }
   ],
   "source": [
    "field = 'stateProvince'\n",
    "\n",
    "df = text_field(field)\n",
    "df.shape\n",
    "\n",
    "# display_all(df)"
   ]
  },
  {
   "cell_type": "code",
   "execution_count": 32,
   "metadata": {
    "ExecuteTime": {
     "end_time": "2020-05-04T15:17:42.503234Z",
     "start_time": "2020-05-04T15:17:42.476688Z"
    },
    "hidden": true
   },
   "outputs": [],
   "source": [
    "df = pd.DataFrame(data={'literal': [\n",
    "    'none',\n",
    "    'none or unknown',\n",
    "    'unk',\n",
    "    'unknown',\n",
    "    'unknown location',\n",
    "    'unplaced',\n",
    "    'unplaced state',\n",
    "    'unrecorded',\n",
    "    'unspecified',\n",
    "    'unspecified state',\n",
    "]})\n",
    "\n",
    "df['becomes'] = None\n",
    "df['field'] = field\n",
    "\n",
    "with sqlite3.connect(OUT_DB) as cxn:\n",
    "    df.to_sql('adjustments', cxn, if_exists='append', index=False)"
   ]
  },
  {
   "cell_type": "markdown",
   "metadata": {
    "heading_collapsed": true,
    "hidden": true
   },
   "source": [
    "### verbatimCoordinateSystem\n",
    "\n",
    "**string**\n",
    "\n",
    "**no changes**"
   ]
  },
  {
   "cell_type": "markdown",
   "metadata": {
    "heading_collapsed": true,
    "hidden": true
   },
   "source": [
    "### verbatimCoordinates\n",
    "\n",
    "**string**\n",
    "\n",
    "**no changes**"
   ]
  },
  {
   "cell_type": "markdown",
   "metadata": {
    "heading_collapsed": true,
    "hidden": true
   },
   "source": [
    "### verbatimDepth\n",
    "\n",
    "**string**\n",
    "\n",
    "**no changes**"
   ]
  },
  {
   "cell_type": "markdown",
   "metadata": {
    "heading_collapsed": true,
    "hidden": true
   },
   "source": [
    "### verbatimElevation\n",
    "\n",
    "**string**\n",
    "\n",
    "**no changes**"
   ]
  },
  {
   "cell_type": "markdown",
   "metadata": {
    "heading_collapsed": true,
    "hidden": true
   },
   "source": [
    "### waterBody\n",
    "\n",
    "**string**"
   ]
  },
  {
   "cell_type": "code",
   "execution_count": 33,
   "metadata": {
    "ExecuteTime": {
     "end_time": "2020-05-04T15:17:52.076768Z",
     "start_time": "2020-05-04T15:17:42.506277Z"
    },
    "hidden": true
   },
   "outputs": [
    {
     "data": {
      "text/plain": [
       "(19847, 2)"
      ]
     },
     "execution_count": 33,
     "metadata": {},
     "output_type": "execute_result"
    }
   ],
   "source": [
    "field = 'waterBody'\n",
    "\n",
    "df = text_field(field)\n",
    "df.shape\n",
    "\n",
    "# display_all(df)"
   ]
  },
  {
   "cell_type": "code",
   "execution_count": 34,
   "metadata": {
    "ExecuteTime": {
     "end_time": "2020-05-04T15:17:52.103279Z",
     "start_time": "2020-05-04T15:17:52.077641Z"
    },
    "hidden": true
   },
   "outputs": [],
   "source": [
    "df = pd.DataFrame(data={'literal': [\n",
    "    'no data',\n",
    "    'none given',\n",
    "    'unknown',\n",
    "]})\n",
    "\n",
    "df['becomes'] = None\n",
    "df['field'] = field\n",
    "\n",
    "with sqlite3.connect(OUT_DB) as cxn:\n",
    "    df.to_sql('adjustments', cxn, if_exists='append', index=False)"
   ]
  },
  {
   "cell_type": "markdown",
   "metadata": {},
   "source": [
    "## Adjust Fields"
   ]
  },
  {
   "cell_type": "markdown",
   "metadata": {},
   "source": [
    "### Get adjustments"
   ]
  },
  {
   "cell_type": "code",
   "execution_count": 35,
   "metadata": {
    "ExecuteTime": {
     "end_time": "2020-05-04T15:17:52.116497Z",
     "start_time": "2020-05-04T15:17:52.107034Z"
    },
    "scrolled": true
   },
   "outputs": [
    {
     "data": {
      "text/plain": [
       "['locality',\n",
       " 'continent',\n",
       " 'coordinatePrecision',\n",
       " 'coordinateUncertaintyInMeters',\n",
       " 'country',\n",
       " 'countryCode',\n",
       " 'county',\n",
       " 'decimalLatitude',\n",
       " 'decimalLongitude',\n",
       " 'geodeticDatum',\n",
       " 'georeferenceSources',\n",
       " 'higherGeography',\n",
       " 'island',\n",
       " 'islandGroup',\n",
       " 'locationRemarks',\n",
       " 'maximumDepthInMeters',\n",
       " 'maximumElevationInMeters',\n",
       " 'minimumDepthInMeters',\n",
       " 'minimumElevationInMeters',\n",
       " 'municipality',\n",
       " 'stateProvince',\n",
       " 'verbatimCoordinateSystem',\n",
       " 'verbatimCoordinates',\n",
       " 'verbatimDepth',\n",
       " 'verbatimElevation',\n",
       " 'waterBody']"
      ]
     },
     "execution_count": 35,
     "metadata": {},
     "output_type": "execute_result"
    }
   ],
   "source": [
    "SPECIALS = \"\"\"coreid hash source\"\"\".split()\n",
    "HASH_COLS = get_columns(specials=SPECIALS)\n",
    "ALL_COLS = SPECIALS + HASH_COLS\n",
    "HASH_COLS"
   ]
  },
  {
   "cell_type": "code",
   "execution_count": 36,
   "metadata": {
    "ExecuteTime": {
     "end_time": "2020-05-04T15:17:52.126017Z",
     "start_time": "2020-05-04T15:17:52.119186Z"
    }
   },
   "outputs": [],
   "source": [
    "replace = defaultdict(set)\n",
    "span = {}\n",
    "\n",
    "with sqlite3.connect(OUT_DB) as cxn_out:\n",
    "    cxn_out.row_factory = dict_factory\n",
    "\n",
    "    for row in cxn_out.execute('select * from adjustments;'):\n",
    "        field = row['field']\n",
    "        literal = row['literal']\n",
    "\n",
    "        if literal:\n",
    "            replace[field].add(literal)\n",
    "        else:\n",
    "            span[field] = (float(row['floor']), float(row['ceiling']))\n",
    "\n",
    "# print(span)\n",
    "# replace"
   ]
  },
  {
   "cell_type": "markdown",
   "metadata": {},
   "source": [
    "### Perform Adjustments and Rehash"
   ]
  },
  {
   "cell_type": "code",
   "execution_count": 37,
   "metadata": {
    "ExecuteTime": {
     "end_time": "2020-05-04T15:17:52.139533Z",
     "start_time": "2020-05-04T15:17:52.127771Z"
    }
   },
   "outputs": [],
   "source": [
    "create = f\"\"\"\n",
    "    create table if not exists gazetteer ({','.join(ALL_COLS)});\n",
    "\"\"\"\n",
    "with sqlite3.connect(OUT_DB) as cxn_out:\n",
    "    cxn_out.execute(create)"
   ]
  },
  {
   "cell_type": "code",
   "execution_count": 38,
   "metadata": {
    "ExecuteTime": {
     "end_time": "2020-05-04T15:17:52.142852Z",
     "start_time": "2020-05-04T15:17:52.140784Z"
    }
   },
   "outputs": [],
   "source": [
    "select = 'select * from gazetteer;'\n",
    "\n",
    "insert = f\"\"\"\n",
    "    insert into gazetteer ({','.join(ALL_COLS)})\n",
    "    values ({','.join(['?'] * len(ALL_COLS))});\n",
    "\"\"\""
   ]
  },
  {
   "cell_type": "code",
   "execution_count": 39,
   "metadata": {
    "ExecuteTime": {
     "end_time": "2020-05-04T15:27:07.923672Z",
     "start_time": "2020-05-04T15:17:52.143998Z"
    }
   },
   "outputs": [
    {
     "name": "stderr",
     "output_type": "stream",
     "text": [
      "16270042it [09:13, 29390.03it/s]\n"
     ]
    }
   ],
   "source": [
    "batch = []\n",
    "\n",
    "with sqlite3.connect(IN_DB) as cxn_in:\n",
    "    cxn_in.row_factory = dict_factory\n",
    "\n",
    "    with sqlite3.connect(OUT_DB) as cxn_out:\n",
    "\n",
    "        for in_row in tqdm(cxn_in.execute(select)):\n",
    "            out_row = []\n",
    "\n",
    "            for col in ALL_COLS:\n",
    "                value = in_row[col]\n",
    "\n",
    "                if col in replace and value in replace[col]:\n",
    "                    value = None\n",
    "\n",
    "                elif col in span:\n",
    "                    adjust = span[col]\n",
    "                    if value is not None and (value < adjust[0] or value > adjust[1]):\n",
    "                        value = None\n",
    "\n",
    "                out_row.append(value)\n",
    "\n",
    "            l_hash = b'|'.join(str(c).encode() for c in out_row[3:])\n",
    "            out_row[1] = sha256(l_hash).hexdigest()\n",
    "\n",
    "            batch.append(out_row)\n",
    "\n",
    "            if len(batch) >= CHUNK:\n",
    "                cxn_out.executemany(insert, batch)\n",
    "                cxn_out.commit()\n",
    "                batch = []\n",
    "\n",
    "        if len(batch):\n",
    "            cxn_out.executemany(insert, batch)\n",
    "            cxn_out.commit()"
   ]
  },
  {
   "cell_type": "markdown",
   "metadata": {},
   "source": [
    "### Delete Row Where the Decimal Latitude or Longitude Is Null\n",
    "\n",
    "By setting things to null it is now possible that we set the decimal coordinates to null. Remove those records."
   ]
  },
  {
   "cell_type": "code",
   "execution_count": 42,
   "metadata": {
    "ExecuteTime": {
     "end_time": "2020-05-04T15:38:20.151109Z",
     "start_time": "2020-05-04T15:38:17.496212Z"
    }
   },
   "outputs": [],
   "source": [
    "sql = \"\"\"\n",
    "    delete from gazetteer\n",
    "     where decimalLatitude is null\n",
    "        or decimalLongitude is null;\n",
    "\"\"\"\n",
    "\n",
    "with sqlite3.connect(OUT_DB) as cxn:\n",
    "    cxn.executescript(sql)\n",
    "    cxn.commit()"
   ]
  },
  {
   "cell_type": "markdown",
   "metadata": {},
   "source": [
    "### Create Index on Hash"
   ]
  },
  {
   "cell_type": "code",
   "execution_count": 40,
   "metadata": {
    "ExecuteTime": {
     "end_time": "2020-05-04T15:27:25.701299Z",
     "start_time": "2020-05-04T15:27:07.924637Z"
    }
   },
   "outputs": [],
   "source": [
    "sql = 'create index hash on gazetteer (hash);'\n",
    "\n",
    "with sqlite3.connect(OUT_DB) as cxn:\n",
    "    cxn.executescript(sql)"
   ]
  },
  {
   "cell_type": "markdown",
   "metadata": {},
   "source": [
    "### Delete Duplicate Gazetteer Records\n",
    "\n",
    "By setting things to null it is now possible that more records hash to the same value. Remove those new duplicate records."
   ]
  },
  {
   "cell_type": "code",
   "execution_count": 44,
   "metadata": {
    "ExecuteTime": {
     "end_time": "2020-05-04T15:44:25.304820Z",
     "start_time": "2020-05-04T15:44:17.479924Z"
    }
   },
   "outputs": [],
   "source": [
    "sql = \"\"\"\n",
    "with dupes as (\n",
    "    select hash, count(*) as n\n",
    "      from gazetteer\n",
    "  group by hash\n",
    "    having n > 1),\n",
    "keeps as (\n",
    "    select ROWID as keeper, * \n",
    "      from gazetteer\n",
    "     where hash in (select hash from dupes)\n",
    "  group by hash\n",
    "    having min(rowid))\n",
    "delete from gazetteer\n",
    " where hash in (select hash from dupes)\n",
    "   and ROWID not in (select keeper from keeps)\n",
    "\"\"\"\n",
    "\n",
    "with sqlite3.connect(OUT_DB) as cxn:\n",
    "    cxn.executescript(sql)\n",
    "    cxn.commit()"
   ]
  },
  {
   "cell_type": "code",
   "execution_count": null,
   "metadata": {},
   "outputs": [],
   "source": []
  }
 ],
 "metadata": {
  "kernelspec": {
   "display_name": "Python 3",
   "language": "python",
   "name": "python3"
  },
  "language_info": {
   "codemirror_mode": {
    "name": "ipython",
    "version": 3
   },
   "file_extension": ".py",
   "mimetype": "text/x-python",
   "name": "python",
   "nbconvert_exporter": "python",
   "pygments_lexer": "ipython3",
   "version": "3.8.2"
  },
  "varInspector": {
   "cols": {
    "lenName": 16,
    "lenType": 16,
    "lenVar": 40
   },
   "kernels_config": {
    "python": {
     "delete_cmd_postfix": "",
     "delete_cmd_prefix": "del ",
     "library": "var_list.py",
     "varRefreshCmd": "print(var_dic_list())"
    },
    "r": {
     "delete_cmd_postfix": ") ",
     "delete_cmd_prefix": "rm(",
     "library": "var_list.r",
     "varRefreshCmd": "cat(var_dic_list()) "
    }
   },
   "types_to_exclude": [
    "module",
    "function",
    "builtin_function_or_method",
    "instance",
    "_Feature"
   ],
   "window_display": false
  }
 },
 "nbformat": 4,
 "nbformat_minor": 4
}
