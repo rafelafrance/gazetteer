{
 "cells": [
  {
   "cell_type": "markdown",
   "metadata": {},
   "source": [
    "# Adjust Invalid Data"
   ]
  },
  {
   "cell_type": "markdown",
   "metadata": {},
   "source": [
    "## Basic Setup"
   ]
  },
  {
   "cell_type": "code",
   "execution_count": 38,
   "metadata": {
    "ExecuteTime": {
     "end_time": "2020-05-02T20:53:30.376676Z",
     "start_time": "2020-05-02T20:53:30.372421Z"
    }
   },
   "outputs": [],
   "source": [
    "import sqlite3\n",
    "from collections import defaultdict\n",
    "from hashlib import sha256\n",
    "from pathlib import Path\n",
    "from pprint import pp\n",
    "\n",
    "import pandas as pd\n",
    "from tqdm import tqdm"
   ]
  },
  {
   "cell_type": "code",
   "execution_count": 2,
   "metadata": {
    "ExecuteTime": {
     "end_time": "2020-05-02T19:47:29.095313Z",
     "start_time": "2020-05-02T19:47:29.092955Z"
    }
   },
   "outputs": [],
   "source": [
    "DATA_DIR = Path('..') / 'data'\n",
    "INTERIM_DIR = DATA_DIR / '01_interim'\n",
    "\n",
    "IN_DB = INTERIM_DIR / 'gazetteer_03_idigbio_2020-03-30.db'\n",
    "OUT_DB = DATA_DIR / 'gazetteer_04_idigbio_2020-03-30.db'\n",
    "\n",
    "CHUNK = 1_000_000"
   ]
  },
  {
   "cell_type": "markdown",
   "metadata": {
    "heading_collapsed": true
   },
   "source": [
    "## Helper functions"
   ]
  },
  {
   "cell_type": "code",
   "execution_count": 3,
   "metadata": {
    "ExecuteTime": {
     "end_time": "2020-05-02T19:47:30.266438Z",
     "start_time": "2020-05-02T19:47:30.252744Z"
    },
    "hidden": true
   },
   "outputs": [],
   "source": [
    "def display_all(df):\n",
    "    with pd.option_context('display.max_rows', None, 'display.max_columns', None):\n",
    "        display(df)"
   ]
  },
  {
   "cell_type": "markdown",
   "metadata": {},
   "source": [
    "## Database Setup"
   ]
  },
  {
   "cell_type": "code",
   "execution_count": 4,
   "metadata": {
    "ExecuteTime": {
     "end_time": "2020-05-02T19:47:32.710778Z",
     "start_time": "2020-05-02T19:47:31.098764Z"
    }
   },
   "outputs": [],
   "source": [
    "if OUT_DB.exists():\n",
    "    os.remove(OUT_DB)"
   ]
  },
  {
   "cell_type": "markdown",
   "metadata": {
    "heading_collapsed": true
   },
   "source": [
    "### Create a Table for Logging Adjusted Values"
   ]
  },
  {
   "cell_type": "code",
   "execution_count": 5,
   "metadata": {
    "ExecuteTime": {
     "end_time": "2020-05-02T19:47:33.709218Z",
     "start_time": "2020-05-02T19:47:33.691651Z"
    },
    "hidden": true
   },
   "outputs": [],
   "source": [
    "df = pd.DataFrame(\n",
    "    columns=['field', 'literal', 'becomes', 'floor', 'ceiling'])\n",
    "\n",
    "with sqlite3.connect(OUT_DB) as cxn:\n",
    "    df.to_sql('adjustments', cxn, if_exists='replace', index=False)"
   ]
  },
  {
   "cell_type": "markdown",
   "metadata": {},
   "source": [
    "### Database Related Functions\n",
    "\n",
    "Get the list of columns in a table. Skip any columns that require special handling"
   ]
  },
  {
   "cell_type": "code",
   "execution_count": 40,
   "metadata": {
    "ExecuteTime": {
     "end_time": "2020-05-02T21:00:37.512868Z",
     "start_time": "2020-05-02T21:00:37.510427Z"
    }
   },
   "outputs": [],
   "source": [
    "def dict_factory(cursor, row):\n",
    "    dict_ = {}\n",
    "    for idx, col in enumerate(cursor.description):\n",
    "        dict_[col[0]] = row[idx]\n",
    "    return dict_"
   ]
  },
  {
   "cell_type": "code",
   "execution_count": 47,
   "metadata": {
    "ExecuteTime": {
     "end_time": "2020-05-02T21:06:44.323547Z",
     "start_time": "2020-05-02T21:06:44.317392Z"
    }
   },
   "outputs": [],
   "source": [
    "def get_columns(table='gazetteer', db=IN_DB, specials=None):\n",
    "    if specials is None:\n",
    "        specials = \"\"\"coreid hash source locality\"\"\".split()\n",
    "\n",
    "    sql = f'PRAGMA table_info({table});'\n",
    "\n",
    "    with sqlite3.connect(db) as cxn:\n",
    "        cxn.row_factory = sqlite3.Row\n",
    "        columns = [r[1] for r in cxn.execute(sql) if r[1] not in specials]\n",
    "\n",
    "    return columns"
   ]
  },
  {
   "cell_type": "markdown",
   "metadata": {},
   "source": [
    "Get a list of all distinct text values for manual filtering"
   ]
  },
  {
   "cell_type": "code",
   "execution_count": 7,
   "metadata": {
    "ExecuteTime": {
     "end_time": "2020-05-02T19:47:47.516509Z",
     "start_time": "2020-05-02T19:47:47.514165Z"
    }
   },
   "outputs": [],
   "source": [
    "def text_field(field):\n",
    "    sql = f\"\"\"\n",
    "        select {field}, count(*) as n\n",
    "          from gazetteer\n",
    "      group by {field}\n",
    "      order by n desc, {field}\n",
    "    \"\"\"\n",
    "    with sqlite3.connect(IN_DB) as cxn:\n",
    "        df = pd.read_sql(sql, cxn)\n",
    "    return df"
   ]
  },
  {
   "cell_type": "markdown",
   "metadata": {},
   "source": [
    "### Get Columns"
   ]
  },
  {
   "cell_type": "code",
   "execution_count": 8,
   "metadata": {
    "ExecuteTime": {
     "end_time": "2020-05-02T19:47:50.026684Z",
     "start_time": "2020-05-02T19:47:50.020230Z"
    }
   },
   "outputs": [
    {
     "data": {
      "text/plain": [
       "['coreid',\n",
       " 'continent',\n",
       " 'coordinatePrecision',\n",
       " 'coordinateUncertaintyInMeters',\n",
       " 'country',\n",
       " 'countryCode',\n",
       " 'county',\n",
       " 'decimalLatitude',\n",
       " 'decimalLongitude',\n",
       " 'geodeticDatum',\n",
       " 'georeferenceSources',\n",
       " 'higherGeography',\n",
       " 'island',\n",
       " 'islandGroup',\n",
       " 'locationRemarks',\n",
       " 'maximumDepthInMeters',\n",
       " 'maximumElevationInMeters',\n",
       " 'minimumDepthInMeters',\n",
       " 'minimumElevationInMeters',\n",
       " 'municipality',\n",
       " 'stateProvince',\n",
       " 'verbatimCoordinateSystem',\n",
       " 'verbatimCoordinates',\n",
       " 'verbatimDepth',\n",
       " 'verbatimElevation',\n",
       " 'waterBody']"
      ]
     },
     "execution_count": 8,
     "metadata": {},
     "output_type": "execute_result"
    }
   ],
   "source": [
    "COLUMNS = get_columns()\n",
    "COLUMNS"
   ]
  },
  {
   "cell_type": "markdown",
   "metadata": {
    "heading_collapsed": true
   },
   "source": [
    "## Examine Fields"
   ]
  },
  {
   "cell_type": "markdown",
   "metadata": {
    "heading_collapsed": true,
    "hidden": true
   },
   "source": [
    "### continent\n",
    "\n",
    "**string**"
   ]
  },
  {
   "cell_type": "code",
   "execution_count": 9,
   "metadata": {
    "ExecuteTime": {
     "end_time": "2020-05-02T19:48:13.389992Z",
     "start_time": "2020-05-02T19:47:59.876715Z"
    },
    "hidden": true
   },
   "outputs": [
    {
     "data": {
      "text/plain": [
       "(246, 2)"
      ]
     },
     "execution_count": 9,
     "metadata": {},
     "output_type": "execute_result"
    }
   ],
   "source": [
    "field = 'continent'\n",
    "\n",
    "df = text_field(field)\n",
    "df.shape\n",
    "\n",
    "# display_all(df)"
   ]
  },
  {
   "cell_type": "code",
   "execution_count": 10,
   "metadata": {
    "ExecuteTime": {
     "end_time": "2020-05-02T19:48:13.456631Z",
     "start_time": "2020-05-02T19:48:13.442011Z"
    },
    "hidden": true
   },
   "outputs": [],
   "source": [
    "df = pd.DataFrame(data={'literal': [\n",
    "    'na',\n",
    "    'no higher geography data',\n",
    "    'no higher geography recorded',\n",
    "    'not determined',\n",
    "    'not in specify tree',\n",
    "    'unassigned',\n",
    "    'undefined',\n",
    "    'unknown captive',\n",
    "    'unknown continent',\n",
    "    'unplaced',\n",
    "    'unrecorded',\n",
    "    'unspecified',\n",
    "]})\n",
    "\n",
    "df['becomes'] = None\n",
    "df['field'] = field\n",
    "\n",
    "with sqlite3.connect(OUT_DB) as cxn:\n",
    "    df.to_sql('adjustments', cxn, if_exists='append', index=False)"
   ]
  },
  {
   "cell_type": "markdown",
   "metadata": {
    "heading_collapsed": true,
    "hidden": true
   },
   "source": [
    "### coordinatePrecision\n",
    "\n",
    "**string**\n",
    "\n",
    "**no changes**"
   ]
  },
  {
   "cell_type": "code",
   "execution_count": 11,
   "metadata": {
    "ExecuteTime": {
     "end_time": "2020-05-02T19:48:32.063266Z",
     "start_time": "2020-05-02T19:48:21.117319Z"
    },
    "hidden": true
   },
   "outputs": [
    {
     "data": {
      "text/plain": [
       "(4654, 2)"
      ]
     },
     "execution_count": 11,
     "metadata": {},
     "output_type": "execute_result"
    }
   ],
   "source": [
    "field = 'coordinatePrecision'\n",
    "\n",
    "# df = text_field(field)\n",
    "# df.shape\n",
    "\n",
    "# display_all(df)"
   ]
  },
  {
   "cell_type": "markdown",
   "metadata": {
    "heading_collapsed": true,
    "hidden": true
   },
   "source": [
    "### coordinateUncertaintyInMeters\n",
    "\n",
    "**numeric**"
   ]
  },
  {
   "cell_type": "code",
   "execution_count": 12,
   "metadata": {
    "ExecuteTime": {
     "end_time": "2020-05-02T19:48:50.407336Z",
     "start_time": "2020-05-02T19:48:50.394788Z"
    },
    "hidden": true
   },
   "outputs": [],
   "source": [
    "field = 'coordinateUncertaintyInMeters'\n",
    "\n",
    "df = pd.DataFrame(data={\n",
    "    'field': [field],\n",
    "    'floor': [0],\n",
    "    'ceiling': [40_000 / 2 * 1000],\n",
    "})\n",
    "\n",
    "with sqlite3.connect(OUT_DB) as cxn:\n",
    "    df.to_sql('adjustments', cxn, if_exists='append', index=False)"
   ]
  },
  {
   "cell_type": "markdown",
   "metadata": {
    "heading_collapsed": true,
    "hidden": true
   },
   "source": [
    "### country\n",
    "\n",
    "**string**"
   ]
  },
  {
   "cell_type": "code",
   "execution_count": 13,
   "metadata": {
    "ExecuteTime": {
     "end_time": "2020-05-02T19:49:10.838380Z",
     "start_time": "2020-05-02T19:48:55.113828Z"
    },
    "hidden": true
   },
   "outputs": [
    {
     "data": {
      "text/plain": [
       "(2665, 2)"
      ]
     },
     "execution_count": 13,
     "metadata": {},
     "output_type": "execute_result"
    }
   ],
   "source": [
    "field = 'country'\n",
    "\n",
    "df = text_field(field)\n",
    "df.shape\n",
    "\n",
    "# display_all(df)"
   ]
  },
  {
   "cell_type": "code",
   "execution_count": 14,
   "metadata": {
    "ExecuteTime": {
     "end_time": "2020-05-02T19:49:10.906458Z",
     "start_time": "2020-05-02T19:49:10.893084Z"
    },
    "hidden": true
   },
   "outputs": [],
   "source": [
    "df = pd.DataFrame(data={'literal': [\n",
    "    '0',\n",
    "    '5',\n",
    "    '1971',\n",
    "    '2008',\n",
    "    '2012',\n",
    "    'b',\n",
    "    'i',\n",
    "    'no aplica',\n",
    "    'no data',\n",
    "    'no disponible',\n",
    "    'testes-2x1',\n",
    "    'testes-3x2',\n",
    "    'testes-4x2',\n",
    "    'testes-4x3',\n",
    "    'testes-5x3',\n",
    "    'testes-5x4',\n",
    "    'testes-6x4',\n",
    "    'undefined',\n",
    "    'unknown',\n",
    "    'unknown captive',\n",
    "    'unknown country',\n",
    "]})\n",
    "\n",
    "df['becomes'] = None\n",
    "df['field'] = field\n",
    "\n",
    "with sqlite3.connect(OUT_DB) as cxn:\n",
    "    df.to_sql('adjustments', cxn, if_exists='append', index=False)"
   ]
  },
  {
   "cell_type": "markdown",
   "metadata": {
    "heading_collapsed": true,
    "hidden": true
   },
   "source": [
    "### countryCode\n",
    "\n",
    "**string**\n",
    "\n",
    "**no changes**"
   ]
  },
  {
   "cell_type": "code",
   "execution_count": 15,
   "metadata": {
    "ExecuteTime": {
     "end_time": "2020-05-02T19:49:25.457205Z",
     "start_time": "2020-05-02T19:49:13.539642Z"
    },
    "hidden": true
   },
   "outputs": [
    {
     "data": {
      "text/plain": [
       "(481, 2)"
      ]
     },
     "execution_count": 15,
     "metadata": {},
     "output_type": "execute_result"
    }
   ],
   "source": [
    "field = 'countryCode'\n",
    "\n",
    "df = text_field(field)\n",
    "df.shape\n",
    "\n",
    "# display_all(df)"
   ]
  },
  {
   "cell_type": "markdown",
   "metadata": {
    "heading_collapsed": true,
    "hidden": true
   },
   "source": [
    "### county\n",
    "\n",
    "**string**"
   ]
  },
  {
   "cell_type": "code",
   "execution_count": 16,
   "metadata": {
    "ExecuteTime": {
     "end_time": "2020-05-02T19:49:40.506203Z",
     "start_time": "2020-05-02T19:49:25.525049Z"
    },
    "hidden": true
   },
   "outputs": [
    {
     "data": {
      "text/plain": [
       "(55551, 2)"
      ]
     },
     "execution_count": 16,
     "metadata": {},
     "output_type": "execute_result"
    }
   ],
   "source": [
    "field = 'county'\n",
    "\n",
    "df = text_field(field)\n",
    "df.shape\n",
    "\n",
    "# display_all(df)"
   ]
  },
  {
   "cell_type": "code",
   "execution_count": 17,
   "metadata": {
    "ExecuteTime": {
     "end_time": "2020-05-02T19:49:40.568542Z",
     "start_time": "2020-05-02T19:49:40.552214Z"
    },
    "hidden": true
   },
   "outputs": [],
   "source": [
    "df = pd.DataFrame(data={'literal': [\n",
    "    'no additional locality info',\n",
    "    'no additional locality info given',\n",
    "    'no aplica',\n",
    "    'no county',\n",
    "    'no county given',\n",
    "    'no county record',\n",
    "    'no data',\n",
    "    'no aplica',\n",
    "    'no data',\n",
    "    'no disponible',\n",
    "    'no locality info given',\n",
    "    'no locality record',\n",
    "    'none',\n",
    "    'none given',\n",
    "    'none or unknown',\n",
    "    'none unknown or numbered census division',\n",
    "    'unknown',\n",
    "    'unknown county',\n",
    "    'unknown e',\n",
    "    'unknown w',\n",
    "]})\n",
    "\n",
    "df['becomes'] = None\n",
    "df['field'] = field\n",
    "\n",
    "with sqlite3.connect(OUT_DB) as cxn:\n",
    "    df.to_sql('adjustments', cxn, if_exists='append', index=False)"
   ]
  },
  {
   "cell_type": "markdown",
   "metadata": {
    "heading_collapsed": true,
    "hidden": true
   },
   "source": [
    "### decimalLatitude\n",
    "\n",
    "**numeric**"
   ]
  },
  {
   "cell_type": "code",
   "execution_count": 18,
   "metadata": {
    "ExecuteTime": {
     "end_time": "2020-05-02T19:49:46.648972Z",
     "start_time": "2020-05-02T19:49:46.632889Z"
    },
    "hidden": true
   },
   "outputs": [],
   "source": [
    "field = 'decimalLatitude'\n",
    "\n",
    "df = pd.DataFrame(data={\n",
    "    'field': [field],\n",
    "    'floor': [-90.0],\n",
    "    'ceiling': [90.0],\n",
    "})\n",
    "\n",
    "with sqlite3.connect(OUT_DB) as cxn:\n",
    "    df.to_sql('adjustments', cxn, if_exists='append', index=False)"
   ]
  },
  {
   "cell_type": "markdown",
   "metadata": {
    "heading_collapsed": true,
    "hidden": true
   },
   "source": [
    "### decimalLongitude\n",
    "\n",
    "**numeric**"
   ]
  },
  {
   "cell_type": "code",
   "execution_count": 19,
   "metadata": {
    "ExecuteTime": {
     "end_time": "2020-05-02T19:49:48.894896Z",
     "start_time": "2020-05-02T19:49:48.878965Z"
    },
    "hidden": true
   },
   "outputs": [],
   "source": [
    "field = 'decimalLongitude'\n",
    "\n",
    "df = pd.DataFrame(data={\n",
    "    'field': [field],\n",
    "    'floor': [-180.0],\n",
    "    'ceiling': [180.0],\n",
    "})\n",
    "\n",
    "with sqlite3.connect(OUT_DB) as cxn:\n",
    "    df.to_sql('adjustments', cxn, if_exists='append', index=False)"
   ]
  },
  {
   "cell_type": "markdown",
   "metadata": {
    "heading_collapsed": true,
    "hidden": true
   },
   "source": [
    "### geodeticDatum\n",
    "\n",
    "**string**"
   ]
  },
  {
   "cell_type": "code",
   "execution_count": 20,
   "metadata": {
    "ExecuteTime": {
     "end_time": "2020-05-02T19:50:07.941202Z",
     "start_time": "2020-05-02T19:49:56.461227Z"
    },
    "hidden": true
   },
   "outputs": [
    {
     "data": {
      "text/plain": [
       "(19400, 2)"
      ]
     },
     "execution_count": 20,
     "metadata": {},
     "output_type": "execute_result"
    }
   ],
   "source": [
    "field = 'geodeticDatum'\n",
    "\n",
    "df = text_field(field)\n",
    "df.shape\n",
    "\n",
    "# display_all(df)"
   ]
  },
  {
   "cell_type": "code",
   "execution_count": 22,
   "metadata": {
    "ExecuteTime": {
     "end_time": "2020-05-02T19:51:55.924920Z",
     "start_time": "2020-05-02T19:51:55.894930Z"
    },
    "hidden": true
   },
   "outputs": [],
   "source": [
    "df = pd.DataFrame(data={'literal': [\n",
    "    'no disponible',\n",
    "    'none indicated',\n",
    "    'not georef',\n",
    "    'not given',\n",
    "    'not provided',\n",
    "    'not recorded',\n",
    "    'uknown',\n",
    "    'uniknown',\n",
    "    'unk',\n",
    "    'unkknown',\n",
    "    'unknown',\n",
    "    'unknwon',\n",
    "]})\n",
    "\n",
    "df['becomes'] = None\n",
    "df['field'] = field\n",
    "\n",
    "with sqlite3.connect(OUT_DB) as cxn:\n",
    "    df.to_sql('adjustments', cxn, if_exists='append', index=False)"
   ]
  },
  {
   "cell_type": "markdown",
   "metadata": {
    "heading_collapsed": true,
    "hidden": true
   },
   "source": [
    "### georeferenceSources\n",
    "\n",
    "**string**\n",
    "\n",
    "**no changes**"
   ]
  },
  {
   "cell_type": "code",
   "execution_count": 23,
   "metadata": {
    "ExecuteTime": {
     "end_time": "2020-05-02T19:52:00.576753Z",
     "start_time": "2020-05-02T19:52:00.574941Z"
    },
    "hidden": true
   },
   "outputs": [],
   "source": [
    "field = 'georeferenceSources'\n",
    "\n",
    "# df = text_field(field)\n",
    "# df.shape\n",
    "\n",
    "# display_all(df)"
   ]
  },
  {
   "cell_type": "markdown",
   "metadata": {
    "heading_collapsed": true,
    "hidden": true
   },
   "source": [
    "### higherGeography\n",
    "\n",
    "**string**"
   ]
  },
  {
   "cell_type": "code",
   "execution_count": 24,
   "metadata": {
    "ExecuteTime": {
     "end_time": "2020-05-02T19:59:26.069632Z",
     "start_time": "2020-05-02T19:59:13.521887Z"
    },
    "hidden": true
   },
   "outputs": [
    {
     "data": {
      "text/plain": [
       "(237590, 2)"
      ]
     },
     "execution_count": 24,
     "metadata": {},
     "output_type": "execute_result"
    }
   ],
   "source": [
    "field = 'higherGeography'\n",
    "\n",
    "df = text_field(field)\n",
    "df.shape\n",
    "\n",
    "# display_all(df)"
   ]
  },
  {
   "cell_type": "code",
   "execution_count": 25,
   "metadata": {
    "ExecuteTime": {
     "end_time": "2020-05-02T19:59:26.153209Z",
     "start_time": "2020-05-02T19:59:26.113292Z"
    },
    "hidden": true
   },
   "outputs": [],
   "source": [
    "df = pd.DataFrame(data={'literal': [\n",
    "    'no data',\n",
    "    'unknown',\n",
    "    'unknown captive unknown captive',\n",
    "    'unknown no data',\n",
    "    'unknown unknown',\n",
    "    'unplaced'\n",
    "]})\n",
    "\n",
    "df['becomes'] = None\n",
    "df['field'] = field\n",
    "\n",
    "with sqlite3.connect(OUT_DB) as cxn:\n",
    "    df.to_sql('adjustments', cxn, if_exists='append', index=False)"
   ]
  },
  {
   "cell_type": "markdown",
   "metadata": {
    "heading_collapsed": true,
    "hidden": true
   },
   "source": [
    "### island\n",
    "\n",
    "**string**\n",
    "\n",
    "**no changes**"
   ]
  },
  {
   "cell_type": "code",
   "execution_count": 26,
   "metadata": {
    "ExecuteTime": {
     "end_time": "2020-05-02T20:01:23.859275Z",
     "start_time": "2020-05-02T20:01:23.857222Z"
    },
    "hidden": true
   },
   "outputs": [],
   "source": [
    "field = 'island'\n",
    "\n",
    "# df = text_field(field)\n",
    "# df.shape\n",
    "\n",
    "# display_all(df)"
   ]
  },
  {
   "cell_type": "markdown",
   "metadata": {
    "heading_collapsed": true,
    "hidden": true
   },
   "source": [
    "### islandGroup\n",
    "\n",
    "**string**"
   ]
  },
  {
   "cell_type": "code",
   "execution_count": 27,
   "metadata": {
    "ExecuteTime": {
     "end_time": "2020-05-02T20:03:16.999017Z",
     "start_time": "2020-05-02T20:03:08.454100Z"
    },
    "hidden": true
   },
   "outputs": [
    {
     "data": {
      "text/plain": [
       "(1247, 2)"
      ]
     },
     "execution_count": 27,
     "metadata": {},
     "output_type": "execute_result"
    }
   ],
   "source": [
    "field = 'islandGroup'\n",
    "\n",
    "df = text_field(field)\n",
    "df.shape\n",
    "\n",
    "# display_all(df)"
   ]
  },
  {
   "cell_type": "code",
   "execution_count": 29,
   "metadata": {
    "ExecuteTime": {
     "end_time": "2020-05-02T20:04:34.919446Z",
     "start_time": "2020-05-02T20:04:34.891476Z"
    },
    "hidden": true
   },
   "outputs": [],
   "source": [
    "df = pd.DataFrame(data={'literal': [\n",
    "    'unknown',\n",
    "]})\n",
    "\n",
    "df['becomes'] = None\n",
    "df['field'] = field\n",
    "\n",
    "with sqlite3.connect(OUT_DB) as cxn:\n",
    "    df.to_sql('adjustments', cxn, if_exists='append', index=False)"
   ]
  },
  {
   "cell_type": "markdown",
   "metadata": {
    "heading_collapsed": true,
    "hidden": true
   },
   "source": [
    "### maximumDepthInMeters\n",
    "\n",
    "**numeric**\n",
    "\n",
    "**no changes**"
   ]
  },
  {
   "cell_type": "markdown",
   "metadata": {
    "heading_collapsed": true,
    "hidden": true
   },
   "source": [
    "### maximumElevationInMeters\n",
    "\n",
    "**numeric**\n",
    "\n",
    "**no changes**"
   ]
  },
  {
   "cell_type": "markdown",
   "metadata": {
    "heading_collapsed": true,
    "hidden": true
   },
   "source": [
    "### minimumDepthInMeters\n",
    "\n",
    "**numeric**\n",
    "\n",
    "**no changes**"
   ]
  },
  {
   "cell_type": "markdown",
   "metadata": {
    "heading_collapsed": true,
    "hidden": true
   },
   "source": [
    "### minimumElevationInMeters\n",
    "\n",
    "**numeric**\n",
    "\n",
    "**no changes**"
   ]
  },
  {
   "cell_type": "markdown",
   "metadata": {
    "heading_collapsed": true,
    "hidden": true
   },
   "source": [
    "### municipality\n",
    "\n",
    "**string**"
   ]
  },
  {
   "cell_type": "code",
   "execution_count": 31,
   "metadata": {
    "ExecuteTime": {
     "end_time": "2020-05-02T20:06:52.197379Z",
     "start_time": "2020-05-02T20:06:42.844648Z"
    },
    "hidden": true
   },
   "outputs": [
    {
     "data": {
      "text/plain": [
       "(64273, 2)"
      ]
     },
     "execution_count": 31,
     "metadata": {},
     "output_type": "execute_result"
    }
   ],
   "source": [
    "field = 'municipality'\n",
    "\n",
    "df = text_field(field)\n",
    "df.shape\n",
    "\n",
    "# display_all(df)"
   ]
  },
  {
   "cell_type": "code",
   "execution_count": 32,
   "metadata": {
    "ExecuteTime": {
     "end_time": "2020-05-02T20:06:52.264154Z",
     "start_time": "2020-05-02T20:06:52.238953Z"
    },
    "hidden": true
   },
   "outputs": [],
   "source": [
    "df = pd.DataFrame(data={'literal': [\n",
    "    'none',\n",
    "    'unknown',\n",
    "]})\n",
    "\n",
    "df['becomes'] = None\n",
    "df['field'] = field\n",
    "\n",
    "with sqlite3.connect(OUT_DB) as cxn:\n",
    "    df.to_sql('adjustments', cxn, if_exists='append', index=False)"
   ]
  },
  {
   "cell_type": "markdown",
   "metadata": {
    "heading_collapsed": true,
    "hidden": true
   },
   "source": [
    "### stateProvince\n",
    "\n",
    "**string**"
   ]
  },
  {
   "cell_type": "code",
   "execution_count": 33,
   "metadata": {
    "ExecuteTime": {
     "end_time": "2020-05-02T20:07:16.601582Z",
     "start_time": "2020-05-02T20:07:00.930107Z"
    },
    "hidden": true
   },
   "outputs": [
    {
     "data": {
      "text/plain": [
       "(24454, 2)"
      ]
     },
     "execution_count": 33,
     "metadata": {},
     "output_type": "execute_result"
    }
   ],
   "source": [
    "field = 'stateProvince'\n",
    "\n",
    "df = text_field(field)\n",
    "df.shape\n",
    "\n",
    "# display_all(df)"
   ]
  },
  {
   "cell_type": "code",
   "execution_count": 34,
   "metadata": {
    "ExecuteTime": {
     "end_time": "2020-05-02T20:10:05.854547Z",
     "start_time": "2020-05-02T20:10:05.825293Z"
    },
    "hidden": true
   },
   "outputs": [],
   "source": [
    "df = pd.DataFrame(data={'literal': [\n",
    "    'none',\n",
    "    'none or unknown',\n",
    "    'unk',\n",
    "    'unknown',\n",
    "    'unknown location',\n",
    "    'unplaced',\n",
    "    'unplaced state',\n",
    "    'unrecorded',\n",
    "    'unspecified',\n",
    "    'unspecified state',\n",
    "]})\n",
    "\n",
    "df['becomes'] = None\n",
    "df['field'] = field\n",
    "\n",
    "with sqlite3.connect(OUT_DB) as cxn:\n",
    "    df.to_sql('adjustments', cxn, if_exists='append', index=False)"
   ]
  },
  {
   "cell_type": "markdown",
   "metadata": {
    "heading_collapsed": true,
    "hidden": true
   },
   "source": [
    "### verbatimCoordinateSystem\n",
    "\n",
    "**string**\n",
    "\n",
    "**no changes**"
   ]
  },
  {
   "cell_type": "markdown",
   "metadata": {
    "heading_collapsed": true,
    "hidden": true
   },
   "source": [
    "### verbatimCoordinates\n",
    "\n",
    "**string**\n",
    "\n",
    "**no changes**"
   ]
  },
  {
   "cell_type": "markdown",
   "metadata": {
    "heading_collapsed": true,
    "hidden": true
   },
   "source": [
    "### verbatimDepth\n",
    "\n",
    "**string**\n",
    "\n",
    "**no changes**"
   ]
  },
  {
   "cell_type": "markdown",
   "metadata": {
    "heading_collapsed": true,
    "hidden": true
   },
   "source": [
    "### verbatimElevation\n",
    "\n",
    "**string**\n",
    "\n",
    "**no changes**"
   ]
  },
  {
   "cell_type": "markdown",
   "metadata": {
    "heading_collapsed": true,
    "hidden": true
   },
   "source": [
    "### waterBody\n",
    "\n",
    "**string**"
   ]
  },
  {
   "cell_type": "code",
   "execution_count": 35,
   "metadata": {
    "ExecuteTime": {
     "end_time": "2020-05-02T20:13:39.325594Z",
     "start_time": "2020-05-02T20:13:30.252847Z"
    },
    "hidden": true
   },
   "outputs": [
    {
     "data": {
      "text/plain": [
       "(19847, 2)"
      ]
     },
     "execution_count": 35,
     "metadata": {},
     "output_type": "execute_result"
    }
   ],
   "source": [
    "field = 'waterBody'\n",
    "\n",
    "df = text_field(field)\n",
    "df.shape\n",
    "\n",
    "# display_all(df)"
   ]
  },
  {
   "cell_type": "code",
   "execution_count": 37,
   "metadata": {
    "ExecuteTime": {
     "end_time": "2020-05-02T20:15:10.154599Z",
     "start_time": "2020-05-02T20:15:10.129036Z"
    },
    "hidden": true
   },
   "outputs": [],
   "source": [
    "df = pd.DataFrame(data={'literal': [\n",
    "    'no data',\n",
    "    'none given',\n",
    "    'unknown',\n",
    "]})\n",
    "\n",
    "df['becomes'] = None\n",
    "df['field'] = field\n",
    "\n",
    "with sqlite3.connect(OUT_DB) as cxn:\n",
    "    df.to_sql('adjustments', cxn, if_exists='append', index=False)"
   ]
  },
  {
   "cell_type": "markdown",
   "metadata": {},
   "source": [
    "## Adjust Fields"
   ]
  },
  {
   "cell_type": "markdown",
   "metadata": {},
   "source": [
    "### Get adjustments"
   ]
  },
  {
   "cell_type": "code",
   "execution_count": 51,
   "metadata": {
    "ExecuteTime": {
     "end_time": "2020-05-02T21:20:37.533856Z",
     "start_time": "2020-05-02T21:20:37.527276Z"
    },
    "scrolled": true
   },
   "outputs": [
    {
     "data": {
      "text/plain": [
       "['locality',\n",
       " 'continent',\n",
       " 'coordinatePrecision',\n",
       " 'coordinateUncertaintyInMeters',\n",
       " 'country',\n",
       " 'countryCode',\n",
       " 'county',\n",
       " 'decimalLatitude',\n",
       " 'decimalLongitude',\n",
       " 'geodeticDatum',\n",
       " 'georeferenceSources',\n",
       " 'higherGeography',\n",
       " 'island',\n",
       " 'islandGroup',\n",
       " 'locationRemarks',\n",
       " 'maximumDepthInMeters',\n",
       " 'maximumElevationInMeters',\n",
       " 'minimumDepthInMeters',\n",
       " 'minimumElevationInMeters',\n",
       " 'municipality',\n",
       " 'stateProvince',\n",
       " 'verbatimCoordinateSystem',\n",
       " 'verbatimCoordinates',\n",
       " 'verbatimDepth',\n",
       " 'verbatimElevation',\n",
       " 'waterBody']"
      ]
     },
     "execution_count": 51,
     "metadata": {},
     "output_type": "execute_result"
    }
   ],
   "source": [
    "SPECIALS = \"\"\"coreid hash source\"\"\".split()\n",
    "HASH_COLS = get_columns(specials=SPECIALS)\n",
    "ALL_COLS = SPECIALS + HASH_COLS\n",
    "HASH_COLS"
   ]
  },
  {
   "cell_type": "code",
   "execution_count": 44,
   "metadata": {
    "ExecuteTime": {
     "end_time": "2020-05-02T21:01:47.452034Z",
     "start_time": "2020-05-02T21:01:47.446023Z"
    }
   },
   "outputs": [],
   "source": [
    "replace = defaultdict(set)\n",
    "span = {}\n",
    "\n",
    "with sqlite3.connect(OUT_DB) as cxn_out:\n",
    "    cxn_out.row_factory = dict_factory\n",
    "\n",
    "    for row in cxn_out.execute('select * from adjustments;'):\n",
    "        field = row['field']\n",
    "        literal = row['literal']\n",
    "\n",
    "        if literal:\n",
    "            replace[field].add(literal)\n",
    "        else:\n",
    "            span[field] = [row['floor'], row['ceiling']]\n",
    "\n",
    "# print(span)\n",
    "# replace"
   ]
  },
  {
   "cell_type": "markdown",
   "metadata": {},
   "source": [
    "### Perform Adjustments and Rehash"
   ]
  },
  {
   "cell_type": "code",
   "execution_count": null,
   "metadata": {},
   "outputs": [],
   "source": [
    "create = f\"\"\"\n",
    "    create table if not exists gazetteer ({','.join(ALL_COLS)});\n",
    "\"\"\"\n",
    "with sqlite3.connect(OUT_DB) as cxn_out:\n",
    "    cxn_out.execute(create)"
   ]
  },
  {
   "cell_type": "code",
   "execution_count": null,
   "metadata": {},
   "outputs": [],
   "source": [
    "select = 'select * from gazetteer;'\n",
    "\n",
    "insert = f\"\"\"\n",
    "    insert into gazetteer ({','.join(ALL_COLS)})\n",
    "    values ({','.join(['?'] * len(ALL_COLS))});\n",
    "\"\"\""
   ]
  },
  {
   "cell_type": "code",
   "execution_count": null,
   "metadata": {},
   "outputs": [],
   "source": [
    "batch = []\n",
    "\n",
    "with sqlite3.connect(IN_DB) as cxn_in:\n",
    "    cxn_in.row_factory = dict_factory\n",
    "\n",
    "    with sqlite3.connect(OUT_DB) as cxn_out:\n",
    "\n",
    "        for in_row in tqdm(cxn_in.execute(select)):\n",
    "\n",
    "            for col in ALL_COLS:\n",
    "                value = in_row[col]\n",
    "\n",
    "                if col in replace and value in replace[col]:\n",
    "                    value = None"
   ]
  },
  {
   "cell_type": "code",
   "execution_count": null,
   "metadata": {},
   "outputs": [],
   "source": []
  },
  {
   "cell_type": "code",
   "execution_count": null,
   "metadata": {},
   "outputs": [],
   "source": []
  }
 ],
 "metadata": {
  "kernelspec": {
   "display_name": "Python 3",
   "language": "python",
   "name": "python3"
  },
  "language_info": {
   "codemirror_mode": {
    "name": "ipython",
    "version": 3
   },
   "file_extension": ".py",
   "mimetype": "text/x-python",
   "name": "python",
   "nbconvert_exporter": "python",
   "pygments_lexer": "ipython3",
   "version": "3.8.2"
  },
  "varInspector": {
   "cols": {
    "lenName": 16,
    "lenType": 16,
    "lenVar": 40
   },
   "kernels_config": {
    "python": {
     "delete_cmd_postfix": "",
     "delete_cmd_prefix": "del ",
     "library": "var_list.py",
     "varRefreshCmd": "print(var_dic_list())"
    },
    "r": {
     "delete_cmd_postfix": ") ",
     "delete_cmd_prefix": "rm(",
     "library": "var_list.r",
     "varRefreshCmd": "cat(var_dic_list()) "
    }
   },
   "types_to_exclude": [
    "module",
    "function",
    "builtin_function_or_method",
    "instance",
    "_Feature"
   ],
   "window_display": false
  }
 },
 "nbformat": 4,
 "nbformat_minor": 4
}
