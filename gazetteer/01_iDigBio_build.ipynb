{
 "cells": [
  {
   "cell_type": "markdown",
   "metadata": {},
   "source": [
    "# Build the Gazetteer from iDigBio Data\n",
    "\n",
    "This is a dump of all of iDigBio data retrieved on 2020-03-30. (No DOI available.)"
   ]
  },
  {
   "cell_type": "markdown",
   "metadata": {
    "hide_input": true
   },
   "source": [
    "## Basic Notebook Setup"
   ]
  },
  {
   "cell_type": "code",
   "execution_count": 1,
   "metadata": {
    "ExecuteTime": {
     "end_time": "2020-04-23T19:19:09.993200Z",
     "start_time": "2020-04-23T19:19:09.551918Z"
    },
    "hide_input": false
   },
   "outputs": [],
   "source": [
    "import os\n",
    "import io\n",
    "import sqlite3\n",
    "import zipfile\n",
    "from pathlib import Path\n",
    "\n",
    "import dask.dataframe as dd\n",
    "import pandas as pd\n",
    "import regex\n",
    "from tqdm import tqdm"
   ]
  },
  {
   "cell_type": "code",
   "execution_count": 2,
   "metadata": {
    "ExecuteTime": {
     "end_time": "2020-04-23T19:19:10.008588Z",
     "start_time": "2020-04-23T19:19:10.005485Z"
    },
    "hide_input": false
   },
   "outputs": [],
   "source": [
    "DATA_DIR = Path('..') / 'data'\n",
    "RAW_DIR = DATA_DIR / '00_raw'\n",
    "INTERIM_DIR = DATA_DIR / '01_interim'\n",
    "\n",
    "ZIP_FILE = RAW_DIR / 'idigbio_all_2020-03-30.zip'\n",
    "DB = INTERIM_DIR / 'gazetteer_idigbio_2020-04-23.db'\n",
    "\n",
    "CHUNK = 1_000_000"
   ]
  },
  {
   "cell_type": "markdown",
   "metadata": {},
   "source": [
    "## Build Gazetteer Related Fields\n",
    "\n",
    "Gather all of the fields below. Not all of them will make it into the Gazetteer table but we want them all geography related fields available if we tweak the algorithm later.\n",
    "\n",
    "iDigBio uses name spaces."
   ]
  },
  {
   "cell_type": "code",
   "execution_count": 3,
   "metadata": {
    "ExecuteTime": {
     "end_time": "2020-04-23T19:19:10.933427Z",
     "start_time": "2020-04-23T19:19:10.927086Z"
    },
    "hide_input": false
   },
   "outputs": [],
   "source": [
    "DWC_FIELDS = {f'dwc:{f}': f for f in \"\"\"\n",
    "    continent\n",
    "    coordinatePrecision\n",
    "    coordinateUncertaintyInMeters\n",
    "    country\n",
    "    countryCode\n",
    "    county\n",
    "    decimalLatitude\n",
    "    decimalLongitude\n",
    "    footprintSRS\n",
    "    footprintSpatialFit\n",
    "    footprintWKT\n",
    "    geodeticDatum\n",
    "    georeferenceProtocol\n",
    "    georeferenceRemarks\n",
    "    georeferenceSources\n",
    "    georeferenceVerificationStatus\n",
    "    georeferencedBy\n",
    "    georeferencedDate\n",
    "    higherGeography\n",
    "    higherGeographyID\n",
    "    island\n",
    "    islandGroup\n",
    "    locality\n",
    "    locationAccordingTo\n",
    "    locationID\n",
    "    locationRemarks\n",
    "    maximumDepthInMeters verbatimDepth\n",
    "    maximumDistanceAboveSurfaceInMeters\n",
    "    maximumElevationInMeters\n",
    "    minimumDepthInMeters\n",
    "    minimumDistanceAboveSurfaceInMeters\n",
    "    minimumElevationInMeters\n",
    "    municipality\n",
    "    pointRadiusSpatialFit\n",
    "    stateProvince\n",
    "    verbatimCoordinateSystem\n",
    "    verbatimCoordinates\n",
    "    verbatimElevation\n",
    "    verbatimLatitude\n",
    "    verbatimLocality\n",
    "    verbatimLongitude\n",
    "    verbatimSRS\n",
    "    waterBody\n",
    "\"\"\".split()}\n",
    "\n",
    "\n",
    "IDIGBIO_FIELDS = {f'idigbio:{f}': f for f in \"\"\"\n",
    "    geoPoint\n",
    "    isoCountryCode\n",
    "\"\"\".split()}\n",
    "\n",
    "OTHER_FIELDS = {'coreid': 'coreid'}  # Need to link data\n",
    "\n",
    "FIELDS = {**OTHER_FIELDS, **DWC_FIELDS, **IDIGBIO_FIELDS}"
   ]
  },
  {
   "cell_type": "markdown",
   "metadata": {},
   "source": [
    "## Examine Tables\n",
    "\n",
    "What's in the downloaded zip file and what is in the tables."
   ]
  },
  {
   "cell_type": "code",
   "execution_count": 4,
   "metadata": {
    "ExecuteTime": {
     "end_time": "2020-04-23T19:19:11.727599Z",
     "start_time": "2020-04-23T19:19:11.706228Z"
    }
   },
   "outputs": [
    {
     "data": {
      "text/plain": [
       "['occurrence.csv',\n",
       " 'multimedia_raw.csv',\n",
       " 'multimedia.csv',\n",
       " 'occurrence_raw.csv',\n",
       " 'records.citation.txt',\n",
       " 'mediarecords.citation.txt',\n",
       " 'meta.xml']"
      ]
     },
     "execution_count": 4,
     "metadata": {},
     "output_type": "execute_result"
    }
   ],
   "source": [
    "with zipfile.ZipFile(ZIP_FILE) as zippy:\n",
    "    names = zippy.namelist()\n",
    "\n",
    "names"
   ]
  },
  {
   "cell_type": "markdown",
   "metadata": {},
   "source": [
    "The occurrence.csv & occurrence_raw.csv files may have what we need. Look at their headers."
   ]
  },
  {
   "cell_type": "markdown",
   "metadata": {},
   "source": [
    "### occurrence.csv"
   ]
  },
  {
   "cell_type": "code",
   "execution_count": 5,
   "metadata": {
    "ExecuteTime": {
     "end_time": "2020-04-23T19:19:13.225448Z",
     "start_time": "2020-04-23T19:19:13.194278Z"
    }
   },
   "outputs": [],
   "source": [
    "with zipfile.ZipFile(ZIP_FILE) as zippy:\n",
    "    with zippy.open('occurrence.csv') as in_file:\n",
    "        headers = in_file.readline()\n",
    "\n",
    "headers = [h.decode().strip() for h in sorted(headers.split(b','))]"
   ]
  },
  {
   "cell_type": "markdown",
   "metadata": {},
   "source": [
    "#### All Headers in occurrence.csv"
   ]
  },
  {
   "cell_type": "code",
   "execution_count": 6,
   "metadata": {
    "ExecuteTime": {
     "end_time": "2020-04-23T19:19:14.045581Z",
     "start_time": "2020-04-23T19:19:14.039443Z"
    },
    "scrolled": true
   },
   "outputs": [
    {
     "data": {
      "text/plain": [
       "['coreid',\n",
       " 'dwc:basisOfRecord',\n",
       " 'dwc:bed',\n",
       " 'dwc:catalogNumber',\n",
       " 'dwc:class',\n",
       " 'dwc:collectionCode',\n",
       " 'dwc:collectionID',\n",
       " 'dwc:continent',\n",
       " 'dwc:coordinateUncertaintyInMeters',\n",
       " 'dwc:country',\n",
       " 'dwc:county',\n",
       " 'dwc:earliestAgeOrLowestStage',\n",
       " 'dwc:earliestEonOrLowestEonothem',\n",
       " 'dwc:earliestEpochOrLowestSeries',\n",
       " 'dwc:earliestEraOrLowestErathem',\n",
       " 'dwc:earliestPeriodOrLowestSystem',\n",
       " 'dwc:eventDate',\n",
       " 'dwc:family',\n",
       " 'dwc:fieldNumber',\n",
       " 'dwc:formation',\n",
       " 'dwc:genus',\n",
       " 'dwc:geologicalContextID',\n",
       " 'dwc:group',\n",
       " 'dwc:higherClassification',\n",
       " 'dwc:highestBiostratigraphicZone',\n",
       " 'dwc:individualCount',\n",
       " 'dwc:infraspecificEpithet',\n",
       " 'dwc:institutionCode',\n",
       " 'dwc:institutionID',\n",
       " 'dwc:kingdom',\n",
       " 'dwc:latestAgeOrHighestStage',\n",
       " 'dwc:latestEonOrHighestEonothem',\n",
       " 'dwc:latestEpochOrHighestSeries',\n",
       " 'dwc:latestEraOrHighestErathem',\n",
       " 'dwc:latestPeriodOrHighestSystem',\n",
       " 'dwc:lithostratigraphicTerms',\n",
       " 'dwc:locality',\n",
       " 'dwc:lowestBiostratigraphicZone',\n",
       " 'dwc:maximumDepthInMeters',\n",
       " 'dwc:maximumElevationInMeters',\n",
       " 'dwc:member',\n",
       " 'dwc:minimumDepthInMeters',\n",
       " 'dwc:minimumElevationInMeters',\n",
       " 'dwc:municipality',\n",
       " 'dwc:occurrenceID',\n",
       " 'dwc:order',\n",
       " 'dwc:phylum',\n",
       " 'dwc:recordNumber',\n",
       " 'dwc:recordedBy',\n",
       " 'dwc:scientificName',\n",
       " 'dwc:specificEpithet',\n",
       " 'dwc:startDayOfYear',\n",
       " 'dwc:stateProvince',\n",
       " 'dwc:taxonID',\n",
       " 'dwc:taxonRank',\n",
       " 'dwc:taxonomicStatus',\n",
       " 'dwc:typeStatus',\n",
       " 'dwc:verbatimEventDate',\n",
       " 'dwc:verbatimLocality',\n",
       " 'dwc:vernacularName',\n",
       " 'dwc:waterBody',\n",
       " 'gbif:canonicalName',\n",
       " 'idigbio:associatedsequences',\n",
       " 'idigbio:barcodeValue',\n",
       " 'idigbio:collectionName',\n",
       " 'idigbio:commonnames',\n",
       " 'idigbio:dataQualityScore',\n",
       " 'idigbio:dateModified',\n",
       " 'idigbio:etag',\n",
       " 'idigbio:eventDate',\n",
       " 'idigbio:flags',\n",
       " 'idigbio:geoPoint',\n",
       " 'idigbio:hasImage',\n",
       " 'idigbio:hasMedia',\n",
       " 'idigbio:institutionName',\n",
       " 'idigbio:isoCountryCode',\n",
       " 'idigbio:mediarecords',\n",
       " 'idigbio:recordIds',\n",
       " 'idigbio:recordset',\n",
       " 'idigbio:uuid',\n",
       " 'idigbio:version']"
      ]
     },
     "execution_count": 6,
     "metadata": {},
     "output_type": "execute_result"
    }
   ],
   "source": [
    "sorted(headers)"
   ]
  },
  {
   "cell_type": "markdown",
   "metadata": {},
   "source": [
    "#### Target Headers in occurrence.csv"
   ]
  },
  {
   "cell_type": "code",
   "execution_count": 7,
   "metadata": {
    "ExecuteTime": {
     "end_time": "2020-04-23T19:19:15.170611Z",
     "start_time": "2020-04-23T19:19:15.167257Z"
    },
    "scrolled": true
   },
   "outputs": [
    {
     "data": {
      "text/plain": [
       "['coreid',\n",
       " 'dwc:continent',\n",
       " 'dwc:coordinateUncertaintyInMeters',\n",
       " 'dwc:country',\n",
       " 'dwc:county',\n",
       " 'dwc:locality',\n",
       " 'dwc:maximumDepthInMeters',\n",
       " 'dwc:maximumElevationInMeters',\n",
       " 'dwc:minimumDepthInMeters',\n",
       " 'dwc:minimumElevationInMeters',\n",
       " 'dwc:municipality',\n",
       " 'dwc:stateProvince',\n",
       " 'dwc:verbatimLocality',\n",
       " 'dwc:waterBody',\n",
       " 'idigbio:geoPoint',\n",
       " 'idigbio:isoCountryCode']"
      ]
     },
     "execution_count": 7,
     "metadata": {},
     "output_type": "execute_result"
    }
   ],
   "source": [
    "HEADERS = sorted(h for h in headers if h in FIELDS)\n",
    "HEADERS"
   ]
  },
  {
   "cell_type": "markdown",
   "metadata": {},
   "source": [
    "### occurrence_raw.csv"
   ]
  },
  {
   "cell_type": "code",
   "execution_count": 8,
   "metadata": {
    "ExecuteTime": {
     "end_time": "2020-04-23T19:19:16.598924Z",
     "start_time": "2020-04-23T19:19:16.581364Z"
    }
   },
   "outputs": [],
   "source": [
    "with zipfile.ZipFile(ZIP_FILE) as zippy:\n",
    "    with zippy.open('occurrence_raw.csv') as in_file:\n",
    "        headers = in_file.readline()\n",
    "\n",
    "headers = [h.decode().strip() for h in sorted(headers.split(b','))]"
   ]
  },
  {
   "cell_type": "markdown",
   "metadata": {},
   "source": [
    "#### All headers in occurrence_raw.csv"
   ]
  },
  {
   "cell_type": "code",
   "execution_count": 9,
   "metadata": {
    "ExecuteTime": {
     "end_time": "2020-04-23T19:19:17.842123Z",
     "start_time": "2020-04-23T19:19:17.835063Z"
    },
    "scrolled": true
   },
   "outputs": [
    {
     "data": {
      "text/plain": [
       "['aec:associatedTaxa',\n",
       " 'coreid',\n",
       " 'dc:rights',\n",
       " 'dcterms:accessRights',\n",
       " 'dcterms:bibliographicCitation',\n",
       " 'dcterms:language',\n",
       " 'dcterms:license',\n",
       " 'dcterms:modified',\n",
       " 'dcterms:references',\n",
       " 'dcterms:rights',\n",
       " 'dcterms:rightsHolder',\n",
       " 'dcterms:source',\n",
       " 'dcterms:type',\n",
       " 'dwc:Identification',\n",
       " 'dwc:MeasurementOrFact',\n",
       " 'dwc:ResourceRelationship',\n",
       " 'dwc:VerbatimEventDate',\n",
       " 'dwc:acceptedNameUsage',\n",
       " 'dwc:acceptedNameUsageID',\n",
       " 'dwc:accessRights',\n",
       " 'dwc:associatedMedia',\n",
       " 'dwc:associatedOccurrences',\n",
       " 'dwc:associatedOrganisms',\n",
       " 'dwc:associatedReferences',\n",
       " 'dwc:associatedSequences',\n",
       " 'dwc:associatedTaxa',\n",
       " 'dwc:basisOfRecord',\n",
       " 'dwc:bed',\n",
       " 'dwc:behavior',\n",
       " 'dwc:catalogNumber',\n",
       " 'dwc:class',\n",
       " 'dwc:classs',\n",
       " 'dwc:collectionCode',\n",
       " 'dwc:collectionID',\n",
       " 'dwc:continent',\n",
       " 'dwc:coordinatePrecision',\n",
       " 'dwc:coordinateUncertaintyInMeters',\n",
       " 'dwc:country',\n",
       " 'dwc:countryCode',\n",
       " 'dwc:county',\n",
       " 'dwc:dataGeneralizations',\n",
       " 'dwc:datasetID',\n",
       " 'dwc:datasetName',\n",
       " 'dwc:dateIdentified',\n",
       " 'dwc:day',\n",
       " 'dwc:decimalLatitude',\n",
       " 'dwc:decimalLongitude',\n",
       " 'dwc:disposition',\n",
       " 'dwc:dynamicProperties',\n",
       " 'dwc:earliestAgeOrLowestStage',\n",
       " 'dwc:earliestEonOrLowestEonothem',\n",
       " 'dwc:earliestEpochOrLowestSeries',\n",
       " 'dwc:earliestEraOrLowestErathem',\n",
       " 'dwc:earliestPeriodOrLowestSystem',\n",
       " 'dwc:endDayOfYear',\n",
       " 'dwc:establishmentMeans',\n",
       " 'dwc:eventDate',\n",
       " 'dwc:eventID',\n",
       " 'dwc:eventRemarks',\n",
       " 'dwc:eventTime',\n",
       " 'dwc:family',\n",
       " 'dwc:fieldNotes',\n",
       " 'dwc:fieldNumber',\n",
       " 'dwc:footprintSRS',\n",
       " 'dwc:footprintSpatialFit',\n",
       " 'dwc:footprintWKT',\n",
       " 'dwc:formation',\n",
       " 'dwc:genus',\n",
       " 'dwc:geodeticDatum',\n",
       " 'dwc:geologicalContextID',\n",
       " 'dwc:georeferenceProtocol',\n",
       " 'dwc:georeferenceRemarks',\n",
       " 'dwc:georeferenceSources',\n",
       " 'dwc:georeferenceVerificationStatus',\n",
       " 'dwc:georeferencedBy',\n",
       " 'dwc:georeferencedDate',\n",
       " 'dwc:group',\n",
       " 'dwc:habitat',\n",
       " 'dwc:higherClassification',\n",
       " 'dwc:higherGeography',\n",
       " 'dwc:higherGeographyID',\n",
       " 'dwc:highestBiostratigraphicZone',\n",
       " 'dwc:identificationID',\n",
       " 'dwc:identificationQualifier',\n",
       " 'dwc:identificationReferences',\n",
       " 'dwc:identificationRemarks',\n",
       " 'dwc:identificationVerificationStatus',\n",
       " 'dwc:identifiedBy',\n",
       " 'dwc:individualCount',\n",
       " 'dwc:informationWithheld',\n",
       " 'dwc:infraspecificEpithet',\n",
       " 'dwc:institutionCode',\n",
       " 'dwc:institutionID',\n",
       " 'dwc:island',\n",
       " 'dwc:islandGroup',\n",
       " 'dwc:kingdom',\n",
       " 'dwc:language',\n",
       " 'dwc:latestAgeOrHighestStage',\n",
       " 'dwc:latestEonOrHighestEonothem',\n",
       " 'dwc:latestEpochOrHighestSeries',\n",
       " 'dwc:latestEraOrHighestErathem',\n",
       " 'dwc:latestPeriodOrHighestSystem',\n",
       " 'dwc:lifeStage',\n",
       " 'dwc:lithostratigraphicTerms',\n",
       " 'dwc:locality',\n",
       " 'dwc:locationAccordingTo',\n",
       " 'dwc:locationID',\n",
       " 'dwc:locationRemarks',\n",
       " 'dwc:lowestBiostratigraphicZone',\n",
       " 'dwc:materialSampleID',\n",
       " 'dwc:maximumDepthInMeters',\n",
       " 'dwc:maximumElevationInMeters',\n",
       " 'dwc:member',\n",
       " 'dwc:minimumDepthInMeters',\n",
       " 'dwc:minimumElevationInMeters',\n",
       " 'dwc:modified',\n",
       " 'dwc:month',\n",
       " 'dwc:municipality',\n",
       " 'dwc:nameAccordingTo',\n",
       " 'dwc:namePublishedIn',\n",
       " 'dwc:namePublishedInID',\n",
       " 'dwc:namePublishedInYear',\n",
       " 'dwc:nomenclaturalCode',\n",
       " 'dwc:nomenclaturalStatus',\n",
       " 'dwc:occurrenceDetails',\n",
       " 'dwc:occurrenceID',\n",
       " 'dwc:occurrenceRemarks',\n",
       " 'dwc:occurrenceStatus',\n",
       " 'dwc:order',\n",
       " 'dwc:organismID',\n",
       " 'dwc:organismName',\n",
       " 'dwc:organismQuantity',\n",
       " 'dwc:organismQuantityType',\n",
       " 'dwc:organismRemarks',\n",
       " 'dwc:originalNameUsage',\n",
       " 'dwc:originalNameUsageID',\n",
       " 'dwc:otherCatalogNumbers',\n",
       " 'dwc:ownerInstitutionCode',\n",
       " 'dwc:parentNameUsage',\n",
       " 'dwc:phylum',\n",
       " 'dwc:pointRadiusSpatialFit',\n",
       " 'dwc:preparations',\n",
       " 'dwc:previousIdentifications',\n",
       " 'dwc:recordNumber',\n",
       " 'dwc:recordedBy',\n",
       " 'dwc:reproductiveCondition',\n",
       " 'dwc:rights',\n",
       " 'dwc:rightsHolder',\n",
       " 'dwc:sampleSizeValue',\n",
       " 'dwc:samplingEffort',\n",
       " 'dwc:samplingProtocol',\n",
       " 'dwc:scientificName',\n",
       " 'dwc:scientificNameAuthorship',\n",
       " 'dwc:scientificNameID',\n",
       " 'dwc:sex',\n",
       " 'dwc:specificEpithet',\n",
       " 'dwc:startDayOfYear',\n",
       " 'dwc:stateProvince',\n",
       " 'dwc:subgenus',\n",
       " 'dwc:taxonID',\n",
       " 'dwc:taxonRank',\n",
       " 'dwc:taxonRemarks',\n",
       " 'dwc:taxonomicStatus',\n",
       " 'dwc:typeStatus',\n",
       " 'dwc:verbatimCoordinateSystem',\n",
       " 'dwc:verbatimCoordinates',\n",
       " 'dwc:verbatimDepth',\n",
       " 'dwc:verbatimElevation',\n",
       " 'dwc:verbatimEventDate',\n",
       " 'dwc:verbatimLatitude',\n",
       " 'dwc:verbatimLocality',\n",
       " 'dwc:verbatimLongitude',\n",
       " 'dwc:verbatimSRS',\n",
       " 'dwc:verbatimTaxonRank',\n",
       " 'dwc:vernacularName',\n",
       " 'dwc:waterBody',\n",
       " 'dwc:year',\n",
       " 'gbif:Identifier',\n",
       " 'gbif:Reference',\n",
       " 'idigbio:recordId',\n",
       " 'symbiota:recordEnteredBy',\n",
       " 'symbiota:verbatimScientificName',\n",
       " 'zan:ChronometricDate']"
      ]
     },
     "execution_count": 9,
     "metadata": {},
     "output_type": "execute_result"
    }
   ],
   "source": [
    "sorted(headers)"
   ]
  },
  {
   "cell_type": "markdown",
   "metadata": {},
   "source": [
    "#### Target headers in occurrence_raw.csv"
   ]
  },
  {
   "cell_type": "code",
   "execution_count": 10,
   "metadata": {
    "ExecuteTime": {
     "end_time": "2020-04-23T19:19:19.542256Z",
     "start_time": "2020-04-23T19:19:19.540070Z"
    },
    "scrolled": true
   },
   "outputs": [],
   "source": [
    "RAW_HEADERS = sorted(h for h in headers if h in FIELDS)"
   ]
  },
  {
   "cell_type": "markdown",
   "metadata": {},
   "source": [
    "## Clean the Database"
   ]
  },
  {
   "cell_type": "code",
   "execution_count": 11,
   "metadata": {
    "ExecuteTime": {
     "end_time": "2020-04-23T19:19:20.988908Z",
     "start_time": "2020-04-23T19:19:20.986817Z"
    }
   },
   "outputs": [],
   "source": [
    "if DB.exists():\n",
    "    os.remove(DB)"
   ]
  },
  {
   "cell_type": "markdown",
   "metadata": {},
   "source": [
    "## Create Input Tables\n",
    "\n",
    "Grab all of the relevant fields from the table if the record has a valid latitude and longitude."
   ]
  },
  {
   "cell_type": "markdown",
   "metadata": {},
   "source": [
    "### Create occurrence Table"
   ]
  },
  {
   "cell_type": "code",
   "execution_count": 14,
   "metadata": {
    "ExecuteTime": {
     "end_time": "2020-04-23T19:57:06.050094Z",
     "start_time": "2020-04-23T19:33:25.269423Z"
    }
   },
   "outputs": [
    {
     "name": "stderr",
     "output_type": "stream",
     "text": [
      "122it [23:40, 11.65s/it]\n"
     ]
    }
   ],
   "source": [
    "renames = {h: FIELDS[h] for h in HEADERS}\n",
    "\n",
    "with sqlite3.connect(DB) as cxn:\n",
    "    with zipfile.ZipFile(ZIP_FILE) as zippy:\n",
    "        with zippy.open('occurrence.csv') as in_file:\n",
    "            reader = pd.read_csv(\n",
    "                in_file, dtype=str, keep_default_na=False,\n",
    "                chunksize=CHUNK, usecols=HEADERS)\n",
    "\n",
    "            if_exists = 'replace'\n",
    "\n",
    "            for df in tqdm(reader):\n",
    "                df = df.rename(columns=renames)\n",
    "\n",
    "                has_point = df['geoPoint'] != ''\n",
    "\n",
    "                df.loc[has_point, :].to_sql(\n",
    "                    'occurrence', cxn, if_exists=if_exists, index=False)\n",
    "\n",
    "                if_exists = 'append'"
   ]
  },
  {
   "cell_type": "markdown",
   "metadata": {},
   "source": [
    "### Create occurrence_raw Table"
   ]
  },
  {
   "cell_type": "code",
   "execution_count": 16,
   "metadata": {
    "ExecuteTime": {
     "end_time": "2020-04-23T20:32:22.534193Z",
     "start_time": "2020-04-23T19:59:36.508210Z"
    }
   },
   "outputs": [
    {
     "name": "stderr",
     "output_type": "stream",
     "text": [
      "122it [32:45, 16.11s/it]\n"
     ]
    }
   ],
   "source": [
    "renames = {h: FIELDS[h] for h in RAW_HEADERS}\n",
    "\n",
    "with sqlite3.connect(DB) as cxn:\n",
    "    with zipfile.ZipFile(ZIP_FILE) as zippy:\n",
    "        with zippy.open('occurrence_raw.csv') as in_file:\n",
    "            reader = pd.read_csv(\n",
    "                in_file, dtype=str, keep_default_na=False,\n",
    "                chunksize=CHUNK, usecols=RAW_HEADERS)\n",
    "\n",
    "            if_exists = 'replace'\n",
    "\n",
    "            for df in tqdm(reader):\n",
    "                df = df.rename(columns=renames)\n",
    "\n",
    "                df['decimalLatitude'] = pd.to_numeric(\n",
    "                    df['decimalLatitude'], errors='coerce')\n",
    "                df['decimalLongitude'] = pd.to_numeric(\n",
    "                    df['decimalLongitude'], errors='coerce')\n",
    "\n",
    "                has_lat = df['decimalLatitude'].notna()\n",
    "                has_lng = df['decimalLongitude'].notna()\n",
    "\n",
    "                df.loc[has_lat & has_lng, :].to_sql(\n",
    "                    'occurrence_raw', cxn, if_exists=if_exists, index=False)\n",
    "\n",
    "                if_exists = 'append'"
   ]
  },
  {
   "cell_type": "code",
   "execution_count": null,
   "metadata": {},
   "outputs": [],
   "source": []
  }
 ],
 "metadata": {
  "hide_input": false,
  "kernelspec": {
   "display_name": "Python 3",
   "language": "python",
   "name": "python3"
  },
  "language_info": {
   "codemirror_mode": {
    "name": "ipython",
    "version": 3
   },
   "file_extension": ".py",
   "mimetype": "text/x-python",
   "name": "python",
   "nbconvert_exporter": "python",
   "pygments_lexer": "ipython3",
   "version": "3.8.0"
  },
  "varInspector": {
   "cols": {
    "lenName": 16,
    "lenType": 16,
    "lenVar": 40
   },
   "kernels_config": {
    "python": {
     "delete_cmd_postfix": "",
     "delete_cmd_prefix": "del ",
     "library": "var_list.py",
     "varRefreshCmd": "print(var_dic_list())"
    },
    "r": {
     "delete_cmd_postfix": ") ",
     "delete_cmd_prefix": "rm(",
     "library": "var_list.r",
     "varRefreshCmd": "cat(var_dic_list()) "
    }
   },
   "types_to_exclude": [
    "module",
    "function",
    "builtin_function_or_method",
    "instance",
    "_Feature"
   ],
   "window_display": false
  }
 },
 "nbformat": 4,
 "nbformat_minor": 4
}
