{
 "cells": [
  {
   "cell_type": "markdown",
   "metadata": {},
   "source": [
    "# Build the Gazetteer from iDigBio Data\n",
    "\n",
    "This is a dump of all of iDigBio data retrieved on 2020-03-30. (No DOI available.)"
   ]
  },
  {
   "cell_type": "markdown",
   "metadata": {
    "hide_input": true
   },
   "source": [
    "## Basic Notebook Setup"
   ]
  },
  {
   "cell_type": "code",
   "execution_count": 14,
   "metadata": {
    "ExecuteTime": {
     "end_time": "2020-04-24T18:26:00.159661Z",
     "start_time": "2020-04-24T18:26:00.155736Z"
    },
    "hide_input": false
   },
   "outputs": [],
   "source": [
    "import os\n",
    "import io\n",
    "import sqlite3\n",
    "import zipfile\n",
    "from pathlib import Path\n",
    "\n",
    "import dask.dataframe as dd\n",
    "import pandas as pd\n",
    "import regex\n",
    "from tqdm import tqdm"
   ]
  },
  {
   "cell_type": "code",
   "execution_count": 2,
   "metadata": {
    "ExecuteTime": {
     "end_time": "2020-04-24T16:01:57.174728Z",
     "start_time": "2020-04-24T16:01:57.172298Z"
    },
    "hide_input": false
   },
   "outputs": [],
   "source": [
    "DATA_DIR = Path('..') / 'data'\n",
    "RAW_DIR = DATA_DIR / '00_raw'\n",
    "INTERIM_DIR = DATA_DIR / '01_interim'\n",
    "\n",
    "ZIP_FILE = RAW_DIR / 'idigbio_all_2020-03-30.zip'\n",
    "OUT_DB = INTERIM_DIR / 'gazetteer_01_idigbio_2020-04-24.db'\n",
    "\n",
    "CHUNK = 1_000_000"
   ]
  },
  {
   "cell_type": "markdown",
   "metadata": {},
   "source": [
    "## Build Gazetteer Related Fields\n",
    "\n",
    "Gather all of the fields below. Not all of them will make it into the Gazetteer table but we want them all geography related fields available if we tweak the algorithm later.\n",
    "\n",
    "iDigBio uses name spaces."
   ]
  },
  {
   "cell_type": "code",
   "execution_count": 3,
   "metadata": {
    "ExecuteTime": {
     "end_time": "2020-04-24T16:01:57.184568Z",
     "start_time": "2020-04-24T16:01:57.175925Z"
    },
    "hide_input": false
   },
   "outputs": [],
   "source": [
    "DWC_FIELDS = {f'dwc:{f}': f for f in \"\"\"\n",
    "    continent\n",
    "    coordinatePrecision\n",
    "    coordinateUncertaintyInMeters\n",
    "    country\n",
    "    countryCode\n",
    "    county\n",
    "    decimalLatitude\n",
    "    decimalLongitude\n",
    "    geodeticDatum\n",
    "    georeferenceSources\n",
    "    higherGeography\n",
    "    island\n",
    "    islandGroup\n",
    "    locality\n",
    "    locationRemarks\n",
    "    maximumDepthInMeters\n",
    "    maximumDistanceAboveSurfaceInMeters\n",
    "    maximumElevationInMeters\n",
    "    minimumDepthInMeters\n",
    "    minimumDistanceAboveSurfaceInMeters\n",
    "    minimumElevationInMeters\n",
    "    municipality\n",
    "    stateProvince\n",
    "    verbatimCoordinateSystem\n",
    "    verbatimCoordinates\n",
    "    verbatimDepth\n",
    "    verbatimElevation\n",
    "    verbatimLocality\n",
    "    waterBody\n",
    "\"\"\".split()}\n",
    "\n",
    "\n",
    "IDIGBIO_FIELDS = {f'idigbio:{f}': f for f in \"\"\"\n",
    "    geoPoint\n",
    "    isoCountryCode\n",
    "\"\"\".split()}\n",
    "\n",
    "OTHER_FIELDS = {'coreid': 'coreid'}  # Need to link data\n",
    "\n",
    "FIELDS = {**OTHER_FIELDS, **DWC_FIELDS, **IDIGBIO_FIELDS}"
   ]
  },
  {
   "cell_type": "markdown",
   "metadata": {},
   "source": [
    "## Examine Tables\n",
    "\n",
    "What's in the downloaded zip file and what is in the tables."
   ]
  },
  {
   "cell_type": "code",
   "execution_count": 4,
   "metadata": {
    "ExecuteTime": {
     "end_time": "2020-04-24T16:01:57.195597Z",
     "start_time": "2020-04-24T16:01:57.185788Z"
    }
   },
   "outputs": [
    {
     "data": {
      "text/plain": [
       "['occurrence.csv',\n",
       " 'multimedia_raw.csv',\n",
       " 'multimedia.csv',\n",
       " 'occurrence_raw.csv',\n",
       " 'records.citation.txt',\n",
       " 'mediarecords.citation.txt',\n",
       " 'meta.xml']"
      ]
     },
     "execution_count": 4,
     "metadata": {},
     "output_type": "execute_result"
    }
   ],
   "source": [
    "with zipfile.ZipFile(ZIP_FILE) as zippy:\n",
    "    names = zippy.namelist()\n",
    "\n",
    "names"
   ]
  },
  {
   "cell_type": "markdown",
   "metadata": {},
   "source": [
    "The occurrence.csv & occurrence_raw.csv files may have what we need. Look at their headers."
   ]
  },
  {
   "cell_type": "markdown",
   "metadata": {},
   "source": [
    "### occurrence.csv"
   ]
  },
  {
   "cell_type": "code",
   "execution_count": 5,
   "metadata": {
    "ExecuteTime": {
     "end_time": "2020-04-24T16:01:57.199234Z",
     "start_time": "2020-04-24T16:01:57.196633Z"
    }
   },
   "outputs": [],
   "source": [
    "with zipfile.ZipFile(ZIP_FILE) as zippy:\n",
    "    with zippy.open('occurrence.csv') as in_file:\n",
    "        headers = in_file.readline()\n",
    "\n",
    "headers = [h.decode().strip() for h in sorted(headers.split(b','))]"
   ]
  },
  {
   "cell_type": "markdown",
   "metadata": {},
   "source": [
    "#### All Headers in occurrence.csv"
   ]
  },
  {
   "cell_type": "code",
   "execution_count": 6,
   "metadata": {
    "ExecuteTime": {
     "end_time": "2020-04-24T16:01:57.208881Z",
     "start_time": "2020-04-24T16:01:57.200702Z"
    },
    "scrolled": true
   },
   "outputs": [
    {
     "data": {
      "text/plain": [
       "['coreid',\n",
       " 'dwc:basisOfRecord',\n",
       " 'dwc:bed',\n",
       " 'dwc:catalogNumber',\n",
       " 'dwc:class',\n",
       " 'dwc:collectionCode',\n",
       " 'dwc:collectionID',\n",
       " 'dwc:continent',\n",
       " 'dwc:coordinateUncertaintyInMeters',\n",
       " 'dwc:country',\n",
       " 'dwc:county',\n",
       " 'dwc:earliestAgeOrLowestStage',\n",
       " 'dwc:earliestEonOrLowestEonothem',\n",
       " 'dwc:earliestEpochOrLowestSeries',\n",
       " 'dwc:earliestEraOrLowestErathem',\n",
       " 'dwc:earliestPeriodOrLowestSystem',\n",
       " 'dwc:eventDate',\n",
       " 'dwc:family',\n",
       " 'dwc:fieldNumber',\n",
       " 'dwc:formation',\n",
       " 'dwc:genus',\n",
       " 'dwc:geologicalContextID',\n",
       " 'dwc:group',\n",
       " 'dwc:higherClassification',\n",
       " 'dwc:highestBiostratigraphicZone',\n",
       " 'dwc:individualCount',\n",
       " 'dwc:infraspecificEpithet',\n",
       " 'dwc:institutionCode',\n",
       " 'dwc:institutionID',\n",
       " 'dwc:kingdom',\n",
       " 'dwc:latestAgeOrHighestStage',\n",
       " 'dwc:latestEonOrHighestEonothem',\n",
       " 'dwc:latestEpochOrHighestSeries',\n",
       " 'dwc:latestEraOrHighestErathem',\n",
       " 'dwc:latestPeriodOrHighestSystem',\n",
       " 'dwc:lithostratigraphicTerms',\n",
       " 'dwc:locality',\n",
       " 'dwc:lowestBiostratigraphicZone',\n",
       " 'dwc:maximumDepthInMeters',\n",
       " 'dwc:maximumElevationInMeters',\n",
       " 'dwc:member',\n",
       " 'dwc:minimumDepthInMeters',\n",
       " 'dwc:minimumElevationInMeters',\n",
       " 'dwc:municipality',\n",
       " 'dwc:occurrenceID',\n",
       " 'dwc:order',\n",
       " 'dwc:phylum',\n",
       " 'dwc:recordNumber',\n",
       " 'dwc:recordedBy',\n",
       " 'dwc:scientificName',\n",
       " 'dwc:specificEpithet',\n",
       " 'dwc:startDayOfYear',\n",
       " 'dwc:stateProvince',\n",
       " 'dwc:taxonID',\n",
       " 'dwc:taxonRank',\n",
       " 'dwc:taxonomicStatus',\n",
       " 'dwc:typeStatus',\n",
       " 'dwc:verbatimEventDate',\n",
       " 'dwc:verbatimLocality',\n",
       " 'dwc:vernacularName',\n",
       " 'dwc:waterBody',\n",
       " 'gbif:canonicalName',\n",
       " 'idigbio:associatedsequences',\n",
       " 'idigbio:barcodeValue',\n",
       " 'idigbio:collectionName',\n",
       " 'idigbio:commonnames',\n",
       " 'idigbio:dataQualityScore',\n",
       " 'idigbio:dateModified',\n",
       " 'idigbio:etag',\n",
       " 'idigbio:eventDate',\n",
       " 'idigbio:flags',\n",
       " 'idigbio:geoPoint',\n",
       " 'idigbio:hasImage',\n",
       " 'idigbio:hasMedia',\n",
       " 'idigbio:institutionName',\n",
       " 'idigbio:isoCountryCode',\n",
       " 'idigbio:mediarecords',\n",
       " 'idigbio:recordIds',\n",
       " 'idigbio:recordset',\n",
       " 'idigbio:uuid',\n",
       " 'idigbio:version']"
      ]
     },
     "execution_count": 6,
     "metadata": {},
     "output_type": "execute_result"
    }
   ],
   "source": [
    "sorted(headers)"
   ]
  },
  {
   "cell_type": "markdown",
   "metadata": {},
   "source": [
    "#### Target Headers in occurrence.csv"
   ]
  },
  {
   "cell_type": "code",
   "execution_count": 7,
   "metadata": {
    "ExecuteTime": {
     "end_time": "2020-04-24T16:01:57.215228Z",
     "start_time": "2020-04-24T16:01:57.210060Z"
    },
    "scrolled": true
   },
   "outputs": [
    {
     "data": {
      "text/plain": [
       "['coreid',\n",
       " 'dwc:continent',\n",
       " 'dwc:coordinateUncertaintyInMeters',\n",
       " 'dwc:country',\n",
       " 'dwc:county',\n",
       " 'dwc:locality',\n",
       " 'dwc:maximumDepthInMeters',\n",
       " 'dwc:maximumElevationInMeters',\n",
       " 'dwc:minimumDepthInMeters',\n",
       " 'dwc:minimumElevationInMeters',\n",
       " 'dwc:municipality',\n",
       " 'dwc:stateProvince',\n",
       " 'dwc:verbatimLocality',\n",
       " 'dwc:waterBody',\n",
       " 'idigbio:geoPoint',\n",
       " 'idigbio:isoCountryCode']"
      ]
     },
     "execution_count": 7,
     "metadata": {},
     "output_type": "execute_result"
    }
   ],
   "source": [
    "HEADERS = sorted(h for h in headers if h in FIELDS)\n",
    "HEADERS"
   ]
  },
  {
   "cell_type": "markdown",
   "metadata": {},
   "source": [
    "### occurrence_raw.csv"
   ]
  },
  {
   "cell_type": "code",
   "execution_count": 8,
   "metadata": {
    "ExecuteTime": {
     "end_time": "2020-04-24T16:01:57.221311Z",
     "start_time": "2020-04-24T16:01:57.216841Z"
    }
   },
   "outputs": [],
   "source": [
    "with zipfile.ZipFile(ZIP_FILE) as zippy:\n",
    "    with zippy.open('occurrence_raw.csv') as in_file:\n",
    "        headers = in_file.readline()\n",
    "\n",
    "headers = [h.decode().strip() for h in sorted(headers.split(b','))]"
   ]
  },
  {
   "cell_type": "markdown",
   "metadata": {},
   "source": [
    "#### All headers in occurrence_raw.csv"
   ]
  },
  {
   "cell_type": "code",
   "execution_count": 9,
   "metadata": {
    "ExecuteTime": {
     "end_time": "2020-04-24T16:01:57.229277Z",
     "start_time": "2020-04-24T16:01:57.222474Z"
    },
    "scrolled": true
   },
   "outputs": [
    {
     "data": {
      "text/plain": [
       "['aec:associatedTaxa',\n",
       " 'coreid',\n",
       " 'dc:rights',\n",
       " 'dcterms:accessRights',\n",
       " 'dcterms:bibliographicCitation',\n",
       " 'dcterms:language',\n",
       " 'dcterms:license',\n",
       " 'dcterms:modified',\n",
       " 'dcterms:references',\n",
       " 'dcterms:rights',\n",
       " 'dcterms:rightsHolder',\n",
       " 'dcterms:source',\n",
       " 'dcterms:type',\n",
       " 'dwc:Identification',\n",
       " 'dwc:MeasurementOrFact',\n",
       " 'dwc:ResourceRelationship',\n",
       " 'dwc:VerbatimEventDate',\n",
       " 'dwc:acceptedNameUsage',\n",
       " 'dwc:acceptedNameUsageID',\n",
       " 'dwc:accessRights',\n",
       " 'dwc:associatedMedia',\n",
       " 'dwc:associatedOccurrences',\n",
       " 'dwc:associatedOrganisms',\n",
       " 'dwc:associatedReferences',\n",
       " 'dwc:associatedSequences',\n",
       " 'dwc:associatedTaxa',\n",
       " 'dwc:basisOfRecord',\n",
       " 'dwc:bed',\n",
       " 'dwc:behavior',\n",
       " 'dwc:catalogNumber',\n",
       " 'dwc:class',\n",
       " 'dwc:classs',\n",
       " 'dwc:collectionCode',\n",
       " 'dwc:collectionID',\n",
       " 'dwc:continent',\n",
       " 'dwc:coordinatePrecision',\n",
       " 'dwc:coordinateUncertaintyInMeters',\n",
       " 'dwc:country',\n",
       " 'dwc:countryCode',\n",
       " 'dwc:county',\n",
       " 'dwc:dataGeneralizations',\n",
       " 'dwc:datasetID',\n",
       " 'dwc:datasetName',\n",
       " 'dwc:dateIdentified',\n",
       " 'dwc:day',\n",
       " 'dwc:decimalLatitude',\n",
       " 'dwc:decimalLongitude',\n",
       " 'dwc:disposition',\n",
       " 'dwc:dynamicProperties',\n",
       " 'dwc:earliestAgeOrLowestStage',\n",
       " 'dwc:earliestEonOrLowestEonothem',\n",
       " 'dwc:earliestEpochOrLowestSeries',\n",
       " 'dwc:earliestEraOrLowestErathem',\n",
       " 'dwc:earliestPeriodOrLowestSystem',\n",
       " 'dwc:endDayOfYear',\n",
       " 'dwc:establishmentMeans',\n",
       " 'dwc:eventDate',\n",
       " 'dwc:eventID',\n",
       " 'dwc:eventRemarks',\n",
       " 'dwc:eventTime',\n",
       " 'dwc:family',\n",
       " 'dwc:fieldNotes',\n",
       " 'dwc:fieldNumber',\n",
       " 'dwc:footprintSRS',\n",
       " 'dwc:footprintSpatialFit',\n",
       " 'dwc:footprintWKT',\n",
       " 'dwc:formation',\n",
       " 'dwc:genus',\n",
       " 'dwc:geodeticDatum',\n",
       " 'dwc:geologicalContextID',\n",
       " 'dwc:georeferenceProtocol',\n",
       " 'dwc:georeferenceRemarks',\n",
       " 'dwc:georeferenceSources',\n",
       " 'dwc:georeferenceVerificationStatus',\n",
       " 'dwc:georeferencedBy',\n",
       " 'dwc:georeferencedDate',\n",
       " 'dwc:group',\n",
       " 'dwc:habitat',\n",
       " 'dwc:higherClassification',\n",
       " 'dwc:higherGeography',\n",
       " 'dwc:higherGeographyID',\n",
       " 'dwc:highestBiostratigraphicZone',\n",
       " 'dwc:identificationID',\n",
       " 'dwc:identificationQualifier',\n",
       " 'dwc:identificationReferences',\n",
       " 'dwc:identificationRemarks',\n",
       " 'dwc:identificationVerificationStatus',\n",
       " 'dwc:identifiedBy',\n",
       " 'dwc:individualCount',\n",
       " 'dwc:informationWithheld',\n",
       " 'dwc:infraspecificEpithet',\n",
       " 'dwc:institutionCode',\n",
       " 'dwc:institutionID',\n",
       " 'dwc:island',\n",
       " 'dwc:islandGroup',\n",
       " 'dwc:kingdom',\n",
       " 'dwc:language',\n",
       " 'dwc:latestAgeOrHighestStage',\n",
       " 'dwc:latestEonOrHighestEonothem',\n",
       " 'dwc:latestEpochOrHighestSeries',\n",
       " 'dwc:latestEraOrHighestErathem',\n",
       " 'dwc:latestPeriodOrHighestSystem',\n",
       " 'dwc:lifeStage',\n",
       " 'dwc:lithostratigraphicTerms',\n",
       " 'dwc:locality',\n",
       " 'dwc:locationAccordingTo',\n",
       " 'dwc:locationID',\n",
       " 'dwc:locationRemarks',\n",
       " 'dwc:lowestBiostratigraphicZone',\n",
       " 'dwc:materialSampleID',\n",
       " 'dwc:maximumDepthInMeters',\n",
       " 'dwc:maximumElevationInMeters',\n",
       " 'dwc:member',\n",
       " 'dwc:minimumDepthInMeters',\n",
       " 'dwc:minimumElevationInMeters',\n",
       " 'dwc:modified',\n",
       " 'dwc:month',\n",
       " 'dwc:municipality',\n",
       " 'dwc:nameAccordingTo',\n",
       " 'dwc:namePublishedIn',\n",
       " 'dwc:namePublishedInID',\n",
       " 'dwc:namePublishedInYear',\n",
       " 'dwc:nomenclaturalCode',\n",
       " 'dwc:nomenclaturalStatus',\n",
       " 'dwc:occurrenceDetails',\n",
       " 'dwc:occurrenceID',\n",
       " 'dwc:occurrenceRemarks',\n",
       " 'dwc:occurrenceStatus',\n",
       " 'dwc:order',\n",
       " 'dwc:organismID',\n",
       " 'dwc:organismName',\n",
       " 'dwc:organismQuantity',\n",
       " 'dwc:organismQuantityType',\n",
       " 'dwc:organismRemarks',\n",
       " 'dwc:originalNameUsage',\n",
       " 'dwc:originalNameUsageID',\n",
       " 'dwc:otherCatalogNumbers',\n",
       " 'dwc:ownerInstitutionCode',\n",
       " 'dwc:parentNameUsage',\n",
       " 'dwc:phylum',\n",
       " 'dwc:pointRadiusSpatialFit',\n",
       " 'dwc:preparations',\n",
       " 'dwc:previousIdentifications',\n",
       " 'dwc:recordNumber',\n",
       " 'dwc:recordedBy',\n",
       " 'dwc:reproductiveCondition',\n",
       " 'dwc:rights',\n",
       " 'dwc:rightsHolder',\n",
       " 'dwc:sampleSizeValue',\n",
       " 'dwc:samplingEffort',\n",
       " 'dwc:samplingProtocol',\n",
       " 'dwc:scientificName',\n",
       " 'dwc:scientificNameAuthorship',\n",
       " 'dwc:scientificNameID',\n",
       " 'dwc:sex',\n",
       " 'dwc:specificEpithet',\n",
       " 'dwc:startDayOfYear',\n",
       " 'dwc:stateProvince',\n",
       " 'dwc:subgenus',\n",
       " 'dwc:taxonID',\n",
       " 'dwc:taxonRank',\n",
       " 'dwc:taxonRemarks',\n",
       " 'dwc:taxonomicStatus',\n",
       " 'dwc:typeStatus',\n",
       " 'dwc:verbatimCoordinateSystem',\n",
       " 'dwc:verbatimCoordinates',\n",
       " 'dwc:verbatimDepth',\n",
       " 'dwc:verbatimElevation',\n",
       " 'dwc:verbatimEventDate',\n",
       " 'dwc:verbatimLatitude',\n",
       " 'dwc:verbatimLocality',\n",
       " 'dwc:verbatimLongitude',\n",
       " 'dwc:verbatimSRS',\n",
       " 'dwc:verbatimTaxonRank',\n",
       " 'dwc:vernacularName',\n",
       " 'dwc:waterBody',\n",
       " 'dwc:year',\n",
       " 'gbif:Identifier',\n",
       " 'gbif:Reference',\n",
       " 'idigbio:recordId',\n",
       " 'symbiota:recordEnteredBy',\n",
       " 'symbiota:verbatimScientificName',\n",
       " 'zan:ChronometricDate']"
      ]
     },
     "execution_count": 9,
     "metadata": {},
     "output_type": "execute_result"
    }
   ],
   "source": [
    "sorted(headers)"
   ]
  },
  {
   "cell_type": "markdown",
   "metadata": {},
   "source": [
    "#### Target headers in occurrence_raw.csv"
   ]
  },
  {
   "cell_type": "code",
   "execution_count": 10,
   "metadata": {
    "ExecuteTime": {
     "end_time": "2020-04-24T16:01:57.234926Z",
     "start_time": "2020-04-24T16:01:57.230321Z"
    },
    "scrolled": true
   },
   "outputs": [],
   "source": [
    "RAW_HEADERS = sorted(h for h in headers if h in FIELDS)"
   ]
  },
  {
   "cell_type": "markdown",
   "metadata": {},
   "source": [
    "## Clean the Database"
   ]
  },
  {
   "cell_type": "code",
   "execution_count": 11,
   "metadata": {
    "ExecuteTime": {
     "end_time": "2020-04-24T16:01:57.241280Z",
     "start_time": "2020-04-24T16:01:57.236184Z"
    }
   },
   "outputs": [],
   "source": [
    "if OUT_DB.exists():\n",
    "    os.remove(OUT_DB)"
   ]
  },
  {
   "cell_type": "markdown",
   "metadata": {},
   "source": [
    "## Create Input Tables\n",
    "\n",
    "Grab all of the relevant fields from the table if the record has a valid latitude and longitude."
   ]
  },
  {
   "cell_type": "markdown",
   "metadata": {},
   "source": [
    "### Create occurrence Table"
   ]
  },
  {
   "cell_type": "code",
   "execution_count": 12,
   "metadata": {
    "ExecuteTime": {
     "end_time": "2020-04-24T16:25:44.521694Z",
     "start_time": "2020-04-24T16:01:57.242543Z"
    }
   },
   "outputs": [
    {
     "name": "stderr",
     "output_type": "stream",
     "text": [
      "122it [23:47, 11.70s/it]\n"
     ]
    }
   ],
   "source": [
    "renames = {h: FIELDS[h] for h in HEADERS}\n",
    "\n",
    "with sqlite3.connect(OUT_DB) as cxn:\n",
    "    with zipfile.ZipFile(ZIP_FILE) as zippy:\n",
    "        with zippy.open('occurrence.csv') as in_file:\n",
    "            reader = pd.read_csv(\n",
    "                in_file, dtype=str, keep_default_na=False,\n",
    "                chunksize=CHUNK, usecols=HEADERS)\n",
    "\n",
    "            if_exists = 'replace'\n",
    "\n",
    "            for df in tqdm(reader):\n",
    "                df = df.rename(columns=renames)\n",
    "\n",
    "                has_point = df['geoPoint'] != ''\n",
    "\n",
    "                df.loc[has_point, :].to_sql(\n",
    "                    'occurrence', cxn, if_exists=if_exists, index=False)\n",
    "\n",
    "                if_exists = 'append'"
   ]
  },
  {
   "cell_type": "markdown",
   "metadata": {},
   "source": [
    "### Create occurrence_raw Table"
   ]
  },
  {
   "cell_type": "code",
   "execution_count": 13,
   "metadata": {
    "ExecuteTime": {
     "end_time": "2020-04-24T16:53:18.895387Z",
     "start_time": "2020-04-24T16:25:44.522975Z"
    }
   },
   "outputs": [
    {
     "name": "stderr",
     "output_type": "stream",
     "text": [
      "122it [27:34, 13.56s/it]\n"
     ]
    }
   ],
   "source": [
    "renames = {h: FIELDS[h] for h in RAW_HEADERS}\n",
    "\n",
    "with sqlite3.connect(OUT_DB) as cxn:\n",
    "    with zipfile.ZipFile(ZIP_FILE) as zippy:\n",
    "        with zippy.open('occurrence_raw.csv') as in_file:\n",
    "            reader = pd.read_csv(\n",
    "                in_file, dtype=str, keep_default_na=False,\n",
    "                chunksize=CHUNK, usecols=RAW_HEADERS)\n",
    "\n",
    "            if_exists = 'replace'\n",
    "\n",
    "            for df in tqdm(reader):\n",
    "                df = df.rename(columns=renames)\n",
    "\n",
    "                df['decimalLatitude'] = pd.to_numeric(\n",
    "                    df['decimalLatitude'], errors='coerce')\n",
    "                df['decimalLongitude'] = pd.to_numeric(\n",
    "                    df['decimalLongitude'], errors='coerce')\n",
    "\n",
    "                has_lat = df['decimalLatitude'].notna()\n",
    "                has_lng = df['decimalLongitude'].notna()\n",
    "\n",
    "                df.loc[has_lat & has_lng, :].to_sql(\n",
    "                    'occurrence_raw', cxn, if_exists=if_exists, index=False)\n",
    "\n",
    "                if_exists = 'append'"
   ]
  },
  {
   "cell_type": "code",
   "execution_count": null,
   "metadata": {},
   "outputs": [],
   "source": []
  }
 ],
 "metadata": {
  "hide_input": false,
  "kernelspec": {
   "display_name": "Python 3",
   "language": "python",
   "name": "python3"
  },
  "language_info": {
   "codemirror_mode": {
    "name": "ipython",
    "version": 3
   },
   "file_extension": ".py",
   "mimetype": "text/x-python",
   "name": "python",
   "nbconvert_exporter": "python",
   "pygments_lexer": "ipython3",
   "version": "3.8.0"
  },
  "varInspector": {
   "cols": {
    "lenName": 16,
    "lenType": 16,
    "lenVar": 40
   },
   "kernels_config": {
    "python": {
     "delete_cmd_postfix": "",
     "delete_cmd_prefix": "del ",
     "library": "var_list.py",
     "varRefreshCmd": "print(var_dic_list())"
    },
    "r": {
     "delete_cmd_postfix": ") ",
     "delete_cmd_prefix": "rm(",
     "library": "var_list.r",
     "varRefreshCmd": "cat(var_dic_list()) "
    }
   },
   "types_to_exclude": [
    "module",
    "function",
    "builtin_function_or_method",
    "instance",
    "_Feature"
   ],
   "window_display": false
  }
 },
 "nbformat": 4,
 "nbformat_minor": 4
}
