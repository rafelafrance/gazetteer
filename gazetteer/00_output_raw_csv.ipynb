{
 "cells": [
  {
   "cell_type": "code",
   "execution_count": 1,
   "metadata": {
    "ExecuteTime": {
     "end_time": "2020-05-11T14:36:11.918372Z",
     "start_time": "2020-05-11T14:36:11.690332Z"
    }
   },
   "outputs": [],
   "source": [
    "import io\n",
    "import os\n",
    "import sqlite3\n",
    "import zipfile\n",
    "from pathlib import Path\n",
    "\n",
    "import pandas as pd\n",
    "import regex\n",
    "from tqdm import tqdm"
   ]
  },
  {
   "cell_type": "code",
   "execution_count": 2,
   "metadata": {
    "ExecuteTime": {
     "end_time": "2020-05-11T14:36:11.921771Z",
     "start_time": "2020-05-11T14:36:11.919492Z"
    }
   },
   "outputs": [],
   "source": [
    "DATA_DIR = Path('..') / 'data'\n",
    "RAW_DIR = DATA_DIR / 'idigbio'\n",
    "INTERIM_DIR = RAW_DIR / 'interim'\n",
    "\n",
    "ZIP = RAW_DIR / '044fae92-60be-4eea-9876-64b15544969c.zip'\n",
    "DB = INTERIM_DIR / 'gazetteer_10_idigbio_2021-Jan.db'\n",
    "CSV_PATTERN = 'idigbio_2021-02-11a*.csv'\n",
    "\n",
    "CHUNK = 1_000_000"
   ]
  },
  {
   "cell_type": "code",
   "execution_count": 3,
   "metadata": {
    "ExecuteTime": {
     "end_time": "2020-05-11T14:36:13.254943Z",
     "start_time": "2020-05-11T14:36:11.922753Z"
    }
   },
   "outputs": [],
   "source": [
    "if DB.exists():\n",
    "    os.remove(DB)"
   ]
  },
  {
   "cell_type": "markdown",
   "metadata": {},
   "source": [
    "## Columns to use for output"
   ]
  },
  {
   "cell_type": "code",
   "execution_count": 4,
   "metadata": {
    "ExecuteTime": {
     "end_time": "2020-05-11T14:36:13.262207Z",
     "start_time": "2020-05-11T14:36:13.257251Z"
    }
   },
   "outputs": [],
   "source": [
    "DWC_FIELDS = {f'dwc:{f}': f for f in \"\"\"\n",
    "    continent\n",
    "    coordinatePrecision\n",
    "    coordinateUncertaintyInMeters\n",
    "    country\n",
    "    countryCode\n",
    "    county\n",
    "    decimalLatitude\n",
    "    decimalLongitude\n",
    "    footprintSRS\n",
    "    footprintSpatialFit\n",
    "    footprintWKT\n",
    "    georeferencedDate\n",
    "    geodeticDatum\n",
    "    georeferencedBy\n",
    "    georeferenceProtocol\n",
    "    georeferenceRemarks\n",
    "    georeferenceSources\n",
    "    georeferenceVerificationStatus\n",
    "    higherGeography\n",
    "    higherGeographyID\n",
    "    island\n",
    "    islandGroup\n",
    "    locationAccordingTo\n",
    "    locality\n",
    "    locationID\n",
    "    locationRemarks\n",
    "    maximumDepthInMeters\n",
    "    maximumDistanceAboveSurfaceInMeters\n",
    "    maximumElevationInMeters\n",
    "    minimumDepthInMeters\n",
    "    minimumDistanceAboveSurfaceInMeters\n",
    "    minimumElevationInMeters\n",
    "    municipality\n",
    "    pointRadiusSpatialFit\n",
    "    stateProvince\n",
    "    verbatimCoordinateSystem\n",
    "    verbatimCoordinates\n",
    "    verbatimDepth\n",
    "    verbatimElevation\n",
    "    verbatimLatitude\n",
    "    verbatimLocality\n",
    "    verbatimLongitude\n",
    "    verbatimSRS\n",
    "    waterBody\n",
    "\"\"\".split()}\n",
    "\n",
    "\n",
    "IDIGBIO_FIELDS = {f'idigbio:{f}': f for f in \"\"\"\n",
    "    geoPoint\n",
    "    isoCountryCode\n",
    "\"\"\".split()}\n",
    "\n",
    "OTHER_FIELDS = {'coreid': 'coreid'}  # Need to link data\n",
    "\n",
    "FIELDS = {**OTHER_FIELDS, **DWC_FIELDS, **IDIGBIO_FIELDS}"
   ]
  },
  {
   "cell_type": "markdown",
   "metadata": {},
   "source": [
    "### Get the headers from the zip file"
   ]
  },
  {
   "cell_type": "code",
   "execution_count": 5,
   "metadata": {
    "ExecuteTime": {
     "end_time": "2020-05-11T14:36:13.273478Z",
     "start_time": "2020-05-11T14:36:13.263429Z"
    }
   },
   "outputs": [],
   "source": [
    "def get_headers(zip_file):\n",
    "    with zipfile.ZipFile(ZIP) as zippy:\n",
    "        with zippy.open(zip_file) as in_file:\n",
    "            headers = in_file.readline()\n",
    "    return [h.decode().strip() for h in sorted(headers.split(b','))]"
   ]
  },
  {
   "cell_type": "markdown",
   "metadata": {},
   "source": [
    "### Write to database"
   ]
  },
  {
   "cell_type": "code",
   "execution_count": 6,
   "metadata": {
    "ExecuteTime": {
     "end_time": "2020-05-11T14:36:13.279309Z",
     "start_time": "2020-05-11T14:36:13.274430Z"
    }
   },
   "outputs": [],
   "source": [
    "def insert(zip_file, usecols, columns):\n",
    "    table = zip_file.split('.')[0]\n",
    "\n",
    "    with sqlite3.connect(DB) as cxn:\n",
    "        with zipfile.ZipFile(ZIP) as zippy:\n",
    "            with zippy.open(zip_file) as in_file:\n",
    "\n",
    "                reader = pd.read_csv(\n",
    "                    in_file, dtype=str, keep_default_na=False,\n",
    "                    chunksize=CHUNK, usecols=usecols)\n",
    "\n",
    "                if_exists = 'replace'\n",
    "\n",
    "                for df in tqdm(reader):\n",
    "                    df = df.rename(columns=columns)\n",
    "\n",
    "                    df.to_sql(table, cxn,\n",
    "                              if_exists=if_exists, index=False)\n",
    "\n",
    "                    if_exists = 'append'"
   ]
  },
  {
   "cell_type": "code",
   "execution_count": 7,
   "metadata": {
    "ExecuteTime": {
     "end_time": "2020-05-11T14:36:13.287941Z",
     "start_time": "2020-05-11T14:36:13.280354Z"
    }
   },
   "outputs": [],
   "source": [
    "def wrapper(zip_file):\n",
    "    headers = get_headers(zip_file)\n",
    "\n",
    "    usecols = [h for h in headers if h in FIELDS]\n",
    "    columns = {h: FIELDS[h] for h in usecols}\n",
    "\n",
    "    insert(zip_file, usecols, columns)"
   ]
  },
  {
   "cell_type": "markdown",
   "metadata": {},
   "source": [
    "## Write to DB"
   ]
  },
  {
   "cell_type": "code",
   "execution_count": 8,
   "metadata": {
    "ExecuteTime": {
     "end_time": "2020-05-11T15:03:49.942768Z",
     "start_time": "2020-05-11T14:36:13.288893Z"
    }
   },
   "outputs": [
    {
     "name": "stderr",
     "output_type": "stream",
     "text": [
      "127it [41:45, 19.73s/it]\n"
     ]
    }
   ],
   "source": [
    "wrapper('occurrence.csv')"
   ]
  },
  {
   "cell_type": "code",
   "execution_count": 9,
   "metadata": {
    "ExecuteTime": {
     "end_time": "2020-05-11T15:46:27.792919Z",
     "start_time": "2020-05-11T15:03:49.943773Z"
    }
   },
   "outputs": [
    {
     "name": "stderr",
     "output_type": "stream",
     "text": [
      "127it [1:01:36, 29.10s/it]\n"
     ]
    }
   ],
   "source": [
    "wrapper('occurrence_raw.csv')"
   ]
  },
  {
   "cell_type": "markdown",
   "metadata": {},
   "source": [
    "##  Update database"
   ]
  },
  {
   "cell_type": "code",
   "execution_count": 10,
   "metadata": {
    "ExecuteTime": {
     "end_time": "2020-05-11T15:50:32.270071Z",
     "start_time": "2020-05-11T15:46:27.794083Z"
    }
   },
   "outputs": [],
   "source": [
    "sql = \"\"\"\n",
    "    create index if not exists occ_coreid on occurrence (coreid);\n",
    "    create index if not exists raw_coreid on occurrence_raw (coreid);\n",
    "\"\"\"\n",
    "\n",
    "with sqlite3.connect(DB) as cxn:\n",
    "    cxn.executescript(sql)"
   ]
  },
  {
   "cell_type": "code",
   "execution_count": 11,
   "metadata": {
    "ExecuteTime": {
     "end_time": "2020-05-11T15:50:32.289972Z",
     "start_time": "2020-05-11T15:50:32.271437Z"
    }
   },
   "outputs": [],
   "source": [
    "sql = \"\"\"\n",
    "    alter table occurrence rename column isoCountryCode to idigbio_countrycode;\n",
    "    alter table occurrence add column idigbio_decimallatitude_wgs84;\n",
    "    alter table occurrence add column idigbio_decimallongitude_wgs84;\n",
    "\"\"\"\n",
    "\n",
    "with sqlite3.connect(DB) as cxn:\n",
    "    cxn.executescript(sql)"
   ]
  },
  {
   "cell_type": "code",
   "execution_count": 12,
   "metadata": {
    "ExecuteTime": {
     "end_time": "2020-05-11T15:55:13.991533Z",
     "start_time": "2020-05-11T15:50:32.292207Z"
    }
   },
   "outputs": [],
   "source": [
    "sql = \"\"\"\n",
    "    update occurrence\n",
    "       set idigbio_decimallatitude_wgs84  = json_extract(geoPoint, '$.lat'),\n",
    "           idigbio_decimallongitude_wgs84 = json_extract(geoPoint, '$.lon')\n",
    "     where geoPoint is not null\n",
    "       and geoPoint <> '';\n",
    "\"\"\"\n",
    "\n",
    "with sqlite3.connect(DB) as cxn:\n",
    "    cxn.execute(sql)\n",
    "    cxn.commit()"
   ]
  },
  {
   "cell_type": "markdown",
   "metadata": {},
   "source": [
    "## Write output to CSV file"
   ]
  },
  {
   "cell_type": "code",
   "execution_count": 3,
   "metadata": {
    "ExecuteTime": {
     "end_time": "2020-05-11T16:01:36.768322Z",
     "start_time": "2020-05-11T16:01:36.631687Z"
    }
   },
   "outputs": [],
   "source": [
    "for path in INTERIM_DIR.glob(CSV_PATTERN):\n",
    "    os.remove(path)"
   ]
  },
  {
   "cell_type": "code",
   "execution_count": 4,
   "metadata": {
    "ExecuteTime": {
     "end_time": "2020-05-11T16:01:38.001778Z",
     "start_time": "2020-05-11T16:01:38.000014Z"
    }
   },
   "outputs": [],
   "source": [
    "sql = \"\"\"\n",
    "    select occurrence_raw.*,\n",
    "           idigbio_countrycode,\n",
    "           idigbio_decimallatitude_wgs84,\n",
    "           idigbio_decimallongitude_wgs84\n",
    "    from occurrence_raw\n",
    "    left join occurrence using (coreid)\n",
    "    where idigbio_decimallatitude_wgs84 is not null\n",
    "      and idigbio_decimallongitude_wgs84 is not null\n",
    "      and idigbio_decimallatitude_wgs84 + idigbio_decimallongitude_wgs84 <> 0\n",
    "    and (\n",
    "        occurrence_raw.continent <> ''\n",
    "    or  occurrence_raw.coordinatePrecision <> ''\n",
    "    or  occurrence_raw.coordinateUncertaintyInMeters <> ''\n",
    "    or  occurrence_raw.country <> ''\n",
    "    or  occurrence_raw.countryCode <> ''\n",
    "    or  occurrence_raw.county <> ''\n",
    "    or  occurrence_raw.decimalLatitude <> ''\n",
    "    or  occurrence_raw.decimalLongitude <> ''\n",
    "    or  occurrence_raw.footprintSRS <> ''\n",
    "    or  occurrence_raw.footprintSpatialFit <> ''\n",
    "    or  occurrence_raw.footprintWKT <> ''\n",
    "    or  occurrence_raw.georeferencedDate <> ''\n",
    "    or  occurrence_raw.geodeticDatum <> ''\n",
    "    or  occurrence_raw.georeferencedBy <> ''\n",
    "    or  occurrence_raw.georeferenceProtocol <> ''\n",
    "    or  occurrence_raw.georeferenceRemarks <> ''\n",
    "    or  occurrence_raw.georeferenceSources <> ''\n",
    "    or  occurrence_raw.georeferenceVerificationStatus <> ''\n",
    "    or  occurrence_raw.higherGeography <> ''\n",
    "    or  occurrence_raw.higherGeographyID <> ''\n",
    "    or  occurrence_raw.island <> ''\n",
    "    or  occurrence_raw.islandGroup <> ''\n",
    "    or  occurrence_raw.locationAccordingTo <> ''\n",
    "    or  occurrence_raw.locality <> ''\n",
    "    or  occurrence_raw.locationID <> ''\n",
    "    or  occurrence_raw.locationRemarks <> ''\n",
    "    or  occurrence_raw.maximumDepthInMeters <> ''\n",
    "    or  occurrence_raw.maximumElevationInMeters <> ''\n",
    "    or  occurrence_raw.minimumDepthInMeters <> ''\n",
    "    or  occurrence_raw.minimumElevationInMeters <> ''\n",
    "    or  occurrence_raw.municipality <> ''\n",
    "    or  occurrence_raw.pointRadiusSpatialFit <> ''\n",
    "    or  occurrence_raw.stateProvince <> ''\n",
    "    or  occurrence_raw.verbatimCoordinateSystem <> ''\n",
    "    or  occurrence_raw.verbatimCoordinates <> ''\n",
    "    or  occurrence_raw.verbatimDepth <> ''\n",
    "    or  occurrence_raw.verbatimElevation <> ''\n",
    "    or  occurrence_raw.verbatimLatitude <> ''\n",
    "    or  occurrence_raw.verbatimLocality <> ''\n",
    "    or  occurrence_raw.verbatimLongitude <> ''\n",
    "    or  occurrence_raw.verbatimSRS <> ''\n",
    "    or  occurrence_raw.waterBody <> ''\n",
    "    );\n",
    "    \"\"\"\n",
    "\n",
    "max_files = 10"
   ]
  },
  {
   "cell_type": "code",
   "execution_count": null,
   "metadata": {
    "ExecuteTime": {
     "end_time": "2020-05-11T16:53:28.855429Z",
     "start_time": "2020-05-11T16:01:40.730981Z"
    }
   },
   "outputs": [
    {
     "name": "stderr",
     "output_type": "stream",
     "text": [
      "\r",
      "0it [00:00, ?it/s]"
     ]
    }
   ],
   "source": [
    "with sqlite3.connect(DB) as cxn:\n",
    "\n",
    "    reader = pd.read_sql(sql, cxn, chunksize=CHUNK)\n",
    "\n",
    "    for i, df in tqdm(enumerate(reader)):\n",
    "        if i == 0:\n",
    "            headers = ','.join(df.columns.values.tolist())\n",
    "            path = INTERIM_DIR / CSV_PATTERN.replace('*', '0')\n",
    "\n",
    "            with open(path, 'w') as out:\n",
    "                out.write(f'{headers}\\n')\n",
    "\n",
    "        i = (i // max_files) + 1\n",
    "        path = INTERIM_DIR / CSV_PATTERN.replace('*', str(i))\n",
    "\n",
    "        with open(path, 'a') as out:\n",
    "            df.to_csv(out, header=False, index=False)"
   ]
  },
  {
   "cell_type": "code",
   "execution_count": null,
   "metadata": {
    "ExecuteTime": {
     "end_time": "2020-05-09T12:52:32.402771Z",
     "start_time": "2020-05-09T12:41:37.652865Z"
    }
   },
   "outputs": [],
   "source": []
  }
 ],
 "metadata": {
  "kernelspec": {
   "display_name": "Python 3",
   "language": "python",
   "name": "python3"
  },
  "language_info": {
   "codemirror_mode": {
    "name": "ipython",
    "version": 3
   },
   "file_extension": ".py",
   "mimetype": "text/x-python",
   "name": "python",
   "nbconvert_exporter": "python",
   "pygments_lexer": "ipython3",
   "version": "3.9.0+"
  },
  "varInspector": {
   "cols": {
    "lenName": 16,
    "lenType": 16,
    "lenVar": 40
   },
   "kernels_config": {
    "python": {
     "delete_cmd_postfix": "",
     "delete_cmd_prefix": "del ",
     "library": "var_list.py",
     "varRefreshCmd": "print(var_dic_list())"
    },
    "r": {
     "delete_cmd_postfix": ") ",
     "delete_cmd_prefix": "rm(",
     "library": "var_list.r",
     "varRefreshCmd": "cat(var_dic_list()) "
    }
   },
   "types_to_exclude": [
    "module",
    "function",
    "builtin_function_or_method",
    "instance",
    "_Feature"
   ],
   "window_display": false
  }
 },
 "nbformat": 4,
 "nbformat_minor": 4
}
