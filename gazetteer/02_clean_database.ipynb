{
 "cells": [
  {
   "cell_type": "markdown",
   "metadata": {},
   "source": [
    "# Clean Database"
   ]
  },
  {
   "cell_type": "markdown",
   "metadata": {},
   "source": [
    "## Setup"
   ]
  },
  {
   "cell_type": "code",
   "execution_count": 1,
   "metadata": {
    "ExecuteTime": {
     "end_time": "2020-04-29T17:15:53.942637Z",
     "start_time": "2020-04-29T17:15:53.373868Z"
    }
   },
   "outputs": [],
   "source": [
    "import io\n",
    "import os\n",
    "import sqlite3\n",
    "import string\n",
    "import zipfile\n",
    "from pathlib import Path\n",
    "from pprint import pp\n",
    "\n",
    "import dask.dataframe as dd\n",
    "import pandas as pd\n",
    "import regex\n",
    "from tqdm import tqdm"
   ]
  },
  {
   "cell_type": "code",
   "execution_count": 24,
   "metadata": {
    "ExecuteTime": {
     "end_time": "2020-04-29T20:34:50.573045Z",
     "start_time": "2020-04-29T20:34:50.570584Z"
    }
   },
   "outputs": [],
   "source": [
    "DATA_DIR = Path('..') / 'data'\n",
    "INTERIM_DIR = DATA_DIR / '01_interim'\n",
    "\n",
    "IN_DB = INTERIM_DIR / 'gazetteer_01_idigbio_2020-03-30.db'\n",
    "OUT_DB = INTERIM_DIR / 'gazetteer_02_idigbio_2020-03-30.db'\n",
    "\n",
    "CHUNK = 1_000_000"
   ]
  },
  {
   "cell_type": "markdown",
   "metadata": {},
   "source": [
    "## Remove Old Database"
   ]
  },
  {
   "cell_type": "code",
   "execution_count": null,
   "metadata": {},
   "outputs": [],
   "source": [
    "if OUT_DB.exists():\n",
    "    os.remove(OUT_DB)"
   ]
  },
  {
   "cell_type": "markdown",
   "metadata": {},
   "source": [
    "## Remove records with a phony lat/long."
   ]
  },
  {
   "cell_type": "code",
   "execution_count": 3,
   "metadata": {
    "ExecuteTime": {
     "end_time": "2020-04-29T17:16:16.417968Z",
     "start_time": "2020-04-29T17:15:53.947413Z"
    }
   },
   "outputs": [],
   "source": [
    "sql = \"\"\"\n",
    "    delete from occurrence_raw \n",
    "     where decimalLatitude = 0\n",
    "       and decimalLongitude = 0;\"\"\"\n",
    "\n",
    "with sqlite3.connect(IN_DB) as cxn:\n",
    "    cxn.execute(sql)\n",
    "    cxn.commit()"
   ]
  },
  {
   "cell_type": "code",
   "execution_count": 4,
   "metadata": {
    "ExecuteTime": {
     "end_time": "2020-04-29T17:16:48.369668Z",
     "start_time": "2020-04-29T17:16:16.419890Z"
    }
   },
   "outputs": [],
   "source": [
    "sql = \"\"\"\n",
    "    delete from occurrence\n",
    "     where json_extract(geoPoint, \"$.lat\") = 0\n",
    "       and json_extract(geoPoint, \"$.lon\") = 0;\"\"\"\n",
    "\n",
    "with sqlite3.connect(IN_DB) as cxn:\n",
    "    cxn.execute(sql)\n",
    "    cxn.commit()"
   ]
  },
  {
   "cell_type": "markdown",
   "metadata": {},
   "source": [
    "## Look at Possible Controlled Vocabulary Fields"
   ]
  },
  {
   "cell_type": "code",
   "execution_count": 5,
   "metadata": {
    "ExecuteTime": {
     "end_time": "2020-04-29T17:17:28.455722Z",
     "start_time": "2020-04-29T17:16:48.370851Z"
    }
   },
   "outputs": [
    {
     "name": "stdout",
     "output_type": "stream",
     "text": [
      "('', 32566477)\n",
      "('2012_07_02a_2014-5-15_12:31', 3184)\n",
      "('A America', 1)\n",
      "('AF', 4)\n",
      "('AFRICA', 1406)\n",
      "('AFrica', 3)\n",
      "('AMERICA', 11976)\n",
      "('ANTARCTICA', 6599)\n",
      "('ANTARTICA', 110)\n",
      "('ASIA', 7197)\n",
      "('ASIA-TROPICAL', 4)\n",
      "('Adriatic Sea', 134)\n",
      "('Afirca', 1)\n",
      "('Africa', 1526992)\n",
      "('Africa & Madagascar', 453464)\n",
      "('Africa, Africa', 2)\n",
      "('Africa/Asia', 193)\n",
      "('Africa; Asia', 1)\n",
      "('Afrique', 31821)\n",
      "('Afrotropical', 10200)\n",
      "('Afrotropicale', 1)\n",
      "('Afrotropique', 236)\n",
      "('Aftica', 13)\n",
      "('America', 3365)\n",
      "('America do Sul', 1420)\n",
      "('Americas', 8540)\n",
      "('AmÈrica Central', 190)\n",
      "('AmÈrica Latina', 500)\n",
      "('AmÈrica do Norte', 81)\n",
      "('AmÈrica do Sul', 66245)\n",
      "('América', 2928)\n",
      "('América Central', 12)\n",
      "('América do Norte', 8)\n",
      "('América do Sul', 149951)\n",
      "('América do norte', 59)\n",
      "('Amérique', 40)\n",
      "('Amérique Centrale', 115)\n",
      "('Amérique du Nord', 399)\n",
      "('Amérique du Sud', 2385)\n",
      "('Amérique du sud', 279)\n",
      "('Andaman Sea', 8)\n",
      "('Antarctic', 2993)\n",
      "('Antarctic Region', 2)\n",
      "('Antarctica', 33050)\n",
      "('Antarctica / East Antarctica', 91)\n",
      "('Antarctique', 420)\n",
      "('Antartica', 1)\n",
      "('Antestini', 2)\n",
      "('Antillean Islands', 2396)\n",
      "('Antilles', 2)\n",
      "('Ant·rtica', 63)\n",
      "('Arabian Sea', 27)\n",
      "('Arctic', 46)\n",
      "('Arctic Ocean', 2384)\n",
      "('Arctic Region', 246)\n",
      "('Asia', 981609)\n",
      "('Asia - Tropical', 6)\n",
      "('Asia / Australia', 47)\n",
      "('Asia, Asia', 5)\n",
      "('Asia, Middle East', 7125)\n",
      "('Asia- Tropical', 1)\n",
      "('Asia- tropical', 2)\n",
      "('Asia-Temperate', 21838)\n",
      "('Asia-Temperatee', 1)\n",
      "('Asia-Tropical', 189785)\n",
      "('Asia-tropical', 8)\n",
      "('Asia/Europe', 49)\n",
      "('Asia; North America', 5)\n",
      "('Asie', 5519)\n",
      "('Atlanitic', 1)\n",
      "('Atlantic', 3124)\n",
      "('Atlantic Ocean', 103794)\n",
      "('Atlantic Ocean / Caribbean Sea', 1346)\n",
      "('Atlantic Ocean / Gulf of Mexico', 1205)\n",
      "('Atlantic Ocean / Mediterranean Sea', 265)\n",
      "('Atlantic Ocean / NE Atlantic', 1222)\n",
      "('Atlantic Ocean / NW Atlantic', 9633)\n",
      "('Atlantic Ocean / SE Atlantic', 1107)\n",
      "('Atlantic Ocean / SW Atlantic', 2546)\n",
      "('Atlantica', 2)\n",
      "('Atlantique', 17)\n",
      "('Australasia', 172360)\n",
      "('Australasian', 3)\n",
      "('Australasie', 88)\n",
      "('Australia', 249365)\n",
      "('Australia & Oceania', 2532)\n",
      "('Australia (Continent)', 363)\n",
      "('Australia (Oceania)', 84402)\n",
      "('Australia and Oceania', 181)\n",
      "('Australian', 12024)\n",
      "('BHCB', 7)\n",
      "('Bali Sea', 1)\n",
      "('Baltic Sea', 69580)\n",
      "('Banda Sea', 1)\n",
      "('Bay of Bengal', 9)\n",
      "('Bering Sea', 373)\n",
      "('Bering Sea?', 1)\n",
      "('Brasil', 1)\n",
      "('C America', 4887)\n",
      "('CAPTIVE', 14)\n",
      "('CENARGEN', 5)\n",
      "('CENTRAL AMERICA', 673)\n",
      "('Caribbean', 74402)\n",
      "('Caribbean Islands', 30887)\n",
      "('Caribbean Sea', 22324)\n",
      "('Carribbean', 41)\n",
      "('Celebes Sea', 1)\n",
      "('Central America', 285055)\n",
      "('Central America & Caribbean', 147)\n",
      "('Central America - Neotropics', 22370)\n",
      "('Central America, North America', 1)\n",
      "('Chukchi Sea', 1)\n",
      "('Coral Sea', 35)\n",
      "('Davis Strait', 2)\n",
      "('Deroploini', 7)\n",
      "('Diemeniini', 10)\n",
      "('E Africa', 1)\n",
      "('EU', 189539)\n",
      "('EURASIA', 1)\n",
      "('EUROPA', 35)\n",
      "('EUROPE', 8777)\n",
      "('East Africa, Africa', 6)\n",
      "('East China Sea', 13)\n",
      "('Eastern Hemisphere', 1)\n",
      "('English Channel', 164)\n",
      "('Eurasia', 975)\n",
      "('Eurasie', 55)\n",
      "('Europa', 27)\n",
      "('Europe', 2793420)\n",
      "('Europe / Asia', 13)\n",
      "('Europe ?', 1)\n",
      "('Europe, Europe', 1)\n",
      "('Europe/Asia', 5)\n",
      "('Europe; Asia', 8)\n",
      "('Europe?', 3)\n",
      "('European', 2)\n",
      "('Europe|Asia', 1)\n",
      "('Greater Antilles', 781)\n",
      "('Greenland', 15)\n",
      "('Gulf of California', 20)\n",
      "('Gulf of Guinea', 26)\n",
      "('Gulf of Mexico', 29447)\n",
      "('Gulf of Oman', 1)\n",
      "('Gulf of Patagonia', 5)\n",
      "('Gulf of Tadjoura', 12)\n",
      "('Gulf of Thailand', 20)\n",
      "('HUEFS', 3)\n",
      "('Halyini', 7)\n",
      "('Holarctic', 1)\n",
      "('IBGE', 21)\n",
      "('India', 1)\n",
      "('Indian', 90)\n",
      "('Indian Ocean', 53013)\n",
      "('Indian Ocean / Persian Gulf', 45)\n",
      "('Indian Ocean / Red Sea', 920)\n",
      "('Indian Ocean / South-east Indian Ocean', 1)\n",
      "('Indian Ocean, Antarctica', 1)\n",
      "('Indo-Malayan Region', 35)\n",
      "('Indo-pacifique', 7)\n",
      "('Indonesia', 1)\n",
      "('Island', 1185)\n",
      "('Java Sea', 2)\n",
      "('Laccadive Sea', 2)\n",
      "('Lesser Antilles', 4)\n",
      "('Locality Unknown', 96)\n",
      "('Lord Howe Rise', 3)\n",
      "('Malay Archipelago', 244)\n",
      "('Maldive Sea', 1)\n",
      "('Mariana Islands', 8)\n",
      "('Mediterranean', 3)\n",
      "('Mediterranean Sea', 270)\n",
      "('Melanesia', 202)\n",
      "('Menidini', 2)\n",
      "('Mesoamerica', 951418)\n",
      "('Micronesia', 2834)\n",
      "('Middle East', 1205)\n",
      "('Middle East, Asia', 5)\n",
      "('Middle and South America', 2781)\n",
      "('Myrocheini', 4)\n",
      "('N  America', 17)\n",
      "('N Amercia', 3)\n",
      "('N America', 130408)\n",
      "('N American', 113)\n",
      "('N. America', 1459)\n",
      "('N. Atlantic', 2)\n",
      "('N.America', 3)\n",
      "('NA', 18)\n",
      "('NORTH AMERICA', 370378)\n",
      "('NORTH_AMERICA', 2)\n",
      "('Nearctic', 348357)\n",
      "('Neotropical', 588266)\n",
      "('New Guinea', 484)\n",
      "('New Zealand', 1)\n",
      "('None-North Pacific Ocean', 7)\n",
      "('North AMerica', 2)\n",
      "('North Amerca', 5)\n",
      "('North America', 12898765)\n",
      "('North America - Neotropics', 18423)\n",
      "('North America / West Indies', 574)\n",
      "('North America ?', 3)\n",
      "('North America, North America', 1)\n",
      "('North America; Central America; South America', 7)\n",
      "('North Atlantic', 19)\n",
      "('North Atlantic Ocean', 21)\n",
      "('North Atlantic, Arctic', 1)\n",
      "('North Atlantic, Atlantic Ocean', 8)\n",
      "('North Atlantic, Europe', 10)\n",
      "('North Pacific', 8)\n",
      "('North Pacific Ocean', 5090)\n",
      "('North Pacific, Asia', 1)\n",
      "('North Sea', 5255)\n",
      "('North and Central America', 113991)\n",
      "('NorthAmerica', 1976)\n",
      "('Northern America', 5289)\n",
      "('Néotropical', 54)\n",
      "('Néotropicale', 21)\n",
      "('Néotropique', 16)\n",
      "('OCEANIA', 5597)\n",
      "('OCEANO ATLANTICO', 60)\n",
      "('OCEANO ATLÂNTICO', 2)\n",
      "('Ocean', 171)\n",
      "('Oceania', 336564)\n",
      "('Oceanic Islands', 78)\n",
      "('Océan indien', 11)\n",
      "('Océanie', 61514)\n",
      "('Oman', 24)\n",
      "('Oriental', 14560)\n",
      "('Orientale', 7)\n",
      "('Ozeania', 14)\n",
      "('PACIFIC OCEAN', 2)\n",
      "('Pacific', 8123)\n",
      "('Pacific Islands', 13647)\n",
      "('Pacific Ocean', 99975)\n",
      "('Pacific Ocean - Central America', 2)\n",
      "('Pacific Ocean / Indo-West Pacific', 55091)\n",
      "('Pacific Ocean / NE Pacific', 33068)\n",
      "('Pacific Ocean / NW & Central Pacific', 7170)\n",
      "('Pacific Ocean / SE Pacific', 4014)\n",
      "('Pacific Ocean / South Pacific', 14392)\n",
      "('Pacific islands', 41)\n",
      "('Pacific, Australasia', 1)\n",
      "('Pacific, North America', 1)\n",
      "('Palearctic', 32772)\n",
      "('Paléarctique', 19)\n",
      "('Paléarctique occ.', 11)\n",
      "('Paléarctique ori.', 3)\n",
      "('Paléotropicale', 1)\n",
      "('Persian Gulf', 18)\n",
      "('Peru', 9)\n",
      "('Philippine Islands', 3)\n",
      "('Philippine Sea', 2)\n",
      "('Phyllocephalini', 4)\n",
      "('Polynesia', 13)\n",
      "('QRS', 3)\n",
      "('Red Sea', 31)\n",
      "('Rhynchocorini', 15)\n",
      "('Ross Sea', 1)\n",
      "('S America', 7988)\n",
      "('S Anerica', 2)\n",
      "('S. America', 1)\n",
      "('SA', 104)\n",
      "('SOUTH AMERICA', 8502)\n",
      "('SOUTHERN AMERICA', 28)\n",
      "('Sciocorini', 2)\n",
      "('Sea of Japan', 6)\n",
      "('South  America', 10)\n",
      "('South & Central America', 8311)\n",
      "('South America', 3167621)\n",
      "('South America - Neotropics', 252994)\n",
      "('South America - NeotropicsSouth America - Neotropics', 1)\n",
      "('South America - Neotropicsica - Neotropics', 3)\n",
      "('South America ?', 29)\n",
      "('South America- Neotropics', 1)\n",
      "('South Atlantic', 9)\n",
      "('South Atlantic Ocean', 10)\n",
      "('South Atlantic, Asia', 1)\n",
      "('South Atlantic, Pacific Ocean', 1)\n",
      "('South Atlantic, South America', 1)\n",
      "('South China Sea', 14)\n",
      "('South Pacific', 1)\n",
      "('South Pacific Ocean', 10)\n",
      "('South and Central America, Caribbean & Antarctica', 11909)\n",
      "('South-east Asia', 2)\n",
      "('Southeastern Europe', 1)\n",
      "('Southern America', 531919)\n",
      "('Southern Ocean', 17141)\n",
      "('Strachiini', 1)\n",
      "('Straits of Korea', 3)\n",
      "('Sulu Sea', 2)\n",
      "('Tasman Sea', 14)\n",
      "('UNKNOWN', 3)\n",
      "('UNSPECIFIED', 16)\n",
      "('UO 15847 Post, Oregon', 16)\n",
      "('USA', 6)\n",
      "('USSR', 1)\n",
      "('Unassigned', 228)\n",
      "('Undefined', 7)\n",
      "('Unknown', 121)\n",
      "('Unknown, Captive', 931)\n",
      "('Unplaced', 34)\n",
      "('Unrecorded', 2)\n",
      "('Upload 5_24_2016-5-24_15:53', 11)\n",
      "('Virgin Islands', 1)\n",
      "('WEST INDIES', 2075)\n",
      "('Wallacea', 96)\n",
      "('West Atlantic', 2)\n",
      "('West Indies', 123569)\n",
      "('West Indies - Neotropics', 22753)\n",
      "('West indies', 31)\n",
      "('[Pacific Ocean]', 1)\n",
      "('[South Atlantic]', 1)\n",
      "('[South Pacific]', 1)\n",
      "('[no higher geography data]', 4034)\n",
      "('africa', 1)\n",
      "('asia', 1)\n",
      "('australia', 4)\n",
      "('europe', 5)\n",
      "('no higher geography recorded', 168)\n",
      "('north america', 16)\n",
      "('not determined', 1)\n",
      "('not_in_Specify_tree', 72561)\n",
      "('south america', 2)\n",
      "('unknown', 23)\n",
      "('unknown continent', 236)\n",
      "('¡frica', 9)\n",
      "('¡merica Central', 1)\n",
      "('¡sia', 8)\n",
      "('África', 1)\n",
      "('Ásia', 4)\n",
      "('…………………………………………………………………..', 1)\n"
     ]
    }
   ],
   "source": [
    "# continent, country, ...\n",
    "\n",
    "with sqlite3.connect(IN_DB) as cxn:\n",
    "    sql = \"\"\"\n",
    "        select continent, count(*) as n\n",
    "          from occurrence_raw\n",
    "      group by continent;\"\"\"\n",
    "    for row in cxn.execute(sql):\n",
    "        print(row)"
   ]
  },
  {
   "cell_type": "markdown",
   "metadata": {},
   "source": [
    "## Simplify Diacritics\n",
    "\n",
    "Start with the diacritic replacement map given below. I am unsure (now) as to who built this map, however, if I were to do this from scratch then I would use the file UnicodeData.txt file as a starting point:\n",
    "ftp://ftp.unicode.org/../Public/UCD/latest/ucd/UnicodeData.txt\n",
    "\n",
    "We'll build a translation map from this table."
   ]
  },
  {
   "cell_type": "code",
   "execution_count": 6,
   "metadata": {
    "ExecuteTime": {
     "end_time": "2020-04-29T17:17:28.471311Z",
     "start_time": "2020-04-29T17:17:28.457487Z"
    }
   },
   "outputs": [],
   "source": [
    "DIACRITIC_MAP = [\n",
    "    {'base': 'A', 'letters': \"\"\"\\u0041\\u24B6\\uFF21\\u00C0\\u00C1\\u00C2\\u1EA6\n",
    "        \\u1EA4\\u1EAA\\u1EA8\\u00C3\\u0100\\u0102\\u1EB0\\u1EAE\\u1EB4\\u1EB2\\u0226\n",
    "        \\u01E0\\u00C4\\u01DE\\u1EA2\\u00C5\\u01FA\\u01CD\\u0200\\u0202\\u1EA0\\u1EAC\n",
    "        \\u1EB6\\u1E00\\u0104\\u023A\\u2C6F\"\"\"},\n",
    "    {'base': 'AA', 'letters': \"\"\"\\uA732\"\"\"},\n",
    "    {'base': 'AE', 'letters': \"\"\"\\u00C6\\u01FC\\u01E2\"\"\"},\n",
    "    {'base': 'AO', 'letters': \"\"\"\\uA734\"\"\"},\n",
    "    {'base': 'AU', 'letters': \"\"\"\\uA736\"\"\"},\n",
    "    {'base': 'AV', 'letters': \"\"\"\\uA738\\uA73A\"\"\"},\n",
    "    {'base': 'AY', 'letters': \"\"\"\\uA73C\"\"\"},\n",
    "    {'base': 'B', 'letters': \"\"\"\\u0042\\u24B7\\uFF22\\u1E02\\u1E04\\u1E06\\u0243\n",
    "        \\u0182\\u0181\"\"\"},\n",
    "    {'base': 'C', 'letters': \"\"\"\\u0043\\u24B8\\uFF23\\u0106\\u0108\\u010A\\u010C\n",
    "        \\u00C7\\u1E08\\u0187\\u023B\\uA73E\"\"\"},\n",
    "    {'base': 'D', 'letters': \"\"\"\\u0044\\u24B9\\uFF24\\u1E0A\\u010E\\u1E0C\\u1E10\n",
    "        \\u1E12\\u1E0E\\u0110\\u018B\\u018A\\u0189\\uA779\"\"\"},\n",
    "    {'base': 'DZ', 'letters': \"\"\"\\u01F1\\u01C4\"\"\"},\n",
    "    {'base': 'Dz', 'letters': \"\"\"\\u01F2\\u01C5\"\"\"},\n",
    "    {'base': 'E', 'letters': \"\"\"\\u0045\\u24BA\\uFF25\\u00C8\\u00C9\\u00CA\\u1EC0\n",
    "        \\u1EBE\\u1EC4\\u1EC2\\u1EBC\\u0112\\u1E14\\u1E16\\u0114\\u0116\\u00CB\\u1EBA\n",
    "        \\u011A\\u0204\\u0206\\u1EB8\\u1EC6\\u0228\\u1E1C\\u0118\\u1E18\\u1E1A\\u0190\n",
    "        \\u018E\"\"\"},\n",
    "    {'base': 'F', 'letters': \"\"\"\\u0046\\u24BB\\uFF26\\u1E1E\\u0191\\uA77B\"\"\"},\n",
    "    {'base': 'G', 'letters': \"\"\"\\u0047\\u24BC\\uFF27\\u01F4\\u011C\\u1E20\\u011E\n",
    "        \\u0120\\u01E6\\u0122\\u01E4\\u0193\\uA7A0\\uA77D\\uA77E\"\"\"},\n",
    "    {'base': 'H', 'letters': \"\"\"\\u0048\\u24BD\\uFF28\\u0124\\u1E22\\u1E26\\u021E\n",
    "        \\u1E24\\u1E28\\u1E2A\\u0126\\u2C67\\u2C75\\uA78D\"\"\"},\n",
    "    {'base': 'I', 'letters': \"\"\"\\u0049\\u24BE\\uFF29\\u00CC\\u00CD\\u00CE\\u0128\n",
    "        \\u012A\\u012C\\u0130\\u00CF\\u1E2E\\u1EC8\\u01CF\\u0208\\u020A\\u1ECA\\u012E\n",
    "        \\u1E2C\\u0197\"\"\"},\n",
    "    {'base': 'J', 'letters': \"\"\"\\u004A\\u24BF\\uFF2A\\u0134\\u0248\"\"\"},\n",
    "    {'base': 'K', 'letters': \"\"\"\\u004B\\u24C0\\uFF2B\\u1E30\\u01E8\\u1E32\\u0136\n",
    "        \\u1E34\\u0198\\u2C69\\uA740\\uA742\\uA744\\uA7A2\"\"\"},\n",
    "    {'base': 'L', 'letters': \"\"\"\\u004C\\u24C1\\uFF2C\\u013F\\u0139\\u013D\\u1E36\n",
    "        \\u1E38\\u013B\\u1E3C\\u1E3A\\u0141\\u023D\\u2C62\\u2C60\\uA748\\uA746\\uA780\"\"\"},\n",
    "    {'base': 'LJ', 'letters': \"\"\"\\u01C7\"\"\"},\n",
    "    {'base': 'Lj', 'letters': \"\"\"\\u01C8\"\"\"},\n",
    "    {'base': 'M', 'letters': \"\"\"\\u004D\\u24C2\\uFF2D\\u1E3E\\u1E40\\u1E42\\u2C6E\n",
    "        \\u019C\"\"\"},\n",
    "    {'base': 'N', 'letters': \"\"\"\\u004E\\u24C3\\uFF2E\\u01F8\\u0143\\u00D1\\u1E44\n",
    "        \\u0147\\u1E46\\u0145\\u1E4A\\u1E48\\u0220\\u019D\\uA790\\uA7A4\"\"\"},\n",
    "    {'base': 'NJ', 'letters': \"\"\"\\u01CA\"\"\"},\n",
    "    {'base': 'Nj', 'letters': \"\"\"\\u01CB\"\"\"},\n",
    "    {'base': 'O', 'letters': \"\"\"\\u004F\\u24C4\\uFF2F\\u00D2\\u00D3\\u00D4\\u1ED2\n",
    "        \\u1ED0\\u1ED6\\u1ED4\\u00D5\\u1E4C\\u022C\\u1E4E\\u014C\\u1E50\\u1E52\\u014E\n",
    "        \\u022E\\u0230\\u00D6\\u022A\\u1ECE\\u0150\\u01D1\\u020C\\u020E\\u01A0\\u1EDC\n",
    "        \\u1EDA\\u1EE0\\u1EDE\\u1EE2\\u1ECC\\u1ED8\\u01EA\\u01EC\\u00D8\\u01FE\\u0186\n",
    "        \\u019F\\uA74A\\uA74C\"\"\"},\n",
    "    {'base': 'OI', 'letters': \"\"\"\\u01A2\"\"\"},\n",
    "    {'base': 'OO', 'letters': \"\"\"\\uA74E\"\"\"},\n",
    "    {'base': 'OU', 'letters': \"\"\"\\u0222\"\"\"},\n",
    "    {'base': 'P', 'letters': \"\"\"\\u0050\\u24C5\\uFF30\\u1E54\\u1E56\\u01A4\\u2C63\n",
    "        \\uA750\\uA752\\uA754\"\"\"},\n",
    "    {'base': 'Q', 'letters': \"\"\"\\u0051\\u24C6\\uFF31\\uA756\\uA758\\u024A\"\"\"},\n",
    "    {'base': 'R', 'letters': \"\"\"\\u0052\\u24C7\\uFF32\\u0154\\u1E58\\u0158\\u0210\n",
    "        \\u0212\\u1E5A\\u1E5C\\u0156\\u1E5E\\u024C\\u2C64\\uA75A\\uA7A6\\uA782\"\"\"},\n",
    "    {'base': 'S', 'letters': \"\"\"\\u0053\\u24C8\\uFF33\\u1E9E\\u015A\\u1E64\\u015C\n",
    "        \\u1E60\\u0160\\u1E66\\u1E62\\u1E68\\u0218\\u015E\\u2C7E\\uA7A8\\uA784\"\"\"},\n",
    "    {'base': 'T', 'letters': \"\"\"\\u0054\\u24C9\\uFF34\\u1E6A\\u0164\\u1E6C\\u021A\n",
    "        \\u0162\\u1E70\\u1E6E\\u0166\\u01AC\\u01AE\\u023E\\uA786\"\"\"},\n",
    "    {'base': 'TZ', 'letters': \"\"\"\\uA728\"\"\"},\n",
    "    {'base': 'U', 'letters': \"\"\"\\u0055\\u24CA\\uFF35\\u00D9\\u00DA\\u00DB\\u0168\n",
    "        \\u1E78\\u016A\\u1E7A\\u016C\\u00DC\\u01DB\\u01D7\\u01D5\\u01D9\\u1EE6\\u016E\n",
    "        \\u0170\\u01D3\\u0214\\u0216\\u01AF\\u1EEA\\u1EE8\\u1EEE\\u1EEC\\u1EF0\\u1EE4\n",
    "        \\u1E72\\u0172\\u1E76\\u1E74\\u0244\"\"\"},\n",
    "    {'base': 'V', 'letters': \"\"\"\\u0056\\u24CB\\uFF36\\u1E7C\\u1E7E\\u01B2\\uA75E\n",
    "        \\u0245\"\"\"},\n",
    "    {'base': 'VY', 'letters': \"\"\"\\uA760\"\"\"},\n",
    "    {'base': 'W', 'letters': \"\"\"\\u0057\\u24CC\\uFF37\\u1E80\\u1E82\\u0174\\u1E86\n",
    "        \\u1E84\\u1E88\\u2C72\"\"\"},\n",
    "    {'base': 'X', 'letters': \"\"\"\\u0058\\u24CD\\uFF38\\u1E8A\\u1E8C\"\"\"},\n",
    "    {'base': 'Y', 'letters': \"\"\"\\u0059\\u24CE\\uFF39\\u1EF2\\u00DD\\u0176\\u1EF8\n",
    "        \\u0232\\u1E8E\\u0178\\u1EF6\\u1EF4\\u01B3\\u024E\\u1EFE\"\"\"},\n",
    "    {'base': 'Z', 'letters': \"\"\"\\u005A\\u24CF\\uFF3A\\u0179\\u1E90\\u017B\\u017D\n",
    "        \\u1E92\\u1E94\\u01B5\\u0224\\u2C7F\\u2C6B\\uA762\"\"\"},\n",
    "    {'base': 'a', 'letters': \"\"\"\\u0061\\u24D0\\uFF41\\u1E9A\\u00E0\\u00E1\\u00E2\n",
    "        \\u1EA7\\u1EA5\\u1EAB\\u1EA9\\u00E3\\u0101\\u0103\\u1EB1\\u1EAF\\u1EB5\\u1EB3\n",
    "        \\u0227\\u01E1\\u00E4\\u01DF\\u1EA3\\u00E5\\u01FB\\u01CE\\u0201\\u0203\\u1EA1\n",
    "        \\u1EAD\\u1EB7\\u1E01\\u0105\\u2C65\\u0250\"\"\"},\n",
    "    {'base': 'aa', 'letters': \"\"\"\\uA733\"\"\"},\n",
    "    {'base': 'ae', 'letters': \"\"\"\\u00E6\\u01FD\\u01E3\"\"\"},\n",
    "    {'base': 'ao', 'letters': \"\"\"\\uA735\"\"\"},\n",
    "    {'base': 'au', 'letters': \"\"\"\\uA737\"\"\"},\n",
    "    {'base': 'av', 'letters': \"\"\"\\uA739\\uA73B\"\"\"},\n",
    "    {'base': 'ay', 'letters': \"\"\"\\uA73D\"\"\"},\n",
    "    {'base': 'b', 'letters': \"\"\"\\u0062\\u24D1\\uFF42\\u1E03\\u1E05\\u1E07\\u0180\n",
    "        \\u0183\\u0253\"\"\"},\n",
    "    {'base': 'c', 'letters': \"\"\"\\u0063\\u24D2\\uFF43\\u0107\\u0109\\u010B\\u010D\n",
    "        \\u00E7\\u1E09\\u0188\\u023C\\uA73F\\u2184\"\"\"},\n",
    "    {'base': 'd', 'letters': \"\"\"\\u0064\\u24D3\\uFF44\\u1E0B\\u010F\\u1E0D\\u1E11\n",
    "        \\u1E13\\u1E0F\\u0111\\u018C\\u0256\\u0257\\uA77A\"\"\"},\n",
    "    {'base': 'dz', 'letters': \"\"\"\\u01F3\\u01C6\"\"\"},\n",
    "    {'base': 'e', 'letters': \"\"\"\\u0065\\u24D4\\uFF45\\u00E8\\u00E9\\u00EA\\u1EC1\n",
    "        \\u1EBF\\u1EC5\\u1EC3\\u1EBD\\u0113\\u1E15\\u1E17\\u0115\\u0117\\u00EB\\u1EBB\n",
    "        \\u011B\\u0205\\u0207\\u1EB9\\u1EC7\\u0229\\u1E1D\\u0119\\u1E19\\u1E1B\\u0247\n",
    "        \\u025B\\u01DD\"\"\"},\n",
    "    {'base': 'f', 'letters': \"\"\"\\u0066\\u24D5\\uFF46\\u1E1F\\u0192\\uA77C\"\"\"},\n",
    "    {'base': 'g', 'letters': \"\"\"\\u0067\\u24D6\\uFF47\\u01F5\\u011D\\u1E21\\u011F\n",
    "        \\u0121\\u01E7\\u0123\\u01E5\\u0260\\uA7A1\\u1D79\\uA77F\"\"\"},\n",
    "    {'base': 'h', 'letters': \"\"\"\\u0068\\u24D7\\uFF48\\u0125\\u1E23\\u1E27\\u021F\n",
    "        \\u1E25\\u1E29\\u1E2B\\u1E96\\u0127\\u2C68\\u2C76\\u0265\"\"\"},\n",
    "    {'base': 'hv', 'letters': \"\"\"\\u0195\"\"\"},\n",
    "    {'base': 'i', 'letters': \"\"\"\\u0069\\u24D8\\uFF49\\u00EC\\u00ED\\u00EE\\u0129\n",
    "        \\u012B\\u012D\\u00EF\\u1E2F\\u1EC9\\u01D0\\u0209\\u020B\\u1ECB\\u012F\\u1E2D\n",
    "        \\u0268\\u0131\"\"\"},\n",
    "    {'base': 'j', 'letters': \"\"\"\\u006A\\u24D9\\uFF4A\\u0135\\u01F0\\u0249\"\"\"},\n",
    "    {'base': 'k', 'letters': \"\"\"\\u006B\\u24DA\\uFF4B\\u1E31\\u01E9\\u1E33\\u0137\n",
    "        \\u1E35\\u0199\\u2C6A\\uA741\\uA743\\uA745\\uA7A3\"\"\"},\n",
    "    {'base': 'l', 'letters': \"\"\"\\u006C\\u24DB\\uFF4C\\u0140\\u013A\\u013E\\u1E37\n",
    "        \\u1E39\\u013C\\u1E3D\\u1E3B\\u017F\\u0142\\u019A\\u026B\\u2C61\\uA749\\uA781\n",
    "        \\uA747\"\"\"},\n",
    "    {'base': 'lj', 'letters': \"\"\"\\u01C9\"\"\"},\n",
    "    {'base': 'm', 'letters': \"\"\"\\u006D\\u24DC\\uFF4D\\u1E3F\\u1E41\\u1E43\\u0271\n",
    "        \\u026F\"\"\"},\n",
    "    {'base': 'n', 'letters': \"\"\"\\u006E\\u24DD\\uFF4E\\u01F9\\u0144\\u00F1\\u1E45\n",
    "        \\u0148\\u1E47\\u0146\\u1E4B\\u1E49\\u019E\\u0272\\u0149\\uA791\\uA7A5\"\"\"},\n",
    "    {'base': 'nj', 'letters': \"\"\"\\u01CC\"\"\"},\n",
    "    {'base': 'o', 'letters': \"\"\"\\u006F\\u24DE\\uFF4F\\u00F2\\u00F3\\u00F4\\u1ED3\n",
    "        \\u1ED1\\u1ED7\\u1ED5\\u00F5\\u1E4D\\u022D\\u1E4F\\u014D\\u1E51\\u1E53\\u014F\n",
    "        \\u022F\\u0231\\u00F6\\u022B\\u1ECF\\u0151\\u01D2\\u020D\\u020F\\u01A1\\u1EDD\n",
    "        \\u1EDB\\u1EE1\\u1EDF\\u1EE3\\u1ECD\\u1ED9\\u01EB\\u01ED\\u00F8\\u01FF\\u0254\n",
    "        \\uA74B\\uA74D\\u0275\"\"\"},\n",
    "    {'base': 'oi', 'letters': \"\"\"\\u01A3\"\"\"},\n",
    "    {'base': 'ou', 'letters': \"\"\"\\u0223\"\"\"},\n",
    "    {'base': 'oo', 'letters': \"\"\"\\uA74F\"\"\"},\n",
    "    {'base': 'p', 'letters': \"\"\"\\u0070\\u24DF\\uFF50\\u1E55\\u1E57\\u01A5\\u1D7D\n",
    "        \\uA751\\uA753\\uA755\"\"\"},\n",
    "    {'base': 'q', 'letters': \"\"\"\\u0071\\u24E0\\uFF51\\u024B\\uA757\\uA759\"\"\"},\n",
    "    {'base': 'r', 'letters': \"\"\"\\u0072\\u24E1\\uFF52\\u0155\\u1E59\\u0159\\u0211\n",
    "        \\u0213\\u1E5B\\u1E5D\\u0157\\u1E5F\\u024D\\u027D\\uA75B\\uA7A7\\uA783\"\"\"},\n",
    "    {'base': 's', 'letters': \"\"\"\\u0073\\u24E2\\uFF53\\u00DF\\u015B\\u1E65\\u015D\n",
    "        \\u1E61\\u0161\\u1E67\\u1E63\\u1E69\\u0219\\u015F\\u023F\\uA7A9\\uA785\\u1E9B\"\"\"},\n",
    "    {'base': 't', 'letters': \"\"\"\\u0074\\u24E3\\uFF54\\u1E6B\\u1E97\\u0165\\u1E6D\n",
    "        \\u021B\\u0163\\u1E71\\u1E6F\\u0167\\u01AD\\u0288\\u2C66\\uA787\"\"\"},\n",
    "    {'base': 'tz', 'letters': \"\"\"\\uA729\"\"\"},\n",
    "    {'base': 'u', 'letters': \"\"\"\\u0075\\u24E4\\uFF55\\u00F9\\u00FA\\u00FB\\u0169\n",
    "        \\u1E79\\u016B\\u1E7B\\u016D\\u00FC\\u01DC\\u01D8\\u01D6\\u01DA\\u1EE7\\u016F\n",
    "        \\u0171\\u01D4\\u0215\\u0217\\u01B0\\u1EEB\\u1EE9\\u1EEF\\u1EED\\u1EF1\\u1EE5\n",
    "        \\u1E73\\u0173\\u1E77\\u1E75\\u0289\"\"\"},\n",
    "    {'base': 'v', 'letters': \"\"\"\\u0076\\u24E5\\uFF56\\u1E7D\\u1E7F\\u028B\\uA75F\n",
    "        \\u028C\"\"\"},\n",
    "    {'base': 'vy', 'letters': \"\"\"\\uA761\"\"\"},\n",
    "    {'base': 'w', 'letters': \"\"\"\\u0077\\u24E6\\uFF57\\u1E81\\u1E83\\u0175\\u1E87\n",
    "        \\u1E85\\u1E98\\u1E89\\u2C73\"\"\"},\n",
    "    {'base': 'x', 'letters': \"\"\"\\u0078\\u24E7\\uFF58\\u1E8B\\u1E8D\"\"\"},\n",
    "    {'base': 'y', 'letters': \"\"\"\\u0079\\u24E8\\uFF59\\u1EF3\\u00FD\\u0177\\u1EF9\n",
    "        \\u0233\\u1E8F\\u00FF\\u1EF7\\u1E99\\u1EF5\\u01B4\\u024F\\u1EFF\"\"\"},\n",
    "    {'base': 'z', 'letters': \"\"\"\\u007A\\u24E9\\uFF5A\\u017A\\u1E91\\u017C\\u017E\n",
    "        \\u1E93\\u1E95\\u01B6\\u0225\\u0240\\u2C6C\\uA763\"\"\"}\n",
    "]"
   ]
  },
  {
   "cell_type": "markdown",
   "metadata": {},
   "source": [
    "### Build the python maketrans table"
   ]
  },
  {
   "cell_type": "code",
   "execution_count": 7,
   "metadata": {
    "ExecuteTime": {
     "end_time": "2020-04-29T17:17:28.479635Z",
     "start_time": "2020-04-29T17:17:28.473774Z"
    }
   },
   "outputs": [],
   "source": [
    "REPLACE = {}"
   ]
  },
  {
   "cell_type": "markdown",
   "metadata": {},
   "source": [
    "Add the diacritic replacements from above"
   ]
  },
  {
   "cell_type": "code",
   "execution_count": 8,
   "metadata": {
    "ExecuteTime": {
     "end_time": "2020-04-29T17:17:28.485948Z",
     "start_time": "2020-04-29T17:17:28.481081Z"
    }
   },
   "outputs": [],
   "source": [
    "for mapping in DIACRITIC_MAP:\n",
    "    base = mapping['base']\n",
    "    letters = ''.join(mapping['letters'].split())\n",
    "    for letter in letters:\n",
    "        REPLACE[letter] = base"
   ]
  },
  {
   "cell_type": "markdown",
   "metadata": {},
   "source": [
    "Add punctuation to remove.\n",
    "\n",
    "The SPECIAL_PUNCT characters are handled separately."
   ]
  },
  {
   "cell_type": "code",
   "execution_count": 9,
   "metadata": {
    "ExecuteTime": {
     "end_time": "2020-04-29T17:17:28.492200Z",
     "start_time": "2020-04-29T17:17:28.487077Z"
    }
   },
   "outputs": [],
   "source": [
    "SPECIAL_PUNCT = \"\"\"+,-./\"'°\"\"\""
   ]
  },
  {
   "cell_type": "code",
   "execution_count": 10,
   "metadata": {
    "ExecuteTime": {
     "end_time": "2020-04-29T17:17:28.502152Z",
     "start_time": "2020-04-29T17:17:28.493311Z"
    }
   },
   "outputs": [
    {
     "data": {
      "text/plain": [
       "'!#$%&()*:;<=>?@[\\\\]^_`{|}~‒–—―…«»‐‘’“”␠·*•¤¢$€£¥₩₪†‡¡¿¬#№%‰‱¶′§¨¦⁂☞∴‽※'"
      ]
     },
     "execution_count": 10,
     "metadata": {},
     "output_type": "execute_result"
    }
   ],
   "source": [
    "punct = string.punctuation\n",
    "punct += \"\"\"‒–—―…«»-‐‘’“”␠·*•¤¢$€£¥₩₪†‡°¡¿¬#№%‰‱¶′§¨¦⁂☞∴‽※\"\"\"\n",
    "punct = ''.join(c for c in punct if c not in SPECIAL_PUNCT)\n",
    "\n",
    "for char in punct:\n",
    "    REPLACE[char] = ' '\n",
    "\n",
    "punct"
   ]
  },
  {
   "cell_type": "code",
   "execution_count": 11,
   "metadata": {
    "ExecuteTime": {
     "end_time": "2020-04-29T17:17:28.508005Z",
     "start_time": "2020-04-29T17:17:28.503211Z"
    }
   },
   "outputs": [],
   "source": [
    "TRANS = str.maketrans(REPLACE)"
   ]
  },
  {
   "cell_type": "markdown",
   "metadata": {},
   "source": [
    "The regular expression for handling special punctuation"
   ]
  },
  {
   "cell_type": "code",
   "execution_count": 12,
   "metadata": {
    "ExecuteTime": {
     "end_time": "2020-04-29T17:17:28.514477Z",
     "start_time": "2020-04-29T17:17:28.509223Z"
    }
   },
   "outputs": [],
   "source": [
    "PUNCT_REGEX = regex.compile(rf'(?<!\\d)[{SPECIAL_PUNCT}](?!\\d)')"
   ]
  },
  {
   "cell_type": "markdown",
   "metadata": {},
   "source": [
    "Normalize text by:\n",
    "\n",
    "1. Replacing the diacritics from the table above\n",
    "1. Replacing punctuation (except for [+,./-]) with spaces (Steps 1 & 2 are combined)\n",
    "1. Replacing [+,./-] with a space if it is not preceded or followed by a digit \\d\n",
    "1. Remove leading and trailing spaces and compress interior spaces into a single space\n",
    "1. Lower case the remaining text"
   ]
  },
  {
   "cell_type": "code",
   "execution_count": 13,
   "metadata": {
    "ExecuteTime": {
     "end_time": "2020-04-29T17:17:28.520561Z",
     "start_time": "2020-04-29T17:17:28.515502Z"
    }
   },
   "outputs": [],
   "source": [
    "def normalize_text(text):\n",
    "    text = text.translate(TRANS)\n",
    "    text = PUNCT_REGEX.sub(' ', text)\n",
    "    text = ' '.join(text.split())\n",
    "    text = text.lower()\n",
    "    return text"
   ]
  },
  {
   "cell_type": "code",
   "execution_count": 14,
   "metadata": {
    "ExecuteTime": {
     "end_time": "2020-04-29T17:17:28.528228Z",
     "start_time": "2020-04-29T17:17:28.521600Z"
    }
   },
   "outputs": [
    {
     "data": {
      "text/plain": [
       "'gorlitz biesnitz gartensparte am lohnschen park hecke am spartenlokal zum edelweis ca 15 m hugelaufwarts vom aushangeschild an der seitenfront'"
      ]
     },
     "execution_count": 14,
     "metadata": {},
     "output_type": "execute_result"
    }
   ],
   "source": [
    "test = \"\"\"  Görlitz-Biesnitz, {Gartensparte (\"Am Löhnschen Park\");\n",
    "    Hecke am Spartenlokal   \"Zum Edelweiß\": \n",
    "    [ca.] 15 m hügelaufwärts vom Aushängeschild an der Seitenfront  \"\"\"\n",
    "\n",
    "normalize_text(test)"
   ]
  },
  {
   "cell_type": "markdown",
   "metadata": {},
   "source": [
    "Convert strings to floats"
   ]
  },
  {
   "cell_type": "markdown",
   "metadata": {},
   "source": [
    "## Normalize Database\n",
    "\n",
    "### Normalize occurrence_raw"
   ]
  },
  {
   "cell_type": "code",
   "execution_count": 15,
   "metadata": {
    "ExecuteTime": {
     "end_time": "2020-04-29T17:17:28.536568Z",
     "start_time": "2020-04-29T17:17:28.529129Z"
    },
    "scrolled": true
   },
   "outputs": [
    {
     "data": {
      "text/plain": [
       "['continent',\n",
       " 'coordinatePrecision',\n",
       " 'country',\n",
       " 'countryCode',\n",
       " 'county',\n",
       " 'geodeticDatum',\n",
       " 'georeferenceSources',\n",
       " 'higherGeography',\n",
       " 'island',\n",
       " 'islandGroup',\n",
       " 'locality',\n",
       " 'locationRemarks',\n",
       " 'municipality',\n",
       " 'stateProvince',\n",
       " 'verbatimCoordinateSystem',\n",
       " 'verbatimCoordinates',\n",
       " 'verbatimDepth',\n",
       " 'verbatimElevation',\n",
       " 'verbatimLocality',\n",
       " 'waterBody']"
      ]
     },
     "execution_count": 15,
     "metadata": {},
     "output_type": "execute_result"
    }
   ],
   "source": [
    "SKIP = \"\"\"\n",
    "    coreid\n",
    "    decimalLatitude\n",
    "    decimalLongitude\n",
    "    \"\"\".split()\n",
    "\n",
    "FLOATS = \"\"\"\n",
    "    coordinateUncertaintyInMeters\n",
    "    maximumDepthInMeters\n",
    "    maximumElevationInMeters\n",
    "    minimumDepthInMeters\n",
    "    minimumElevationInMeters\n",
    "    \"\"\".split()\n",
    "\n",
    "sql = 'PRAGMA table_info(occurrence_raw);'\n",
    "\n",
    "with sqlite3.connect(IN_DB) as cxn_in:\n",
    "    cxn_in.row_factory = sqlite3.Row\n",
    "    TEXTS = [r[1] for r in cxn_in.execute(sql)\n",
    "             if r[1] not in FLOATS + SKIP]\n",
    "\n",
    "TEXTS"
   ]
  },
  {
   "cell_type": "markdown",
   "metadata": {},
   "source": [
    "Normalize the data and copy the fields over to the new database."
   ]
  },
  {
   "cell_type": "code",
   "execution_count": 16,
   "metadata": {
    "ExecuteTime": {
     "end_time": "2020-04-29T17:59:00.281309Z",
     "start_time": "2020-04-29T17:17:28.537782Z"
    }
   },
   "outputs": [
    {
     "name": "stderr",
     "output_type": "stream",
     "text": [
      "61it [41:31, 40.85s/it]\n"
     ]
    }
   ],
   "source": [
    "sql = 'select * from occurrence_raw;'\n",
    "\n",
    "with sqlite3.connect(IN_DB) as cxn_in:\n",
    "    with sqlite3.connect(OUT_DB) as cxn_out:\n",
    "\n",
    "        reader = pd.read_sql(sql, cxn_in, chunksize=CHUNK)\n",
    "\n",
    "        if_exists = 'replace'\n",
    "\n",
    "        for df in tqdm(reader):\n",
    "\n",
    "            for col in FLOATS:\n",
    "                df[col] = pd.to_numeric(df[col], errors='coerce')\n",
    "\n",
    "            for col in TEXTS:\n",
    "                df[col] = df[col].apply(normalize_text)\n",
    "\n",
    "            df.to_sql('occurrence_raw', cxn_out,\n",
    "                      if_exists=if_exists, index=False)\n",
    "\n",
    "            if_exists = 'append'"
   ]
  },
  {
   "cell_type": "markdown",
   "metadata": {},
   "source": [
    "### Normalize occurrence"
   ]
  },
  {
   "cell_type": "code",
   "execution_count": 17,
   "metadata": {
    "ExecuteTime": {
     "end_time": "2020-04-29T17:59:00.286757Z",
     "start_time": "2020-04-29T17:59:00.282500Z"
    }
   },
   "outputs": [
    {
     "data": {
      "text/plain": [
       "['continent',\n",
       " 'country',\n",
       " 'isoCountryCode',\n",
       " 'county',\n",
       " 'locality',\n",
       " 'municipality',\n",
       " 'stateProvince',\n",
       " 'verbatimLocality',\n",
       " 'waterBody']"
      ]
     },
     "execution_count": 17,
     "metadata": {},
     "output_type": "execute_result"
    }
   ],
   "source": [
    "SKIP = \"\"\"\n",
    "    coreid\n",
    "    geoPoint\n",
    "    \"\"\".split()\n",
    "\n",
    "FLOATS = \"\"\"\n",
    "    coordinateUncertaintyInMeters\n",
    "    maximumDepthInMeters\n",
    "    maximumElevationInMeters\n",
    "    minimumDepthInMeters\n",
    "    minimumElevationInMeters\n",
    "    \"\"\".split()\n",
    "\n",
    "sql = 'PRAGMA table_info(occurrence);'\n",
    "\n",
    "with sqlite3.connect(IN_DB) as cxn_in:\n",
    "    cxn_in.row_factory = sqlite3.Row\n",
    "    TEXTS = [r[1] for r in cxn_in.execute(sql)\n",
    "             if r[1] not in FLOATS + SKIP]\n",
    "\n",
    "TEXTS"
   ]
  },
  {
   "cell_type": "code",
   "execution_count": 18,
   "metadata": {
    "ExecuteTime": {
     "end_time": "2020-04-29T18:27:23.983149Z",
     "start_time": "2020-04-29T17:59:00.287830Z"
    }
   },
   "outputs": [
    {
     "name": "stderr",
     "output_type": "stream",
     "text": [
      "61it [28:23, 27.93s/it]\n"
     ]
    }
   ],
   "source": [
    "sql = 'select * from occurrence;'\n",
    "\n",
    "with sqlite3.connect(IN_DB) as cxn_in:\n",
    "    with sqlite3.connect(OUT_DB) as cxn_out:\n",
    "\n",
    "        reader = pd.read_sql(sql, cxn_in, chunksize=CHUNK)\n",
    "\n",
    "        if_exists = 'replace'\n",
    "\n",
    "        for df in tqdm(reader):\n",
    "\n",
    "            for col in FLOATS:\n",
    "                df[col] = pd.to_numeric(df[col], errors='coerce')\n",
    "\n",
    "            for col in TEXTS:\n",
    "                df[col] = df[col].apply(normalize_text)\n",
    "\n",
    "            df.to_sql('occurrence', cxn_out,\n",
    "                      if_exists=if_exists, index=False)\n",
    "\n",
    "            if_exists = 'append'"
   ]
  },
  {
   "cell_type": "markdown",
   "metadata": {},
   "source": [
    "## Create a Hash Field & a Hash Collision Field"
   ]
  },
  {
   "cell_type": "code",
   "execution_count": 25,
   "metadata": {
    "ExecuteTime": {
     "end_time": "2020-04-29T20:35:07.072033Z",
     "start_time": "2020-04-29T20:35:07.044762Z"
    }
   },
   "outputs": [],
   "source": [
    "with sqlite3.connect(OUT_DB) as cxn:\n",
    "    sql = \"\"\"\n",
    "        alter table occurrence add column l_hash;\n",
    "        alter table occurrence add column v_hash;\n",
    "        alter table occurrence_raw add column l_hash;\n",
    "        alter table occurrence_raw add column v_hash;\n",
    "        \"\"\"\n",
    "    cxn.execute(sql)"
   ]
  },
  {
   "cell_type": "code",
   "execution_count": null,
   "metadata": {},
   "outputs": [],
   "source": []
  }
 ],
 "metadata": {
  "kernelspec": {
   "display_name": "Python 3",
   "language": "python",
   "name": "python3"
  },
  "language_info": {
   "codemirror_mode": {
    "name": "ipython",
    "version": 3
   },
   "file_extension": ".py",
   "mimetype": "text/x-python",
   "name": "python",
   "nbconvert_exporter": "python",
   "pygments_lexer": "ipython3",
   "version": "3.8.0"
  },
  "varInspector": {
   "cols": {
    "lenName": 16,
    "lenType": 16,
    "lenVar": 40
   },
   "kernels_config": {
    "python": {
     "delete_cmd_postfix": "",
     "delete_cmd_prefix": "del ",
     "library": "var_list.py",
     "varRefreshCmd": "print(var_dic_list())"
    },
    "r": {
     "delete_cmd_postfix": ") ",
     "delete_cmd_prefix": "rm(",
     "library": "var_list.r",
     "varRefreshCmd": "cat(var_dic_list()) "
    }
   },
   "types_to_exclude": [
    "module",
    "function",
    "builtin_function_or_method",
    "instance",
    "_Feature"
   ],
   "window_display": false
  }
 },
 "nbformat": 4,
 "nbformat_minor": 4
}
