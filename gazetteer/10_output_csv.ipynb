{
 "cells": [
  {
   "cell_type": "code",
   "execution_count": 1,
   "metadata": {
    "ExecuteTime": {
     "end_time": "2020-05-05T15:27:42.094546Z",
     "start_time": "2020-05-05T15:27:41.710399Z"
    }
   },
   "outputs": [],
   "source": [
    "import io\n",
    "import os\n",
    "import sqlite3\n",
    "import zipfile\n",
    "from pathlib import Path\n",
    "\n",
    "import dask.dataframe as dd\n",
    "import pandas as pd\n",
    "import regex\n",
    "from tqdm import tqdm"
   ]
  },
  {
   "cell_type": "code",
   "execution_count": 2,
   "metadata": {
    "ExecuteTime": {
     "end_time": "2020-05-05T15:27:42.398028Z",
     "start_time": "2020-05-05T15:27:42.390361Z"
    }
   },
   "outputs": [],
   "source": [
    "DATA_DIR = Path('..') / 'data'\n",
    "INTERIM_DIR = DATA_DIR / '01_interim'\n",
    "\n",
    "DB = INTERIM_DIR / 'gazetteer_01_idigbio_2020-03-30.db'\n",
    "CSV = INTERIM_DIR / 'idigbio_2020-03-30b.csv'\n",
    "\n",
    "CHUNK = 1_000_000"
   ]
  },
  {
   "cell_type": "code",
   "execution_count": 3,
   "metadata": {
    "ExecuteTime": {
     "end_time": "2020-05-05T15:27:43.453405Z",
     "start_time": "2020-05-05T15:27:43.097872Z"
    }
   },
   "outputs": [],
   "source": [
    "if CSV.exists():\n",
    "    os.remove(CSV)"
   ]
  },
  {
   "cell_type": "code",
   "execution_count": null,
   "metadata": {},
   "outputs": [],
   "source": [
    "sql = \"\"\"\n",
    "    create table if not exists occ_coreid on occurrence (coreid);\n",
    "    create table if not exists raw_coreid on occurrence_raw (coreid);\n",
    "\"\"\"\n",
    "\n",
    "with sqlite3.connect(DB) as cxn:\n",
    "    cxn.executescript(sql)"
   ]
  },
  {
   "cell_type": "code",
   "execution_count": 5,
   "metadata": {
    "ExecuteTime": {
     "end_time": "2020-05-05T15:27:58.146960Z",
     "start_time": "2020-05-05T15:27:58.144956Z"
    }
   },
   "outputs": [],
   "source": [
    "sql = \"\"\"\n",
    "    select occurrence_raw.*,\n",
    "        isoCountryCode as idigbio_countrycode,\n",
    "        json_extract(geoPoint, '$.lat') as idigbio_decimallatitude_wgs84,\n",
    "        json_extract(geoPoint, '$.lon') as idigbio_decimallongitude_wgs84\n",
    "    from occurrence_raw\n",
    "    left join occurrence using (coreid);\n",
    "    \"\"\""
   ]
  },
  {
   "cell_type": "code",
   "execution_count": 6,
   "metadata": {
    "ExecuteTime": {
     "end_time": "2020-05-05T15:50:36.871188Z",
     "start_time": "2020-05-05T15:28:00.891977Z"
    }
   },
   "outputs": [
    {
     "name": "stderr",
     "output_type": "stream",
     "text": [
      "61it [22:35, 22.23s/it]\n"
     ]
    }
   ],
   "source": [
    "with open(CSV, 'a') as out:\n",
    "    with sqlite3.connect(DB) as cxn:\n",
    "\n",
    "        reader = pd.read_sql(sql, cxn, chunksize=CHUNK)\n",
    "\n",
    "        header = True\n",
    "\n",
    "        for df in tqdm(reader):\n",
    "            df.to_csv(out, header=header, index=False)\n",
    "\n",
    "            header = False"
   ]
  },
  {
   "cell_type": "code",
   "execution_count": 7,
   "metadata": {
    "ExecuteTime": {
     "end_time": "2020-05-05T15:50:38.167600Z",
     "start_time": "2020-05-05T15:50:38.024125Z"
    }
   },
   "outputs": [
    {
     "name": "stdout",
     "output_type": "stream",
     "text": [
      "coreid,continent,coordinatePrecision,coordinateUncertaintyInMeters,country,countryCode,county,decimalLatitude,decimalLongitude,geodeticDatum,georeferenceSources,higherGeography,island,islandGroup,locality,locationRemarks,maximumDepthInMeters,maximumElevationInMeters,minimumDepthInMeters,minimumElevationInMeters,municipality,stateProvince,verbatimCoordinateSystem,verbatimCoordinates,verbatimDepth,verbatimElevation,verbatimLocality,waterBody,idigbio_countrycode,idigbio_decimallatitude_wgs84,idigbio_decimallongitude_wgs84\r\n"
     ]
    }
   ],
   "source": [
    "!head -1 \"$CSV\""
   ]
  },
  {
   "cell_type": "code",
   "execution_count": null,
   "metadata": {},
   "outputs": [],
   "source": []
  }
 ],
 "metadata": {
  "kernelspec": {
   "display_name": "Python 3",
   "language": "python",
   "name": "python3"
  },
  "language_info": {
   "codemirror_mode": {
    "name": "ipython",
    "version": 3
   },
   "file_extension": ".py",
   "mimetype": "text/x-python",
   "name": "python",
   "nbconvert_exporter": "python",
   "pygments_lexer": "ipython3",
   "version": "3.8.2"
  },
  "varInspector": {
   "cols": {
    "lenName": 16,
    "lenType": 16,
    "lenVar": 40
   },
   "kernels_config": {
    "python": {
     "delete_cmd_postfix": "",
     "delete_cmd_prefix": "del ",
     "library": "var_list.py",
     "varRefreshCmd": "print(var_dic_list())"
    },
    "r": {
     "delete_cmd_postfix": ") ",
     "delete_cmd_prefix": "rm(",
     "library": "var_list.r",
     "varRefreshCmd": "cat(var_dic_list()) "
    }
   },
   "types_to_exclude": [
    "module",
    "function",
    "builtin_function_or_method",
    "instance",
    "_Feature"
   ],
   "window_display": false
  }
 },
 "nbformat": 4,
 "nbformat_minor": 4
}
